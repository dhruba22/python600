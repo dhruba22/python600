{
 "cells": [
  {
   "cell_type": "markdown",
   "id": "2a091c4c",
   "metadata": {},
   "source": [
    "## Are access specifiers used in python? - No but has concept of limiting behaviour of variables: private attribute are not inherited"
   ]
  },
  {
   "cell_type": "code",
   "execution_count": 4,
   "id": "b5ad7858",
   "metadata": {},
   "outputs": [],
   "source": [
    "class Teacher: # public\n",
    "    name = 'Dhruba'\n",
    "    _address = 'Patan' # protected\n",
    "    __age = 25 # private\n",
    "    "
   ]
  },
  {
   "cell_type": "code",
   "execution_count": 5,
   "id": "de8ae980",
   "metadata": {},
   "outputs": [],
   "source": [
    "t = Teacher()"
   ]
  },
  {
   "cell_type": "code",
   "execution_count": 6,
   "id": "b126ae54",
   "metadata": {},
   "outputs": [
    {
     "data": {
      "text/plain": [
       "'Dhruba'"
      ]
     },
     "execution_count": 6,
     "metadata": {},
     "output_type": "execute_result"
    }
   ],
   "source": [
    "t.name"
   ]
  },
  {
   "cell_type": "code",
   "execution_count": 10,
   "id": "40a78da1",
   "metadata": {},
   "outputs": [
    {
     "data": {
      "text/plain": [
       "'Patan'"
      ]
     },
     "execution_count": 10,
     "metadata": {},
     "output_type": "execute_result"
    }
   ],
   "source": [
    "t._address"
   ]
  },
  {
   "cell_type": "code",
   "execution_count": 11,
   "id": "0519214a",
   "metadata": {},
   "outputs": [
    {
     "ename": "AttributeError",
     "evalue": "'Teacher' object has no attribute '__age'",
     "output_type": "error",
     "traceback": [
      "\u001b[1;31m---------------------------------------------------------------------------\u001b[0m",
      "\u001b[1;31mAttributeError\u001b[0m                            Traceback (most recent call last)",
      "\u001b[1;32m~\\AppData\\Local\\Temp\\ipykernel_1840\\2494101733.py\u001b[0m in \u001b[0;36m<module>\u001b[1;34m\u001b[0m\n\u001b[1;32m----> 1\u001b[1;33m \u001b[0mt\u001b[0m\u001b[1;33m.\u001b[0m\u001b[0m__age\u001b[0m\u001b[1;33m\u001b[0m\u001b[1;33m\u001b[0m\u001b[0m\n\u001b[0m",
      "\u001b[1;31mAttributeError\u001b[0m: 'Teacher' object has no attribute '__age'"
     ]
    }
   ],
   "source": [
    "t.__age # it can be view from this command"
   ]
  },
  {
   "cell_type": "markdown",
   "id": "015419b1",
   "metadata": {},
   "source": [
    "## Operator overloading\n",
    "* Operator overloading gives extended meaning beyond their predefined operational meaning - Polymorphism"
   ]
  },
  {
   "cell_type": "code",
   "execution_count": 12,
   "id": "99176c54",
   "metadata": {},
   "outputs": [
    {
     "data": {
      "text/plain": [
       "6"
      ]
     },
     "execution_count": 12,
     "metadata": {},
     "output_type": "execute_result"
    }
   ],
   "source": [
    "2+4"
   ]
  },
  {
   "cell_type": "code",
   "execution_count": 13,
   "id": "25ead469",
   "metadata": {},
   "outputs": [
    {
     "data": {
      "text/plain": [
       "'Hello World'"
      ]
     },
     "execution_count": 13,
     "metadata": {},
     "output_type": "execute_result"
    }
   ],
   "source": [
    "\"Hello \" + \"World\""
   ]
  },
  {
   "cell_type": "code",
   "execution_count": 14,
   "id": "16db3b91",
   "metadata": {},
   "outputs": [
    {
     "data": {
      "text/plain": [
       "[1, 5, 6, 44, 8]"
      ]
     },
     "execution_count": 14,
     "metadata": {},
     "output_type": "execute_result"
    }
   ],
   "source": [
    "[1,5,6] + [44,8]"
   ]
  },
  {
   "cell_type": "code",
   "execution_count": 15,
   "id": "e935c178",
   "metadata": {},
   "outputs": [
    {
     "data": {
      "text/plain": [
       "5"
      ]
     },
     "execution_count": 15,
     "metadata": {},
     "output_type": "execute_result"
    }
   ],
   "source": [
    "len('Hello')"
   ]
  },
  {
   "cell_type": "code",
   "execution_count": 16,
   "id": "d1f63565",
   "metadata": {},
   "outputs": [
    {
     "data": {
      "text/plain": [
       "3"
      ]
     },
     "execution_count": 16,
     "metadata": {},
     "output_type": "execute_result"
    }
   ],
   "source": [
    "len([1, 5,6])"
   ]
  },
  {
   "cell_type": "code",
   "execution_count": 17,
   "id": "d07228d3",
   "metadata": {},
   "outputs": [
    {
     "data": {
      "text/plain": [
       "2"
      ]
     },
     "execution_count": 17,
     "metadata": {},
     "output_type": "execute_result"
    }
   ],
   "source": [
    "len({5, 9})"
   ]
  },
  {
   "cell_type": "markdown",
   "id": "3e851054",
   "metadata": {},
   "source": [
    "### Operator overloading in user defned class object"
   ]
  },
  {
   "cell_type": "code",
   "execution_count": 18,
   "id": "aae244d5",
   "metadata": {},
   "outputs": [],
   "source": [
    "class Account:\n",
    "    def __init__(self, name, balance):\n",
    "        self.name = name\n",
    "        self.balance = balance"
   ]
  },
  {
   "cell_type": "code",
   "execution_count": 19,
   "id": "0e972b62",
   "metadata": {},
   "outputs": [],
   "source": [
    "ac1 = Account('Ram', 567695643)\n",
    "ac2 = Account('Dhruba', 345436547456) # this can not be add by + operator)"
   ]
  },
  {
   "cell_type": "code",
   "execution_count": 20,
   "id": "73548f3e",
   "metadata": {},
   "outputs": [
    {
     "ename": "TypeError",
     "evalue": "unsupported operand type(s) for +: 'Account' and 'Account'",
     "output_type": "error",
     "traceback": [
      "\u001b[1;31m---------------------------------------------------------------------------\u001b[0m",
      "\u001b[1;31mTypeError\u001b[0m                                 Traceback (most recent call last)",
      "\u001b[1;32m~\\AppData\\Local\\Temp\\ipykernel_1840\\2197426.py\u001b[0m in \u001b[0;36m<module>\u001b[1;34m\u001b[0m\n\u001b[1;32m----> 1\u001b[1;33m \u001b[0mac1\u001b[0m \u001b[1;33m+\u001b[0m \u001b[0mac2\u001b[0m\u001b[1;33m\u001b[0m\u001b[1;33m\u001b[0m\u001b[0m\n\u001b[0m",
      "\u001b[1;31mTypeError\u001b[0m: unsupported operand type(s) for +: 'Account' and 'Account'"
     ]
    }
   ],
   "source": [
    "ac1 + ac2 # so in this case need to write below overloadin function"
   ]
  },
  {
   "cell_type": "code",
   "execution_count": 21,
   "id": "0c111015",
   "metadata": {},
   "outputs": [],
   "source": [
    "class Account:\n",
    "    def __init__(self, name, balance):\n",
    "        self.name = name\n",
    "        self.balance = balance\n",
    "        \n",
    "    def __add__(self, otherobj): # using self is donders ac function\n",
    "        return self.balance + otherobj.balance"
   ]
  },
  {
   "cell_type": "code",
   "execution_count": 22,
   "id": "586c4424",
   "metadata": {},
   "outputs": [],
   "source": [
    "ac1 = Account('Ram', 34534345)\n",
    "ac2 = Account('Dhruba', 4543)"
   ]
  },
  {
   "cell_type": "code",
   "execution_count": 23,
   "id": "31431226",
   "metadata": {},
   "outputs": [
    {
     "data": {
      "text/plain": [
       "34538888"
      ]
     },
     "execution_count": 23,
     "metadata": {},
     "output_type": "execute_result"
    }
   ],
   "source": [
    "ac1 + ac2"
   ]
  },
  {
   "cell_type": "code",
   "execution_count": null,
   "id": "66743151",
   "metadata": {},
   "outputs": [],
   "source": [
    "ac1 + 5 # ac1 and 5 is of defferent "
   ]
  }
 ],
 "metadata": {
  "kernelspec": {
   "display_name": "Python 3 (ipykernel)",
   "language": "python",
   "name": "python3"
  },
  "language_info": {
   "codemirror_mode": {
    "name": "ipython",
    "version": 3
   },
   "file_extension": ".py",
   "mimetype": "text/x-python",
   "name": "python",
   "nbconvert_exporter": "python",
   "pygments_lexer": "ipython3",
   "version": "3.9.13"
  }
 },
 "nbformat": 4,
 "nbformat_minor": 5
}
