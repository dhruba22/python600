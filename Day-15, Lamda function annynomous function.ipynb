{
 "cells": [
  {
   "cell_type": "markdown",
   "id": "086f0d81",
   "metadata": {},
   "source": [
    "# Lambda function\n",
    "```python\n",
    "# x is an argument to lambda function\n",
    "lamda x: Expression\n",
    "```\n",
    "### we generally use lambda function with\n",
    "* map()\n",
    "* filter()"
   ]
  },
  {
   "cell_type": "code",
   "execution_count": 3,
   "id": "e1bde1bb",
   "metadata": {},
   "outputs": [
    {
     "data": {
      "text/plain": [
       "<map at 0x1b0068cad30>"
      ]
     },
     "execution_count": 3,
     "metadata": {},
     "output_type": "execute_result"
    }
   ],
   "source": [
    "nums = [3,5,7,9]\n",
    "map(lambda x: x**3, nums)"
   ]
  },
  {
   "cell_type": "code",
   "execution_count": 4,
   "id": "deff2bb9",
   "metadata": {},
   "outputs": [
    {
     "data": {
      "text/plain": [
       "[27, 125, 343, 729]"
      ]
     },
     "execution_count": 4,
     "metadata": {},
     "output_type": "execute_result"
    }
   ],
   "source": [
    "list(map(lambda x: x**3, nums)) # map is transform the value one to another"
   ]
  },
  {
   "cell_type": "code",
   "execution_count": 5,
   "id": "07660ce3",
   "metadata": {},
   "outputs": [
    {
     "data": {
      "text/plain": [
       "[9, 25, 49, 81]"
      ]
     },
     "execution_count": 5,
     "metadata": {},
     "output_type": "execute_result"
    }
   ],
   "source": [
    "list(map(lambda x: x ** 2, nums))"
   ]
  },
  {
   "cell_type": "code",
   "execution_count": 6,
   "id": "82730a67",
   "metadata": {},
   "outputs": [],
   "source": [
    "nums = range(1, 10)"
   ]
  },
  {
   "cell_type": "code",
   "execution_count": 7,
   "id": "9c2a6409",
   "metadata": {},
   "outputs": [
    {
     "data": {
      "text/plain": [
       "<filter at 0x1b0068cafd0>"
      ]
     },
     "execution_count": 7,
     "metadata": {},
     "output_type": "execute_result"
    }
   ],
   "source": [
    "filter(lambda x: x % 2 == 0, nums)"
   ]
  },
  {
   "cell_type": "code",
   "execution_count": 8,
   "id": "0cc84fed",
   "metadata": {},
   "outputs": [
    {
     "data": {
      "text/plain": [
       "[2, 4, 6, 8]"
      ]
     },
     "execution_count": 8,
     "metadata": {},
     "output_type": "execute_result"
    }
   ],
   "source": [
    "list(filter(lambda x: x % 2 == 0, nums)) # even numbers only"
   ]
  },
  {
   "cell_type": "code",
   "execution_count": 9,
   "id": "5df5504c",
   "metadata": {},
   "outputs": [
    {
     "data": {
      "text/plain": [
       "[1, 3, 5, 7, 9]"
      ]
     },
     "execution_count": 9,
     "metadata": {},
     "output_type": "execute_result"
    }
   ],
   "source": [
    "list(filter(lambda x: x % 2 != 0, nums)) # odd numbers"
   ]
  },
  {
   "cell_type": "code",
   "execution_count": 11,
   "id": "8c10fd53",
   "metadata": {},
   "outputs": [],
   "source": [
    "def test(x):\n",
    "    return x ** 3"
   ]
  },
  {
   "cell_type": "code",
   "execution_count": 12,
   "id": "b84c41f0",
   "metadata": {},
   "outputs": [
    {
     "data": {
      "text/plain": [
       "[125, 216]"
      ]
     },
     "execution_count": 12,
     "metadata": {},
     "output_type": "execute_result"
    }
   ],
   "source": [
    "list(map(test, [5, 6]))"
   ]
  }
 ],
 "metadata": {
  "kernelspec": {
   "display_name": "Python 3 (ipykernel)",
   "language": "python",
   "name": "python3"
  },
  "language_info": {
   "codemirror_mode": {
    "name": "ipython",
    "version": 3
   },
   "file_extension": ".py",
   "mimetype": "text/x-python",
   "name": "python",
   "nbconvert_exporter": "python",
   "pygments_lexer": "ipython3",
   "version": "3.9.13"
  }
 },
 "nbformat": 4,
 "nbformat_minor": 5
}
