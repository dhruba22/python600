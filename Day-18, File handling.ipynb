{
 "cells": [
  {
   "cell_type": "markdown",
   "id": "e24cc918",
   "metadata": {},
   "source": [
    "## File handling\n",
    "* open()\n",
    "* close()\n",
    "### different modes to open file:\n",
    "* read() : 'r'\n",
    "* close(): 'w'\n",
    "* append:  'a'\n",
    "* create: 'c'"
   ]
  },
  {
   "cell_type": "code",
   "execution_count": null,
   "id": "27ae3ee0",
   "metadata": {},
   "outputs": [],
   "source": [
    "file = open('read.txt', 'r')\n",
    "text = file.read()\n",
    "print(text)"
   ]
  },
  {
   "cell_type": "code",
   "execution_count": null,
   "id": "f28f7c47",
   "metadata": {},
   "outputs": [],
   "source": [
    "len(text)"
   ]
  },
  {
   "cell_type": "code",
   "execution_count": null,
   "id": "57961c9c",
   "metadata": {},
   "outputs": [],
   "source": [
    "text[1]"
   ]
  },
  {
   "cell_type": "code",
   "execution_count": null,
   "id": "13f99baa",
   "metadata": {},
   "outputs": [],
   "source": [
    "text[2]"
   ]
  },
  {
   "cell_type": "code",
   "execution_count": null,
   "id": "97230e30",
   "metadata": {},
   "outputs": [],
   "source": [
    "file = open('read.txt', 'r')\n",
    "text = file.readline() # for 1st paragraph only\n",
    "print(text)"
   ]
  },
  {
   "cell_type": "code",
   "execution_count": null,
   "id": "0261db0a",
   "metadata": {},
   "outputs": [],
   "source": [
    "file = open('read.txt', 'r') # for the purpose of close open file \n",
    "text = file.read()\n",
    "file.close()"
   ]
  },
  {
   "cell_type": "code",
   "execution_count": null,
   "id": "ec8d7ffb",
   "metadata": {},
   "outputs": [],
   "source": [
    "text"
   ]
  },
  {
   "cell_type": "markdown",
   "id": "10a511fe",
   "metadata": {},
   "source": [
    "### Alternative way"
   ]
  },
  {
   "cell_type": "code",
   "execution_count": null,
   "id": "3606f574",
   "metadata": {},
   "outputs": [],
   "source": [
    "with open('read.txt', 'r') as file:\n",
    "    text = file.read()"
   ]
  },
  {
   "cell_type": "code",
   "execution_count": null,
   "id": "65bc2204",
   "metadata": {},
   "outputs": [],
   "source": [
    "print(text)"
   ]
  },
  {
   "cell_type": "markdown",
   "id": "91dddc11",
   "metadata": {},
   "source": [
    "### Write mode: new file is created if file doesnot exist, if exist replace and create new."
   ]
  },
  {
   "cell_type": "code",
   "execution_count": 1,
   "id": "806edb44",
   "metadata": {},
   "outputs": [],
   "source": [
    "with open('brandnew.txt', 'w') as file:\n",
    "    file.write(\"this file is not exist, we are making a new file. \")"
   ]
  },
  {
   "cell_type": "code",
   "execution_count": 2,
   "id": "4ed38469",
   "metadata": {},
   "outputs": [
    {
     "name": "stdout",
     "output_type": "stream",
     "text": [
      "this file is not exist, we are making a new file. \n"
     ]
    }
   ],
   "source": [
    "with open('brandnew.txt', 'r') as file:\n",
    "    text = file.read()\n",
    "    \n",
    "print(text)"
   ]
  },
  {
   "cell_type": "code",
   "execution_count": 3,
   "id": "26b89bfa",
   "metadata": {},
   "outputs": [],
   "source": [
    "# brandnew.txt aile exist garxa maile tesma feri update garn khojxu"
   ]
  },
  {
   "cell_type": "code",
   "execution_count": 5,
   "id": "870573a3",
   "metadata": {},
   "outputs": [],
   "source": [
    "with open('brandnew.txt', 'w') as file:\n",
    "    file.write(\"replace the old file. \")"
   ]
  },
  {
   "cell_type": "code",
   "execution_count": 6,
   "id": "94ef2729",
   "metadata": {},
   "outputs": [
    {
     "name": "stdout",
     "output_type": "stream",
     "text": [
      "replace the old file. \n"
     ]
    }
   ],
   "source": [
    "with open('brandnew.txt', 'r') as file:\n",
    "    text = file.read()\n",
    "\n",
    "print(text)"
   ]
  },
  {
   "cell_type": "markdown",
   "id": "2f99f2fd",
   "metadata": {},
   "source": [
    "### append mode: creates a new file if it doesn't exist. if it exist append to existing file"
   ]
  },
  {
   "cell_type": "code",
   "execution_count": 7,
   "id": "7f6b9462",
   "metadata": {},
   "outputs": [],
   "source": [
    "with open('append.txt', 'a') as file:\n",
    "    file.write(\"Append mode creates a new file if it doesnot exist\")"
   ]
  },
  {
   "cell_type": "code",
   "execution_count": 9,
   "id": "0212c48b",
   "metadata": {},
   "outputs": [
    {
     "name": "stdout",
     "output_type": "stream",
     "text": [
      "Append mode creates a new file if it doesnot exist\n"
     ]
    }
   ],
   "source": [
    "with open('append.txt', 'r') as file:\n",
    "    text = file.read()\n",
    "print(text)"
   ]
  },
  {
   "cell_type": "code",
   "execution_count": 12,
   "id": "563bdbfe",
   "metadata": {},
   "outputs": [],
   "source": [
    "with open('append.txt', 'a') as file:\n",
    "    file.write(\"append mode appends new text in existing one if the file is exist.\")"
   ]
  },
  {
   "cell_type": "code",
   "execution_count": 14,
   "id": "06eba234",
   "metadata": {},
   "outputs": [
    {
     "name": "stdout",
     "output_type": "stream",
     "text": [
      "Append mode creates a new file if it doesnot existappend mode appends new text in existing one if the file exist.append mode appends new text in existing one if the file is exist.\n"
     ]
    }
   ],
   "source": [
    "with open('append.txt', 'r') as file:\n",
    "    text = file.read()\n",
    "print(text)"
   ]
  },
  {
   "cell_type": "markdown",
   "id": "48eb2a01",
   "metadata": {},
   "source": [
    "### create mode (assignment)"
   ]
  },
  {
   "cell_type": "code",
   "execution_count": null,
   "id": "444a49cd",
   "metadata": {},
   "outputs": [],
   "source": []
  }
 ],
 "metadata": {
  "kernelspec": {
   "display_name": "Python 3 (ipykernel)",
   "language": "python",
   "name": "python3"
  },
  "language_info": {
   "codemirror_mode": {
    "name": "ipython",
    "version": 3
   },
   "file_extension": ".py",
   "mimetype": "text/x-python",
   "name": "python",
   "nbconvert_exporter": "python",
   "pygments_lexer": "ipython3",
   "version": "3.9.13"
  }
 },
 "nbformat": 4,
 "nbformat_minor": 5
}
