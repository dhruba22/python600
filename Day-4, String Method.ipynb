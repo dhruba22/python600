{
 "cells": [
  {
   "cell_type": "code",
   "execution_count": null,
   "id": "ece6a615",
   "metadata": {},
   "outputs": [],
   "source": [
    "Name = 'Dhruba' # string is imutable datatype"
   ]
  },
  {
   "cell_type": "code",
   "execution_count": null,
   "id": "d6482fe6",
   "metadata": {},
   "outputs": [],
   "source": [
    "Name.replace(\"h\", 's')"
   ]
  },
  {
   "cell_type": "code",
   "execution_count": null,
   "id": "ecd4ad01",
   "metadata": {},
   "outputs": [],
   "source": [
    "Name = 'Dhruba'"
   ]
  },
  {
   "cell_type": "code",
   "execution_count": null,
   "id": "54c37be6",
   "metadata": {},
   "outputs": [],
   "source": [
    "id(Name)"
   ]
  },
  {
   "cell_type": "code",
   "execution_count": null,
   "id": "3c618b60",
   "metadata": {},
   "outputs": [],
   "source": [
    "name = 'dhruba $$'"
   ]
  },
  {
   "cell_type": "code",
   "execution_count": null,
   "id": "a5e51e5b",
   "metadata": {},
   "outputs": [],
   "source": [
    "name.replace(\"$\", 's')"
   ]
  },
  {
   "cell_type": "code",
   "execution_count": null,
   "id": "3a3149e7",
   "metadata": {},
   "outputs": [],
   "source": [
    "greet = \"Happy new year\"\n",
    "greet = greet.replace(\"Happy\",'holi')\n",
    "print(greet)"
   ]
  },
  {
   "cell_type": "markdown",
   "id": "d476c529",
   "metadata": {},
   "source": [
    "# upper() and lower()"
   ]
  },
  {
   "cell_type": "code",
   "execution_count": null,
   "id": "a527a4ad",
   "metadata": {},
   "outputs": [],
   "source": [
    "msg = 'HAPPY HOLI'"
   ]
  },
  {
   "cell_type": "code",
   "execution_count": null,
   "id": "98403bd8",
   "metadata": {},
   "outputs": [],
   "source": [
    "msg.lower()"
   ]
  },
  {
   "cell_type": "code",
   "execution_count": null,
   "id": "97a45c7f",
   "metadata": {},
   "outputs": [],
   "source": [
    "text = \"he please reply\""
   ]
  },
  {
   "cell_type": "code",
   "execution_count": null,
   "id": "86c1569e",
   "metadata": {},
   "outputs": [],
   "source": [
    "text.upper()"
   ]
  },
  {
   "cell_type": "markdown",
   "id": "f58a13f8",
   "metadata": {},
   "source": [
    "# split()"
   ]
  },
  {
   "cell_type": "code",
   "execution_count": null,
   "id": "7ddaa4d1",
   "metadata": {},
   "outputs": [],
   "source": [
    "review = \"i love to eat food.\""
   ]
  },
  {
   "cell_type": "code",
   "execution_count": null,
   "id": "887b6b9d",
   "metadata": {},
   "outputs": [],
   "source": [
    "words = review.split(\" \")"
   ]
  },
  {
   "cell_type": "code",
   "execution_count": null,
   "id": "b06970c7",
   "metadata": {},
   "outputs": [],
   "source": [
    "words"
   ]
  },
  {
   "cell_type": "code",
   "execution_count": null,
   "id": "e3e60580",
   "metadata": {},
   "outputs": [],
   "source": [
    "type(words) # list is an mutable datatype"
   ]
  },
  {
   "cell_type": "markdown",
   "id": "0b1ed820",
   "metadata": {},
   "source": [
    "# strip, Istrip(), rstrip()"
   ]
  },
  {
   "cell_type": "code",
   "execution_count": null,
   "id": "608550e7",
   "metadata": {},
   "outputs": [],
   "source": [
    "review = \" Junk food \" # double quote ma space diyo"
   ]
  },
  {
   "cell_type": "code",
   "execution_count": null,
   "id": "94b3e250",
   "metadata": {},
   "outputs": [],
   "source": [
    "review.lstrip() # left ko space nikalne"
   ]
  },
  {
   "cell_type": "code",
   "execution_count": null,
   "id": "6cc7284e",
   "metadata": {},
   "outputs": [],
   "source": [
    "review.rstrip() # right ko space nikalne"
   ]
  },
  {
   "cell_type": "code",
   "execution_count": null,
   "id": "1df69579",
   "metadata": {},
   "outputs": [],
   "source": [
    "review.strip() # both side ko space nikalne"
   ]
  },
  {
   "cell_type": "markdown",
   "id": "8344847e",
   "metadata": {},
   "source": [
    "# Assignment convert letter lowercase, splits them into a list,"
   ]
  },
  {
   "cell_type": "code",
   "execution_count": null,
   "id": "67f6d98d",
   "metadata": {},
   "outputs": [],
   "source": [
    "import string\n",
    "\n",
    "txt = \"I like Orange Apple Banana and kiwi.\"\n",
    "txt = txt.lower()  # convert to lowercase\n",
    "txt = txt.translate(str.maketrans(\"\", \"\", string.punctuation))  # remove punctuation\n",
    "txt = txt.split()  # split into list of words\n",
    "txt = [word.strip() for word in txt]  # remove extra whitespace\n",
    "\n",
    "fruits = [word for word in txt if word in ['orange', 'apple', 'banana', 'kiwi']]\n",
    "print(fruits)\n"
   ]
  },
  {
   "cell_type": "code",
   "execution_count": null,
   "id": "611b6880",
   "metadata": {},
   "outputs": [],
   "source": [
    "string1 = \"NEPALINDIACHINA\"\n",
    "string2 = \"indiachinanepal\"\n",
    "\n",
    "if len(string1) != len(string2):\n",
    "    print(\"string2 is not a rotation of strings1\")\n",
    "else:\n",
    "    new_string1 = string1 + string1\n",
    "    if string2 in new_string1:\n",
    "        print(\"string2 is a rotation of string1\")\n",
    "else:\n",
    "    print(\"string2 is not a rotation of string1\")"
   ]
  },
  {
   "cell_type": "code",
   "execution_count": null,
   "id": "4cfdb754",
   "metadata": {},
   "outputs": [],
   "source": [
    "string1 = \"NEPALINDIACHINA\"\n",
    "string2 = \"indiachinanepal\"\n",
    "\n",
    "if len(string1) != len(string2):\n",
    "    print(\"string2 is not a rotation of string1\")\n",
    "else:\n",
    "    \n",
    "    new_string1 = string1 + string1\n",
    "    if string2 in new_string1:\n",
    "        print(\"string2 is a rotation of string1\")\n",
    "    else:\n",
    "        print(\"string2 is not a rotation of string1\")\n"
   ]
  },
  {
   "cell_type": "markdown",
   "id": "856b3001",
   "metadata": {},
   "source": [
    "# assignment: WAP to count vowel and consonants on the given string"
   ]
  },
  {
   "cell_type": "code",
   "execution_count": null,
   "id": "d668e0ac",
   "metadata": {},
   "outputs": [],
   "source": [
    "s = \"hello world\""
   ]
  },
  {
   "cell_type": "code",
   "execution_count": null,
   "id": "d4121498",
   "metadata": {},
   "outputs": [],
   "source": [
    "vowel, consonant = 0, 0"
   ]
  },
  {
   "cell_type": "code",
   "execution_count": null,
   "id": "82026d81",
   "metadata": {},
   "outputs": [],
   "source": [
    "for index in range(len(s)):\n",
    "    letter = s[index]\n",
    "    if letter == 'a' or letter == 'e' or letter == 'o' or letter == 'u':\n",
    "        vowel = vowel + 1\n",
    "    elif letter == \" \":\n",
    "        continue\n",
    "    else:\n",
    "        consonant = consonant + 1"
   ]
  },
  {
   "cell_type": "code",
   "execution_count": null,
   "id": "cc69686f",
   "metadata": {},
   "outputs": [],
   "source": [
    "vowel"
   ]
  },
  {
   "cell_type": "code",
   "execution_count": null,
   "id": "3f1cec47",
   "metadata": {},
   "outputs": [],
   "source": [
    "consonant"
   ]
  },
  {
   "cell_type": "code",
   "execution_count": null,
   "id": "62e4a204",
   "metadata": {},
   "outputs": [],
   "source": [
    "txt = \"I like Orange Apple Banana and kiwi.\""
   ]
  },
  {
   "cell_type": "code",
   "execution_count": null,
   "id": "8fe09bc7",
   "metadata": {},
   "outputs": [],
   "source": []
  },
  {
   "cell_type": "code",
   "execution_count": null,
   "id": "25a4328b",
   "metadata": {},
   "outputs": [],
   "source": [
    "txt = txt.lower()"
   ]
  },
  {
   "cell_type": "code",
   "execution_count": null,
   "id": "3e472c5f",
   "metadata": {},
   "outputs": [],
   "source": [
    "txt = txt.replace('i like', '')"
   ]
  },
  {
   "cell_type": "code",
   "execution_count": null,
   "id": "78c5419f",
   "metadata": {},
   "outputs": [],
   "source": [
    "txt = txt.replace(' and ', ' ')"
   ]
  },
  {
   "cell_type": "code",
   "execution_count": null,
   "id": "1558fb43",
   "metadata": {},
   "outputs": [],
   "source": [
    "txt = txt.replace(\".\", \"\")"
   ]
  },
  {
   "cell_type": "code",
   "execution_count": null,
   "id": "d9f25671",
   "metadata": {},
   "outputs": [],
   "source": [
    "txt"
   ]
  },
  {
   "cell_type": "markdown",
   "id": "f96f2f00",
   "metadata": {},
   "source": [
    "# python list"
   ]
  },
  {
   "cell_type": "code",
   "execution_count": null,
   "id": "a1ba2215",
   "metadata": {},
   "outputs": [],
   "source": [
    "fruits = ['orange', 'apple', 'banana', 'kiwi']"
   ]
  },
  {
   "cell_type": "code",
   "execution_count": null,
   "id": "90c476bf",
   "metadata": {},
   "outputs": [],
   "source": [
    "type(fruits)"
   ]
  },
  {
   "cell_type": "markdown",
   "id": "9e18f56b",
   "metadata": {},
   "source": [
    "# list is collection of item under one variable name\n",
    "* allows duplicate\n",
    "* sequenced and ordered\n",
    "* indexed\n",
    "* mutable\n",
    "* supports multiple data types"
   ]
  },
  {
   "cell_type": "code",
   "execution_count": null,
   "id": "7f4b2b28",
   "metadata": {},
   "outputs": [],
   "source": [
    "list1 = [True, 0.3, 55, 'hellow']"
   ]
  },
  {
   "cell_type": "code",
   "execution_count": null,
   "id": "ccd561d8",
   "metadata": {},
   "outputs": [],
   "source": [
    "list1"
   ]
  },
  {
   "cell_type": "code",
   "execution_count": null,
   "id": "6fbd2bb2",
   "metadata": {},
   "outputs": [],
   "source": [
    "type(list1)"
   ]
  },
  {
   "cell_type": "markdown",
   "id": "b8294c89",
   "metadata": {},
   "source": [
    "# indexing and slicing in pthon list"
   ]
  },
  {
   "cell_type": "code",
   "execution_count": null,
   "id": "aff3607f",
   "metadata": {},
   "outputs": [],
   "source": [
    "cars = ['audi', 'Bentely', 'Mercedes', 'Rolls Royace', 'bugati', 'Ferrari']"
   ]
  },
  {
   "cell_type": "code",
   "execution_count": null,
   "id": "1297b42a",
   "metadata": {},
   "outputs": [],
   "source": [
    "cars[0] # indexing"
   ]
  },
  {
   "cell_type": "code",
   "execution_count": null,
   "id": "52c3523b",
   "metadata": {},
   "outputs": [],
   "source": [
    "cars[1]"
   ]
  },
  {
   "cell_type": "code",
   "execution_count": null,
   "id": "0ef257f0",
   "metadata": {},
   "outputs": [],
   "source": [
    "cars[4]"
   ]
  },
  {
   "cell_type": "code",
   "execution_count": null,
   "id": "5f1bafdd",
   "metadata": {},
   "outputs": [],
   "source": [
    "cars[5]"
   ]
  },
  {
   "cell_type": "code",
   "execution_count": null,
   "id": "fe34cbcf",
   "metadata": {},
   "outputs": [],
   "source": [
    "cars"
   ]
  },
  {
   "cell_type": "markdown",
   "id": "de28618f",
   "metadata": {},
   "source": [
    "# Nagative indexing"
   ]
  },
  {
   "cell_type": "code",
   "execution_count": null,
   "id": "0ccd46d5",
   "metadata": {},
   "outputs": [],
   "source": [
    "cars[-1]"
   ]
  },
  {
   "cell_type": "code",
   "execution_count": null,
   "id": "4c87efcf",
   "metadata": {},
   "outputs": [],
   "source": [
    "cars[-2] # last second"
   ]
  },
  {
   "cell_type": "code",
   "execution_count": null,
   "id": "571c744d",
   "metadata": {},
   "outputs": [],
   "source": [
    "cars[-3]"
   ]
  },
  {
   "cell_type": "code",
   "execution_count": null,
   "id": "9daafc28",
   "metadata": {},
   "outputs": [],
   "source": [
    "len(cars)"
   ]
  },
  {
   "cell_type": "markdown",
   "id": "54f6adb9",
   "metadata": {},
   "source": [
    "# len()"
   ]
  },
  {
   "cell_type": "code",
   "execution_count": null,
   "id": "6e7d25ef",
   "metadata": {},
   "outputs": [],
   "source": [
    "cars"
   ]
  },
  {
   "cell_type": "code",
   "execution_count": null,
   "id": "576cdc45",
   "metadata": {},
   "outputs": [],
   "source": [
    "cars[2:5]"
   ]
  },
  {
   "cell_type": "code",
   "execution_count": null,
   "id": "a56aa33a",
   "metadata": {},
   "outputs": [],
   "source": [
    "cars[4:6]"
   ]
  },
  {
   "cell_type": "code",
   "execution_count": null,
   "id": "0d8060f2",
   "metadata": {},
   "outputs": [],
   "source": [
    "cars[-2:] # negative indexing"
   ]
  },
  {
   "cell_type": "code",
   "execution_count": null,
   "id": "c1b4d2e0",
   "metadata": {},
   "outputs": [],
   "source": [
    "cars[:3]"
   ]
  },
  {
   "cell_type": "markdown",
   "id": "195500c7",
   "metadata": {},
   "source": [
    "# Loops in pyton list"
   ]
  },
  {
   "cell_type": "code",
   "execution_count": null,
   "id": "0ba47f31",
   "metadata": {},
   "outputs": [],
   "source": [
    "cars = ['audi', 'Bentely', 'Mercedes', 'Rolls Royace', 'bugati', 'Ferrari']"
   ]
  },
  {
   "cell_type": "code",
   "execution_count": null,
   "id": "012a7b88",
   "metadata": {},
   "outputs": [],
   "source": [
    "for index in range(len(cars)):\n",
    "    car = cars[index]\n",
    "    print(f\"The index is {index} and the car name is {car}\")"
   ]
  },
  {
   "cell_type": "code",
   "execution_count": null,
   "id": "8334159a",
   "metadata": {},
   "outputs": [],
   "source": [
    "cars"
   ]
  },
  {
   "cell_type": "code",
   "execution_count": null,
   "id": "a5f374dd",
   "metadata": {},
   "outputs": [],
   "source": [
    "for item in cars:\n",
    "    print(item)"
   ]
  },
  {
   "cell_type": "markdown",
   "id": "de88ba7b",
   "metadata": {},
   "source": [
    "# to take mean in python\n",
    "$$\\bar x=\\frac{\\sum{x_i}}{n}$$"
   ]
  },
  {
   "cell_type": "code",
   "execution_count": null,
   "id": "66e91828",
   "metadata": {},
   "outputs": [],
   "source": [
    "nums = [55, 66, 77, 25]"
   ]
  },
  {
   "cell_type": "code",
   "execution_count": null,
   "id": "17f43643",
   "metadata": {},
   "outputs": [],
   "source": [
    "total = 0\n",
    "for number in nums:\n",
    "    total = total + number\n",
    "    \n",
    "mean = total/len(nums)\n",
    "print(mean)"
   ]
  },
  {
   "cell_type": "code",
   "execution_count": null,
   "id": "bbd0a350",
   "metadata": {},
   "outputs": [],
   "source": [
    "nums = [55, 66, 77, 25]\n",
    "total = 0\n",
    "for index in range(len(nums)):\n",
    "    number = nums[index]\n",
    "    total = total + number\n",
    "mean = total/len(nums)\n",
    "print(mean)"
   ]
  },
  {
   "cell_type": "code",
   "execution_count": null,
   "id": "a1614f05",
   "metadata": {},
   "outputs": [],
   "source": [
    "mean = total/len(nums)"
   ]
  },
  {
   "cell_type": "code",
   "execution_count": null,
   "id": "76960a3a",
   "metadata": {},
   "outputs": [],
   "source": [
    "mean"
   ]
  },
  {
   "cell_type": "code",
   "execution_count": null,
   "id": "bc335446",
   "metadata": {},
   "outputs": [],
   "source": [
    "fruits = ['apple', 'banana', 'mango']"
   ]
  },
  {
   "cell_type": "code",
   "execution_count": null,
   "id": "81f71cd9",
   "metadata": {},
   "outputs": [],
   "source": [
    "index = 0\n",
    "fruits[index]"
   ]
  },
  {
   "cell_type": "code",
   "execution_count": null,
   "id": "dbcccec3",
   "metadata": {},
   "outputs": [],
   "source": [
    "index = 1\n",
    "fruits[index]"
   ]
  },
  {
   "cell_type": "code",
   "execution_count": null,
   "id": "1c7ce591",
   "metadata": {},
   "outputs": [],
   "source": [
    "index = 2\n",
    "fruits[index]"
   ]
  },
  {
   "cell_type": "code",
   "execution_count": null,
   "id": "5346eaee",
   "metadata": {},
   "outputs": [],
   "source": [
    "item = 'apple', 'banana', 'Mango'\n",
    "for index in range(len(fruits)):\n",
    "    print(index)\n",
    "    fruit = fruits[index]\n",
    "    print(item)"
   ]
  },
  {
   "cell_type": "markdown",
   "id": "8e162647",
   "metadata": {},
   "source": [
    "# (2-mar) how to check if something is in the list or not? - Membership operators"
   ]
  },
  {
   "cell_type": "code",
   "execution_count": null,
   "id": "4121e237",
   "metadata": {},
   "outputs": [],
   "source": [
    "student = ['Shraddha', 'Manzil', 'Jyoti', 'Darshan', 'Rekha']"
   ]
  },
  {
   "cell_type": "code",
   "execution_count": null,
   "id": "a6d84aa5",
   "metadata": {},
   "outputs": [],
   "source": [
    "'Kshitiz' in student # in and not called membership operator in python"
   ]
  },
  {
   "cell_type": "code",
   "execution_count": null,
   "id": "0990e4ad",
   "metadata": {},
   "outputs": [],
   "source": [
    "'Rekha' in student"
   ]
  },
  {
   "cell_type": "code",
   "execution_count": null,
   "id": "cd516f66",
   "metadata": {},
   "outputs": [],
   "source": [
    "'Rekha' not in student"
   ]
  },
  {
   "cell_type": "code",
   "execution_count": null,
   "id": "f395c1fd",
   "metadata": {},
   "outputs": [],
   "source": [
    "'ram' not in student"
   ]
  },
  {
   "cell_type": "markdown",
   "id": "1de3dba5",
   "metadata": {},
   "source": [
    "# Python list are mutable"
   ]
  },
  {
   "cell_type": "code",
   "execution_count": null,
   "id": "603debc7",
   "metadata": {},
   "outputs": [],
   "source": [
    "fruits = [\"apple\", \"mango\", \"orange\", \"pear\"]"
   ]
  },
  {
   "cell_type": "code",
   "execution_count": null,
   "id": "3072f82f",
   "metadata": {},
   "outputs": [],
   "source": [
    "fruits[1]"
   ]
  },
  {
   "cell_type": "code",
   "execution_count": null,
   "id": "4cd57d4d",
   "metadata": {},
   "outputs": [],
   "source": [
    "fruits[1]"
   ]
  },
  {
   "cell_type": "code",
   "execution_count": null,
   "id": "70ccb09c",
   "metadata": {},
   "outputs": [],
   "source": [
    "fruits = [\"apple\", \"mango\", \"orange\", \"pear\"]"
   ]
  },
  {
   "cell_type": "code",
   "execution_count": null,
   "id": "d3290d08",
   "metadata": {},
   "outputs": [],
   "source": [
    "fruits[1:3]"
   ]
  },
  {
   "cell_type": "code",
   "execution_count": null,
   "id": "bae8c24b",
   "metadata": {},
   "outputs": [],
   "source": [
    "fruits[1:3] = ['black current', 'Guava']"
   ]
  },
  {
   "cell_type": "code",
   "execution_count": null,
   "id": "209e32d4",
   "metadata": {},
   "outputs": [],
   "source": [
    "fruits"
   ]
  },
  {
   "cell_type": "markdown",
   "id": "4da61ea1",
   "metadata": {},
   "source": [
    "# list method (membership operator)\n",
    "* insert()\n"
   ]
  },
  {
   "cell_type": "code",
   "execution_count": null,
   "id": "fedf7e99",
   "metadata": {},
   "outputs": [],
   "source": [
    "fruits = ['apple', 'Black current', 'Guava', 'orange', 'kiwi', 'mango']"
   ]
  },
  {
   "cell_type": "code",
   "execution_count": null,
   "id": "ac4766ce",
   "metadata": {},
   "outputs": [],
   "source": [
    "fruits.insert(1, 'dragon fruit')"
   ]
  },
  {
   "cell_type": "code",
   "execution_count": null,
   "id": "50ddbfa3",
   "metadata": {},
   "outputs": [],
   "source": [
    "fruits"
   ]
  },
  {
   "cell_type": "markdown",
   "id": "21f1b15f",
   "metadata": {},
   "source": [
    "# . append()\n"
   ]
  },
  {
   "cell_type": "code",
   "execution_count": null,
   "id": "54852e23",
   "metadata": {},
   "outputs": [],
   "source": [
    "# creating empty list\n",
    "cars = []\n"
   ]
  },
  {
   "cell_type": "code",
   "execution_count": null,
   "id": "5c56537b",
   "metadata": {},
   "outputs": [],
   "source": [
    "type(cars)"
   ]
  },
  {
   "cell_type": "code",
   "execution_count": null,
   "id": "ccc3bb28",
   "metadata": {},
   "outputs": [],
   "source": [
    "cars"
   ]
  },
  {
   "cell_type": "code",
   "execution_count": null,
   "id": "9a52fa13",
   "metadata": {},
   "outputs": [],
   "source": [
    "# other way to create empty list\n",
    "cars = list() # using list constructor"
   ]
  },
  {
   "cell_type": "code",
   "execution_count": null,
   "id": "c293d99e",
   "metadata": {},
   "outputs": [],
   "source": [
    "type(cars)"
   ]
  },
  {
   "cell_type": "code",
   "execution_count": null,
   "id": "dd5573a3",
   "metadata": {},
   "outputs": [],
   "source": [
    "cars"
   ]
  },
  {
   "cell_type": "code",
   "execution_count": null,
   "id": "0169ff81",
   "metadata": {},
   "outputs": [],
   "source": [
    "cars.append(\"audit\")"
   ]
  },
  {
   "cell_type": "code",
   "execution_count": null,
   "id": "ac5a6607",
   "metadata": {},
   "outputs": [],
   "source": [
    "cars"
   ]
  },
  {
   "cell_type": "code",
   "execution_count": null,
   "id": "f60815fd",
   "metadata": {},
   "outputs": [],
   "source": [
    "cars.append(\"Bently\")"
   ]
  },
  {
   "cell_type": "code",
   "execution_count": null,
   "id": "531fdd0c",
   "metadata": {},
   "outputs": [],
   "source": [
    "cars\n"
   ]
  },
  {
   "cell_type": "code",
   "execution_count": null,
   "id": "acf01b07",
   "metadata": {},
   "outputs": [],
   "source": [
    "cars.append(\"Mercedes\")\n"
   ]
  },
  {
   "cell_type": "code",
   "execution_count": null,
   "id": "76447cdc",
   "metadata": {},
   "outputs": [],
   "source": [
    "cars"
   ]
  },
  {
   "cell_type": "markdown",
   "id": "fcc3109f",
   "metadata": {},
   "source": [
    "# write a program to extract even number between 1 to 10 on list\n"
   ]
  },
  {
   "cell_type": "code",
   "execution_count": 1,
   "id": "63996f60",
   "metadata": {},
   "outputs": [],
   "source": [
    "even = []\n",
    "\n",
    "for num in range(1,10):\n",
    "    if num % 2 == 0:\n",
    "        even.append(num)"
   ]
  },
  {
   "cell_type": "code",
   "execution_count": 2,
   "id": "beabac99",
   "metadata": {},
   "outputs": [
    {
     "data": {
      "text/plain": [
       "[2, 4, 6, 8]"
      ]
     },
     "execution_count": 2,
     "metadata": {},
     "output_type": "execute_result"
    }
   ],
   "source": [
    "even"
   ]
  },
  {
   "cell_type": "code",
   "execution_count": 3,
   "id": "29208e1c",
   "metadata": {},
   "outputs": [],
   "source": [
    "odd = []\n",
    "\n",
    "for num in range(1,10):\n",
    "    if num % 2 == 0:\n",
    "        odd.append(num)"
   ]
  },
  {
   "cell_type": "code",
   "execution_count": 4,
   "id": "a8673f28",
   "metadata": {},
   "outputs": [
    {
     "data": {
      "text/plain": [
       "[2, 4, 6, 8]"
      ]
     },
     "execution_count": 4,
     "metadata": {},
     "output_type": "execute_result"
    }
   ],
   "source": [
    "odd"
   ]
  },
  {
   "cell_type": "markdown",
   "id": "dc49f872",
   "metadata": {},
   "source": [
    "# You can append elements from another list to the current list, use the extend() method"
   ]
  },
  {
   "cell_type": "code",
   "execution_count": 5,
   "id": "a1f9e0ea",
   "metadata": {},
   "outputs": [],
   "source": [
    "a = [55,66,3]\n",
    "b = [5,2,1]"
   ]
  },
  {
   "cell_type": "code",
   "execution_count": 6,
   "id": "28de3954",
   "metadata": {},
   "outputs": [
    {
     "data": {
      "text/plain": [
       "[55, 66, 3, 5, 2, 1]"
      ]
     },
     "execution_count": 6,
     "metadata": {},
     "output_type": "execute_result"
    }
   ],
   "source": [
    "a + b #concat the list"
   ]
  },
  {
   "cell_type": "code",
   "execution_count": 8,
   "id": "33c70c7a",
   "metadata": {},
   "outputs": [],
   "source": [
    "a.extend(b)"
   ]
  },
  {
   "cell_type": "code",
   "execution_count": 9,
   "id": "b9bbacc4",
   "metadata": {},
   "outputs": [
    {
     "data": {
      "text/plain": [
       "[55, 66, 3, 5, 2, 1, 5, 2, 1]"
      ]
     },
     "execution_count": 9,
     "metadata": {},
     "output_type": "execute_result"
    }
   ],
   "source": [
    "a"
   ]
  },
  {
   "cell_type": "code",
   "execution_count": 10,
   "id": "19bdc68b",
   "metadata": {},
   "outputs": [
    {
     "data": {
      "text/plain": [
       "[5, 2, 1]"
      ]
     },
     "execution_count": 10,
     "metadata": {},
     "output_type": "execute_result"
    }
   ],
   "source": [
    "b"
   ]
  },
  {
   "cell_type": "markdown",
   "id": "adff6b72",
   "metadata": {},
   "source": [
    "# Remove"
   ]
  },
  {
   "cell_type": "code",
   "execution_count": 11,
   "id": "dad4504e",
   "metadata": {},
   "outputs": [],
   "source": [
    "cars = ['audi', 'nano', 'mercedes', 'nano', 'audi']"
   ]
  },
  {
   "cell_type": "code",
   "execution_count": 12,
   "id": "7ea26158",
   "metadata": {},
   "outputs": [],
   "source": [
    "cars.remove('nano') # removes only first occurances"
   ]
  },
  {
   "cell_type": "code",
   "execution_count": 13,
   "id": "b8aef805",
   "metadata": {},
   "outputs": [
    {
     "data": {
      "text/plain": [
       "['audi', 'mercedes', 'nano', 'audi']"
      ]
     },
     "execution_count": 13,
     "metadata": {},
     "output_type": "execute_result"
    }
   ],
   "source": [
    "cars"
   ]
  },
  {
   "cell_type": "markdown",
   "id": "a72e55b8",
   "metadata": {},
   "source": [
    "# .pop()"
   ]
  },
  {
   "cell_type": "code",
   "execution_count": 14,
   "id": "d3c95e2d",
   "metadata": {},
   "outputs": [],
   "source": [
    "cars = ['audi', 'nano', 'mercedes', 'nano', 'audi']"
   ]
  },
  {
   "cell_type": "code",
   "execution_count": 15,
   "id": "16a076bc",
   "metadata": {},
   "outputs": [
    {
     "data": {
      "text/plain": [
       "'audi'"
      ]
     },
     "execution_count": 15,
     "metadata": {},
     "output_type": "execute_result"
    }
   ],
   "source": [
    "cars.pop() # last in lai nikal6"
   ]
  },
  {
   "cell_type": "code",
   "execution_count": 16,
   "id": "156e2d4c",
   "metadata": {},
   "outputs": [
    {
     "data": {
      "text/plain": [
       "['audi', 'nano', 'mercedes', 'nano']"
      ]
     },
     "execution_count": 16,
     "metadata": {},
     "output_type": "execute_result"
    }
   ],
   "source": [
    "cars"
   ]
  },
  {
   "cell_type": "code",
   "execution_count": 17,
   "id": "161df149",
   "metadata": {},
   "outputs": [],
   "source": [
    "# append() and pop() together are used to push and pop data from list\n",
    "# therfore list can be used as stack data structure"
   ]
  },
  {
   "cell_type": "code",
   "execution_count": 19,
   "id": "2988c181",
   "metadata": {},
   "outputs": [],
   "source": [
    "cars = ['audi', 'nano', 'mercedes', 'nano', 'audi']"
   ]
  },
  {
   "cell_type": "code",
   "execution_count": 20,
   "id": "b05b1efd",
   "metadata": {},
   "outputs": [
    {
     "data": {
      "text/plain": [
       "'mercedes'"
      ]
     },
     "execution_count": 20,
     "metadata": {},
     "output_type": "execute_result"
    }
   ],
   "source": [
    "cars.pop(2)"
   ]
  },
  {
   "cell_type": "code",
   "execution_count": 21,
   "id": "ba4ff352",
   "metadata": {},
   "outputs": [
    {
     "data": {
      "text/plain": [
       "['audi', 'nano', 'nano', 'audi']"
      ]
     },
     "execution_count": 21,
     "metadata": {},
     "output_type": "execute_result"
    }
   ],
   "source": [
    "cars"
   ]
  },
  {
   "cell_type": "markdown",
   "id": "2301cf82",
   "metadata": {},
   "source": [
    "# Sorting of list"
   ]
  },
  {
   "cell_type": "code",
   "execution_count": 24,
   "id": "7c0da897",
   "metadata": {},
   "outputs": [],
   "source": [
    "nums = [-2, -11, 44, 5, 7, 99, -8]"
   ]
  },
  {
   "cell_type": "code",
   "execution_count": 25,
   "id": "c5234890",
   "metadata": {},
   "outputs": [
    {
     "ename": "AttributeError",
     "evalue": "'int' object has no attribute 'sort'",
     "output_type": "error",
     "traceback": [
      "\u001b[1;31m---------------------------------------------------------------------------\u001b[0m",
      "\u001b[1;31mAttributeError\u001b[0m                            Traceback (most recent call last)",
      "\u001b[1;32m~\\AppData\\Local\\Temp\\ipykernel_14992\\2516585785.py\u001b[0m in \u001b[0;36m<module>\u001b[1;34m\u001b[0m\n\u001b[1;32m----> 1\u001b[1;33m \u001b[0mnum\u001b[0m\u001b[1;33m.\u001b[0m\u001b[0msort\u001b[0m\u001b[1;33m(\u001b[0m\u001b[1;33m)\u001b[0m\u001b[1;33m\u001b[0m\u001b[1;33m\u001b[0m\u001b[0m\n\u001b[0m",
      "\u001b[1;31mAttributeError\u001b[0m: 'int' object has no attribute 'sort'"
     ]
    }
   ],
   "source": [
    "num.sort()"
   ]
  },
  {
   "cell_type": "code",
   "execution_count": 26,
   "id": "518b39fa",
   "metadata": {},
   "outputs": [
    {
     "data": {
      "text/plain": [
       "[-2, -11, 44, 5, 7, 99, -8]"
      ]
     },
     "execution_count": 26,
     "metadata": {},
     "output_type": "execute_result"
    }
   ],
   "source": [
    "nums"
   ]
  },
  {
   "cell_type": "code",
   "execution_count": 27,
   "id": "af1fbc1c",
   "metadata": {},
   "outputs": [
    {
     "data": {
      "text/plain": [
       "[99, 44, 7, 5, -2, -8, -11]"
      ]
     },
     "execution_count": 27,
     "metadata": {},
     "output_type": "execute_result"
    }
   ],
   "source": [
    "nums = [-2, -11, 44, 5, 7, 99, -8]\n",
    "nums.sort(reverse=True)\n",
    "nums"
   ]
  },
  {
   "cell_type": "code",
   "execution_count": 28,
   "id": "93e160aa",
   "metadata": {},
   "outputs": [
    {
     "data": {
      "text/plain": [
       "[-11, -8, -2, 5, 7, 44, 99]"
      ]
     },
     "execution_count": 28,
     "metadata": {},
     "output_type": "execute_result"
    }
   ],
   "source": [
    "nums = [-2, -11, 44, 5, 7, 99, -8]\n",
    "sorted(nums)"
   ]
  },
  {
   "cell_type": "code",
   "execution_count": 29,
   "id": "86b50c17",
   "metadata": {},
   "outputs": [
    {
     "data": {
      "text/plain": [
       "[-2, -11, 44, 5, 7, 99, -8]"
      ]
     },
     "execution_count": 29,
     "metadata": {},
     "output_type": "execute_result"
    }
   ],
   "source": [
    "nums"
   ]
  },
  {
   "cell_type": "code",
   "execution_count": 30,
   "id": "88f42646",
   "metadata": {},
   "outputs": [
    {
     "data": {
      "text/plain": [
       "[99, 44, 7, 5, -2, -8, -11]"
      ]
     },
     "execution_count": 30,
     "metadata": {},
     "output_type": "execute_result"
    }
   ],
   "source": [
    "nums = [-2, -11, 44, 5, 7, 99, -8]\n",
    "sorted(nums, reverse = True)"
   ]
  },
  {
   "cell_type": "code",
   "execution_count": 31,
   "id": "7213c38f",
   "metadata": {},
   "outputs": [],
   "source": [
    "# write a program to find square of numbers between1 and 15\n",
    "# write a program to find cube of a number between 1 to 15\n",
    "# write a program to store lower case value of given list\n",
    "# fruits = ['apper', 'banana', 'mango', 'orange']"
   ]
  },
  {
   "cell_type": "code",
   "execution_count": 1,
   "id": "7484d211",
   "metadata": {},
   "outputs": [],
   "source": [
    "fruits = ['Apple', 'Banana', 'Mango', 'Orange']"
   ]
  },
  {
   "cell_type": "code",
   "execution_count": 2,
   "id": "4369f38a",
   "metadata": {},
   "outputs": [],
   "source": [
    "lowered_fruits = []\n",
    "for item in fruits:\n",
    "    item = item.lower()\n",
    "    lowered_fruits.append(item)"
   ]
  },
  {
   "cell_type": "code",
   "execution_count": 3,
   "id": "32bc8225",
   "metadata": {},
   "outputs": [
    {
     "data": {
      "text/plain": [
       "['apple', 'banana', 'mango', 'orange']"
      ]
     },
     "execution_count": 3,
     "metadata": {},
     "output_type": "execute_result"
    }
   ],
   "source": [
    "lowered_fruits"
   ]
  },
  {
   "cell_type": "code",
   "execution_count": 7,
   "id": "b96f75af",
   "metadata": {},
   "outputs": [
    {
     "data": {
      "text/plain": [
       "['apple', 'banana', 'mango', 'orange']"
      ]
     },
     "execution_count": 7,
     "metadata": {},
     "output_type": "execute_result"
    }
   ],
   "source": [
    "[i.lower() for i in fruits]"
   ]
  },
  {
   "cell_type": "markdown",
   "id": "ce7989a9",
   "metadata": {},
   "source": [
    "# square and cube of number"
   ]
  },
  {
   "cell_type": "code",
   "execution_count": 8,
   "id": "8cd10e9f",
   "metadata": {},
   "outputs": [],
   "source": [
    "sq = []\n",
    "cube = []\n",
    "for num in range(1, 15):\n",
    "    sq.append(num**2)"
   ]
  },
  {
   "cell_type": "code",
   "execution_count": 9,
   "id": "4eab3a7a",
   "metadata": {},
   "outputs": [
    {
     "data": {
      "text/plain": [
       "[1, 4, 9, 16, 25, 36, 49, 64, 81, 100, 121, 144, 169, 196]"
      ]
     },
     "execution_count": 9,
     "metadata": {},
     "output_type": "execute_result"
    }
   ],
   "source": [
    "sq"
   ]
  },
  {
   "cell_type": "code",
   "execution_count": 12,
   "id": "3ebc3bed",
   "metadata": {},
   "outputs": [],
   "source": [
    "cube = []\n",
    "cube = []\n",
    "for num in range(1, 15):\n",
    "    cube.append(num**3)"
   ]
  },
  {
   "cell_type": "code",
   "execution_count": 13,
   "id": "4f0b5c95",
   "metadata": {},
   "outputs": [
    {
     "data": {
      "text/plain": [
       "[1, 8, 27, 64, 125, 216, 343, 512, 729, 1000, 1331, 1728, 2197, 2744]"
      ]
     },
     "execution_count": 13,
     "metadata": {},
     "output_type": "execute_result"
    }
   ],
   "source": [
    "cube\n"
   ]
  },
  {
   "cell_type": "markdown",
   "id": "5f7dbdbd",
   "metadata": {},
   "source": [
    "# Using list comprehension"
   ]
  },
  {
   "cell_type": "code",
   "execution_count": 14,
   "id": "d1d3d5ca",
   "metadata": {},
   "outputs": [
    {
     "data": {
      "text/plain": [
       "[1, 4, 9, 16, 25, 36, 49, 64, 81, 100, 121, 144, 169, 196]"
      ]
     },
     "execution_count": 14,
     "metadata": {},
     "output_type": "execute_result"
    }
   ],
   "source": [
    "[index**2 for index in range(1, 15)]"
   ]
  },
  {
   "cell_type": "code",
   "execution_count": 15,
   "id": "73ae3597",
   "metadata": {},
   "outputs": [
    {
     "data": {
      "text/plain": [
       "[1, 8, 27, 64, 125, 216, 343, 512, 729, 1000, 1331, 1728, 2197, 2744]"
      ]
     },
     "execution_count": 15,
     "metadata": {},
     "output_type": "execute_result"
    }
   ],
   "source": [
    "[index**3 for index in range(1, 15)]"
   ]
  },
  {
   "cell_type": "markdown",
   "id": "1508e955",
   "metadata": {},
   "source": [
    "```python\n",
    "[index**2 for index in range(1, 15)] ```\n"
   ]
  },
  {
   "cell_type": "markdown",
   "id": "bb6bc69c",
   "metadata": {},
   "source": [
    "[ Expression is terrible]"
   ]
  },
  {
   "cell_type": "code",
   "execution_count": 18,
   "id": "723d9df1",
   "metadata": {},
   "outputs": [
    {
     "name": "stdout",
     "output_type": "stream",
     "text": [
      "Wall time: 5.46 ms\n"
     ]
    }
   ],
   "source": [
    "%%time\n",
    "for i in range(15000):\n",
    "    plus_1 = i + 1\n"
   ]
  },
  {
   "cell_type": "code",
   "execution_count": 21,
   "id": "497f61a7",
   "metadata": {},
   "outputs": [
    {
     "name": "stdout",
     "output_type": "stream",
     "text": [
      "Wall time: 885 µs\n"
     ]
    },
    {
     "data": {
      "text/plain": [
       "[1,\n",
       " 2,\n",
       " 3,\n",
       " 4,\n",
       " 5,\n",
       " 6,\n",
       " 7,\n",
       " 8,\n",
       " 9,\n",
       " 10,\n",
       " 11,\n",
       " 12,\n",
       " 13,\n",
       " 14,\n",
       " 15,\n",
       " 16,\n",
       " 17,\n",
       " 18,\n",
       " 19,\n",
       " 20,\n",
       " 21,\n",
       " 22,\n",
       " 23,\n",
       " 24,\n",
       " 25,\n",
       " 26,\n",
       " 27,\n",
       " 28,\n",
       " 29,\n",
       " 30,\n",
       " 31,\n",
       " 32,\n",
       " 33,\n",
       " 34,\n",
       " 35,\n",
       " 36,\n",
       " 37,\n",
       " 38,\n",
       " 39,\n",
       " 40,\n",
       " 41,\n",
       " 42,\n",
       " 43,\n",
       " 44,\n",
       " 45,\n",
       " 46,\n",
       " 47,\n",
       " 48,\n",
       " 49,\n",
       " 50,\n",
       " 51,\n",
       " 52,\n",
       " 53,\n",
       " 54,\n",
       " 55,\n",
       " 56,\n",
       " 57,\n",
       " 58,\n",
       " 59,\n",
       " 60,\n",
       " 61,\n",
       " 62,\n",
       " 63,\n",
       " 64,\n",
       " 65,\n",
       " 66,\n",
       " 67,\n",
       " 68,\n",
       " 69,\n",
       " 70,\n",
       " 71,\n",
       " 72,\n",
       " 73,\n",
       " 74,\n",
       " 75,\n",
       " 76,\n",
       " 77,\n",
       " 78,\n",
       " 79,\n",
       " 80,\n",
       " 81,\n",
       " 82,\n",
       " 83,\n",
       " 84,\n",
       " 85,\n",
       " 86,\n",
       " 87,\n",
       " 88,\n",
       " 89,\n",
       " 90,\n",
       " 91,\n",
       " 92,\n",
       " 93,\n",
       " 94,\n",
       " 95,\n",
       " 96,\n",
       " 97,\n",
       " 98,\n",
       " 99,\n",
       " 100,\n",
       " 101,\n",
       " 102,\n",
       " 103,\n",
       " 104,\n",
       " 105,\n",
       " 106,\n",
       " 107,\n",
       " 108,\n",
       " 109,\n",
       " 110,\n",
       " 111,\n",
       " 112,\n",
       " 113,\n",
       " 114,\n",
       " 115,\n",
       " 116,\n",
       " 117,\n",
       " 118,\n",
       " 119,\n",
       " 120,\n",
       " 121,\n",
       " 122,\n",
       " 123,\n",
       " 124,\n",
       " 125,\n",
       " 126,\n",
       " 127,\n",
       " 128,\n",
       " 129,\n",
       " 130,\n",
       " 131,\n",
       " 132,\n",
       " 133,\n",
       " 134,\n",
       " 135,\n",
       " 136,\n",
       " 137,\n",
       " 138,\n",
       " 139,\n",
       " 140,\n",
       " 141,\n",
       " 142,\n",
       " 143,\n",
       " 144,\n",
       " 145,\n",
       " 146,\n",
       " 147,\n",
       " 148,\n",
       " 149,\n",
       " 150,\n",
       " 151,\n",
       " 152,\n",
       " 153,\n",
       " 154,\n",
       " 155,\n",
       " 156,\n",
       " 157,\n",
       " 158,\n",
       " 159,\n",
       " 160,\n",
       " 161,\n",
       " 162,\n",
       " 163,\n",
       " 164,\n",
       " 165,\n",
       " 166,\n",
       " 167,\n",
       " 168,\n",
       " 169,\n",
       " 170,\n",
       " 171,\n",
       " 172,\n",
       " 173,\n",
       " 174,\n",
       " 175,\n",
       " 176,\n",
       " 177,\n",
       " 178,\n",
       " 179,\n",
       " 180,\n",
       " 181,\n",
       " 182,\n",
       " 183,\n",
       " 184,\n",
       " 185,\n",
       " 186,\n",
       " 187,\n",
       " 188,\n",
       " 189,\n",
       " 190,\n",
       " 191,\n",
       " 192,\n",
       " 193,\n",
       " 194,\n",
       " 195,\n",
       " 196,\n",
       " 197,\n",
       " 198,\n",
       " 199,\n",
       " 200,\n",
       " 201,\n",
       " 202,\n",
       " 203,\n",
       " 204,\n",
       " 205,\n",
       " 206,\n",
       " 207,\n",
       " 208,\n",
       " 209,\n",
       " 210,\n",
       " 211,\n",
       " 212,\n",
       " 213,\n",
       " 214,\n",
       " 215,\n",
       " 216,\n",
       " 217,\n",
       " 218,\n",
       " 219,\n",
       " 220,\n",
       " 221,\n",
       " 222,\n",
       " 223,\n",
       " 224,\n",
       " 225,\n",
       " 226,\n",
       " 227,\n",
       " 228,\n",
       " 229,\n",
       " 230,\n",
       " 231,\n",
       " 232,\n",
       " 233,\n",
       " 234,\n",
       " 235,\n",
       " 236,\n",
       " 237,\n",
       " 238,\n",
       " 239,\n",
       " 240,\n",
       " 241,\n",
       " 242,\n",
       " 243,\n",
       " 244,\n",
       " 245,\n",
       " 246,\n",
       " 247,\n",
       " 248,\n",
       " 249,\n",
       " 250,\n",
       " 251,\n",
       " 252,\n",
       " 253,\n",
       " 254,\n",
       " 255,\n",
       " 256,\n",
       " 257,\n",
       " 258,\n",
       " 259,\n",
       " 260,\n",
       " 261,\n",
       " 262,\n",
       " 263,\n",
       " 264,\n",
       " 265,\n",
       " 266,\n",
       " 267,\n",
       " 268,\n",
       " 269,\n",
       " 270,\n",
       " 271,\n",
       " 272,\n",
       " 273,\n",
       " 274,\n",
       " 275,\n",
       " 276,\n",
       " 277,\n",
       " 278,\n",
       " 279,\n",
       " 280,\n",
       " 281,\n",
       " 282,\n",
       " 283,\n",
       " 284,\n",
       " 285,\n",
       " 286,\n",
       " 287,\n",
       " 288,\n",
       " 289,\n",
       " 290,\n",
       " 291,\n",
       " 292,\n",
       " 293,\n",
       " 294,\n",
       " 295,\n",
       " 296,\n",
       " 297,\n",
       " 298,\n",
       " 299,\n",
       " 300,\n",
       " 301,\n",
       " 302,\n",
       " 303,\n",
       " 304,\n",
       " 305,\n",
       " 306,\n",
       " 307,\n",
       " 308,\n",
       " 309,\n",
       " 310,\n",
       " 311,\n",
       " 312,\n",
       " 313,\n",
       " 314,\n",
       " 315,\n",
       " 316,\n",
       " 317,\n",
       " 318,\n",
       " 319,\n",
       " 320,\n",
       " 321,\n",
       " 322,\n",
       " 323,\n",
       " 324,\n",
       " 325,\n",
       " 326,\n",
       " 327,\n",
       " 328,\n",
       " 329,\n",
       " 330,\n",
       " 331,\n",
       " 332,\n",
       " 333,\n",
       " 334,\n",
       " 335,\n",
       " 336,\n",
       " 337,\n",
       " 338,\n",
       " 339,\n",
       " 340,\n",
       " 341,\n",
       " 342,\n",
       " 343,\n",
       " 344,\n",
       " 345,\n",
       " 346,\n",
       " 347,\n",
       " 348,\n",
       " 349,\n",
       " 350,\n",
       " 351,\n",
       " 352,\n",
       " 353,\n",
       " 354,\n",
       " 355,\n",
       " 356,\n",
       " 357,\n",
       " 358,\n",
       " 359,\n",
       " 360,\n",
       " 361,\n",
       " 362,\n",
       " 363,\n",
       " 364,\n",
       " 365,\n",
       " 366,\n",
       " 367,\n",
       " 368,\n",
       " 369,\n",
       " 370,\n",
       " 371,\n",
       " 372,\n",
       " 373,\n",
       " 374,\n",
       " 375,\n",
       " 376,\n",
       " 377,\n",
       " 378,\n",
       " 379,\n",
       " 380,\n",
       " 381,\n",
       " 382,\n",
       " 383,\n",
       " 384,\n",
       " 385,\n",
       " 386,\n",
       " 387,\n",
       " 388,\n",
       " 389,\n",
       " 390,\n",
       " 391,\n",
       " 392,\n",
       " 393,\n",
       " 394,\n",
       " 395,\n",
       " 396,\n",
       " 397,\n",
       " 398,\n",
       " 399,\n",
       " 400,\n",
       " 401,\n",
       " 402,\n",
       " 403,\n",
       " 404,\n",
       " 405,\n",
       " 406,\n",
       " 407,\n",
       " 408,\n",
       " 409,\n",
       " 410,\n",
       " 411,\n",
       " 412,\n",
       " 413,\n",
       " 414,\n",
       " 415,\n",
       " 416,\n",
       " 417,\n",
       " 418,\n",
       " 419,\n",
       " 420,\n",
       " 421,\n",
       " 422,\n",
       " 423,\n",
       " 424,\n",
       " 425,\n",
       " 426,\n",
       " 427,\n",
       " 428,\n",
       " 429,\n",
       " 430,\n",
       " 431,\n",
       " 432,\n",
       " 433,\n",
       " 434,\n",
       " 435,\n",
       " 436,\n",
       " 437,\n",
       " 438,\n",
       " 439,\n",
       " 440,\n",
       " 441,\n",
       " 442,\n",
       " 443,\n",
       " 444,\n",
       " 445,\n",
       " 446,\n",
       " 447,\n",
       " 448,\n",
       " 449,\n",
       " 450,\n",
       " 451,\n",
       " 452,\n",
       " 453,\n",
       " 454,\n",
       " 455,\n",
       " 456,\n",
       " 457,\n",
       " 458,\n",
       " 459,\n",
       " 460,\n",
       " 461,\n",
       " 462,\n",
       " 463,\n",
       " 464,\n",
       " 465,\n",
       " 466,\n",
       " 467,\n",
       " 468,\n",
       " 469,\n",
       " 470,\n",
       " 471,\n",
       " 472,\n",
       " 473,\n",
       " 474,\n",
       " 475,\n",
       " 476,\n",
       " 477,\n",
       " 478,\n",
       " 479,\n",
       " 480,\n",
       " 481,\n",
       " 482,\n",
       " 483,\n",
       " 484,\n",
       " 485,\n",
       " 486,\n",
       " 487,\n",
       " 488,\n",
       " 489,\n",
       " 490,\n",
       " 491,\n",
       " 492,\n",
       " 493,\n",
       " 494,\n",
       " 495,\n",
       " 496,\n",
       " 497,\n",
       " 498,\n",
       " 499,\n",
       " 500,\n",
       " 501,\n",
       " 502,\n",
       " 503,\n",
       " 504,\n",
       " 505,\n",
       " 506,\n",
       " 507,\n",
       " 508,\n",
       " 509,\n",
       " 510,\n",
       " 511,\n",
       " 512,\n",
       " 513,\n",
       " 514,\n",
       " 515,\n",
       " 516,\n",
       " 517,\n",
       " 518,\n",
       " 519,\n",
       " 520,\n",
       " 521,\n",
       " 522,\n",
       " 523,\n",
       " 524,\n",
       " 525,\n",
       " 526,\n",
       " 527,\n",
       " 528,\n",
       " 529,\n",
       " 530,\n",
       " 531,\n",
       " 532,\n",
       " 533,\n",
       " 534,\n",
       " 535,\n",
       " 536,\n",
       " 537,\n",
       " 538,\n",
       " 539,\n",
       " 540,\n",
       " 541,\n",
       " 542,\n",
       " 543,\n",
       " 544,\n",
       " 545,\n",
       " 546,\n",
       " 547,\n",
       " 548,\n",
       " 549,\n",
       " 550,\n",
       " 551,\n",
       " 552,\n",
       " 553,\n",
       " 554,\n",
       " 555,\n",
       " 556,\n",
       " 557,\n",
       " 558,\n",
       " 559,\n",
       " 560,\n",
       " 561,\n",
       " 562,\n",
       " 563,\n",
       " 564,\n",
       " 565,\n",
       " 566,\n",
       " 567,\n",
       " 568,\n",
       " 569,\n",
       " 570,\n",
       " 571,\n",
       " 572,\n",
       " 573,\n",
       " 574,\n",
       " 575,\n",
       " 576,\n",
       " 577,\n",
       " 578,\n",
       " 579,\n",
       " 580,\n",
       " 581,\n",
       " 582,\n",
       " 583,\n",
       " 584,\n",
       " 585,\n",
       " 586,\n",
       " 587,\n",
       " 588,\n",
       " 589,\n",
       " 590,\n",
       " 591,\n",
       " 592,\n",
       " 593,\n",
       " 594,\n",
       " 595,\n",
       " 596,\n",
       " 597,\n",
       " 598,\n",
       " 599,\n",
       " 600,\n",
       " 601,\n",
       " 602,\n",
       " 603,\n",
       " 604,\n",
       " 605,\n",
       " 606,\n",
       " 607,\n",
       " 608,\n",
       " 609,\n",
       " 610,\n",
       " 611,\n",
       " 612,\n",
       " 613,\n",
       " 614,\n",
       " 615,\n",
       " 616,\n",
       " 617,\n",
       " 618,\n",
       " 619,\n",
       " 620,\n",
       " 621,\n",
       " 622,\n",
       " 623,\n",
       " 624,\n",
       " 625,\n",
       " 626,\n",
       " 627,\n",
       " 628,\n",
       " 629,\n",
       " 630,\n",
       " 631,\n",
       " 632,\n",
       " 633,\n",
       " 634,\n",
       " 635,\n",
       " 636,\n",
       " 637,\n",
       " 638,\n",
       " 639,\n",
       " 640,\n",
       " 641,\n",
       " 642,\n",
       " 643,\n",
       " 644,\n",
       " 645,\n",
       " 646,\n",
       " 647,\n",
       " 648,\n",
       " 649,\n",
       " 650,\n",
       " 651,\n",
       " 652,\n",
       " 653,\n",
       " 654,\n",
       " 655,\n",
       " 656,\n",
       " 657,\n",
       " 658,\n",
       " 659,\n",
       " 660,\n",
       " 661,\n",
       " 662,\n",
       " 663,\n",
       " 664,\n",
       " 665,\n",
       " 666,\n",
       " 667,\n",
       " 668,\n",
       " 669,\n",
       " 670,\n",
       " 671,\n",
       " 672,\n",
       " 673,\n",
       " 674,\n",
       " 675,\n",
       " 676,\n",
       " 677,\n",
       " 678,\n",
       " 679,\n",
       " 680,\n",
       " 681,\n",
       " 682,\n",
       " 683,\n",
       " 684,\n",
       " 685,\n",
       " 686,\n",
       " 687,\n",
       " 688,\n",
       " 689,\n",
       " 690,\n",
       " 691,\n",
       " 692,\n",
       " 693,\n",
       " 694,\n",
       " 695,\n",
       " 696,\n",
       " 697,\n",
       " 698,\n",
       " 699,\n",
       " 700,\n",
       " 701,\n",
       " 702,\n",
       " 703,\n",
       " 704,\n",
       " 705,\n",
       " 706,\n",
       " 707,\n",
       " 708,\n",
       " 709,\n",
       " 710,\n",
       " 711,\n",
       " 712,\n",
       " 713,\n",
       " 714,\n",
       " 715,\n",
       " 716,\n",
       " 717,\n",
       " 718,\n",
       " 719,\n",
       " 720,\n",
       " 721,\n",
       " 722,\n",
       " 723,\n",
       " 724,\n",
       " 725,\n",
       " 726,\n",
       " 727,\n",
       " 728,\n",
       " 729,\n",
       " 730,\n",
       " 731,\n",
       " 732,\n",
       " 733,\n",
       " 734,\n",
       " 735,\n",
       " 736,\n",
       " 737,\n",
       " 738,\n",
       " 739,\n",
       " 740,\n",
       " 741,\n",
       " 742,\n",
       " 743,\n",
       " 744,\n",
       " 745,\n",
       " 746,\n",
       " 747,\n",
       " 748,\n",
       " 749,\n",
       " 750,\n",
       " 751,\n",
       " 752,\n",
       " 753,\n",
       " 754,\n",
       " 755,\n",
       " 756,\n",
       " 757,\n",
       " 758,\n",
       " 759,\n",
       " 760,\n",
       " 761,\n",
       " 762,\n",
       " 763,\n",
       " 764,\n",
       " 765,\n",
       " 766,\n",
       " 767,\n",
       " 768,\n",
       " 769,\n",
       " 770,\n",
       " 771,\n",
       " 772,\n",
       " 773,\n",
       " 774,\n",
       " 775,\n",
       " 776,\n",
       " 777,\n",
       " 778,\n",
       " 779,\n",
       " 780,\n",
       " 781,\n",
       " 782,\n",
       " 783,\n",
       " 784,\n",
       " 785,\n",
       " 786,\n",
       " 787,\n",
       " 788,\n",
       " 789,\n",
       " 790,\n",
       " 791,\n",
       " 792,\n",
       " 793,\n",
       " 794,\n",
       " 795,\n",
       " 796,\n",
       " 797,\n",
       " 798,\n",
       " 799,\n",
       " 800,\n",
       " 801,\n",
       " 802,\n",
       " 803,\n",
       " 804,\n",
       " 805,\n",
       " 806,\n",
       " 807,\n",
       " 808,\n",
       " 809,\n",
       " 810,\n",
       " 811,\n",
       " 812,\n",
       " 813,\n",
       " 814,\n",
       " 815,\n",
       " 816,\n",
       " 817,\n",
       " 818,\n",
       " 819,\n",
       " 820,\n",
       " 821,\n",
       " 822,\n",
       " 823,\n",
       " 824,\n",
       " 825,\n",
       " 826,\n",
       " 827,\n",
       " 828,\n",
       " 829,\n",
       " 830,\n",
       " 831,\n",
       " 832,\n",
       " 833,\n",
       " 834,\n",
       " 835,\n",
       " 836,\n",
       " 837,\n",
       " 838,\n",
       " 839,\n",
       " 840,\n",
       " 841,\n",
       " 842,\n",
       " 843,\n",
       " 844,\n",
       " 845,\n",
       " 846,\n",
       " 847,\n",
       " 848,\n",
       " 849,\n",
       " 850,\n",
       " 851,\n",
       " 852,\n",
       " 853,\n",
       " 854,\n",
       " 855,\n",
       " 856,\n",
       " 857,\n",
       " 858,\n",
       " 859,\n",
       " 860,\n",
       " 861,\n",
       " 862,\n",
       " 863,\n",
       " 864,\n",
       " 865,\n",
       " 866,\n",
       " 867,\n",
       " 868,\n",
       " 869,\n",
       " 870,\n",
       " 871,\n",
       " 872,\n",
       " 873,\n",
       " 874,\n",
       " 875,\n",
       " 876,\n",
       " 877,\n",
       " 878,\n",
       " 879,\n",
       " 880,\n",
       " 881,\n",
       " 882,\n",
       " 883,\n",
       " 884,\n",
       " 885,\n",
       " 886,\n",
       " 887,\n",
       " 888,\n",
       " 889,\n",
       " 890,\n",
       " 891,\n",
       " 892,\n",
       " 893,\n",
       " 894,\n",
       " 895,\n",
       " 896,\n",
       " 897,\n",
       " 898,\n",
       " 899,\n",
       " 900,\n",
       " 901,\n",
       " 902,\n",
       " 903,\n",
       " 904,\n",
       " 905,\n",
       " 906,\n",
       " 907,\n",
       " 908,\n",
       " 909,\n",
       " 910,\n",
       " 911,\n",
       " 912,\n",
       " 913,\n",
       " 914,\n",
       " 915,\n",
       " 916,\n",
       " 917,\n",
       " 918,\n",
       " 919,\n",
       " 920,\n",
       " 921,\n",
       " 922,\n",
       " 923,\n",
       " 924,\n",
       " 925,\n",
       " 926,\n",
       " 927,\n",
       " 928,\n",
       " 929,\n",
       " 930,\n",
       " 931,\n",
       " 932,\n",
       " 933,\n",
       " 934,\n",
       " 935,\n",
       " 936,\n",
       " 937,\n",
       " 938,\n",
       " 939,\n",
       " 940,\n",
       " 941,\n",
       " 942,\n",
       " 943,\n",
       " 944,\n",
       " 945,\n",
       " 946,\n",
       " 947,\n",
       " 948,\n",
       " 949,\n",
       " 950,\n",
       " 951,\n",
       " 952,\n",
       " 953,\n",
       " 954,\n",
       " 955,\n",
       " 956,\n",
       " 957,\n",
       " 958,\n",
       " 959,\n",
       " 960,\n",
       " 961,\n",
       " 962,\n",
       " 963,\n",
       " 964,\n",
       " 965,\n",
       " 966,\n",
       " 967,\n",
       " 968,\n",
       " 969,\n",
       " 970,\n",
       " 971,\n",
       " 972,\n",
       " 973,\n",
       " 974,\n",
       " 975,\n",
       " 976,\n",
       " 977,\n",
       " 978,\n",
       " 979,\n",
       " 980,\n",
       " 981,\n",
       " 982,\n",
       " 983,\n",
       " 984,\n",
       " 985,\n",
       " 986,\n",
       " 987,\n",
       " 988,\n",
       " 989,\n",
       " 990,\n",
       " 991,\n",
       " 992,\n",
       " 993,\n",
       " 994,\n",
       " 995,\n",
       " 996,\n",
       " 997,\n",
       " 998,\n",
       " 999,\n",
       " 1000,\n",
       " ...]"
      ]
     },
     "execution_count": 21,
     "metadata": {},
     "output_type": "execute_result"
    }
   ],
   "source": [
    "%time [i+1 for i in range(7000)]\n"
   ]
  },
  {
   "cell_type": "markdown",
   "id": "afdea2f7",
   "metadata": {},
   "source": [
    "# list comprehension with if\n",
    "### Accept only numbers lower than 5 from range -5 to 10"
   ]
  },
  {
   "cell_type": "code",
   "execution_count": 23,
   "id": "32ba8bb5",
   "metadata": {},
   "outputs": [],
   "source": [
    "lt5 = []\n",
    "for index in range(-5, 10):\n",
    "    if index < 5:\n",
    "        lt5.append(index)"
   ]
  },
  {
   "cell_type": "code",
   "execution_count": 24,
   "id": "e1b2c0ea",
   "metadata": {},
   "outputs": [
    {
     "data": {
      "text/plain": [
       "[-5, -4, -3, -2, -1, 0, 1, 2, 3, 4]"
      ]
     },
     "execution_count": 24,
     "metadata": {},
     "output_type": "execute_result"
    }
   ],
   "source": [
    "lt5"
   ]
  },
  {
   "cell_type": "code",
   "execution_count": 28,
   "id": "6e755bdf",
   "metadata": {},
   "outputs": [
    {
     "data": {
      "text/plain": [
       "[-5, -4, -3, -2, -1, 0, 1, 2, 3, 4]"
      ]
     },
     "execution_count": 28,
     "metadata": {},
     "output_type": "execute_result"
    }
   ],
   "source": [
    "[index for index in range(-5, 10) if index < 5]"
   ]
  },
  {
   "cell_type": "markdown",
   "id": "28e8eb2d",
   "metadata": {},
   "source": [
    "# Accept item that are not apple"
   ]
  },
  {
   "cell_type": "code",
   "execution_count": 29,
   "id": "7c4c0da1",
   "metadata": {},
   "outputs": [],
   "source": [
    "fruits = ['apple', 'banana', 'apple', 'mango']"
   ]
  },
  {
   "cell_type": "code",
   "execution_count": 30,
   "id": "d370e7f2",
   "metadata": {},
   "outputs": [
    {
     "data": {
      "text/plain": [
       "['banana', 'mango']"
      ]
     },
     "execution_count": 30,
     "metadata": {},
     "output_type": "execute_result"
    }
   ],
   "source": [
    "[item for item in fruits if item != 'apple' ] # != called not equal"
   ]
  },
  {
   "cell_type": "markdown",
   "id": "0d00c004",
   "metadata": {},
   "source": [
    "# list comprehension with if and else statement \n",
    "<img src = \"https://www.google.com/search?q=list+comprehension+python&sxsrf=AJOqlzXQVLaoa6K4BnNDKHPszNJk0KiWrA:1677980422943&source=lnms&tbm=isch&sa=X&ved=2ahUKEwiiwLKY1MP9AhWbTGwGHUdbABYQ0pQJegQIBhAC&biw=762&bih=593&dpr=1.5#imgrc=LYQttfwlKLvVrM\" >\n",
    "```python expression if true else Expression for item in teribles`"
   ]
  },
  {
   "cell_type": "code",
   "execution_count": 31,
   "id": "9ebaa83d",
   "metadata": {},
   "outputs": [
    {
     "data": {
      "text/plain": [
       "[0,\n",
       " 0,\n",
       " 0,\n",
       " 0,\n",
       " 0,\n",
       " 0,\n",
       " 0,\n",
       " 0,\n",
       " 0,\n",
       " 0,\n",
       " 0,\n",
       " 0,\n",
       " 0,\n",
       " 0,\n",
       " 0,\n",
       " 0,\n",
       " 1,\n",
       " 2,\n",
       " 3,\n",
       " 4,\n",
       " 5,\n",
       " 6,\n",
       " 7,\n",
       " 8,\n",
       " 9,\n",
       " 10,\n",
       " 11,\n",
       " 12,\n",
       " 13,\n",
       " 14]"
      ]
     },
     "execution_count": 31,
     "metadata": {},
     "output_type": "execute_result"
    }
   ],
   "source": [
    "[0 if x<= 0 else x for x in range(-15, 15)]"
   ]
  },
  {
   "cell_type": "code",
   "execution_count": null,
   "id": "c085771a",
   "metadata": {},
   "outputs": [],
   "source": []
  }
 ],
 "metadata": {
  "kernelspec": {
   "display_name": "Python 3 (ipykernel)",
   "language": "python",
   "name": "python3"
  },
  "language_info": {
   "codemirror_mode": {
    "name": "ipython",
    "version": 3
   },
   "file_extension": ".py",
   "mimetype": "text/x-python",
   "name": "python",
   "nbconvert_exporter": "python",
   "pygments_lexer": "ipython3",
   "version": "3.9.13"
  }
 },
 "nbformat": 4,
 "nbformat_minor": 5
}
