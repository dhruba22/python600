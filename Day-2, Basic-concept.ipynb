{
 "cells": [
  {
   "cell_type": "markdown",
   "id": "be8c7c79",
   "metadata": {},
   "source": [
    "# Arithmatic Operator in Python\n",
    "* Addition (+)\n",
    "* Subtraction (-)\n",
    "* Multiplication (*)\n",
    "* Division (/)\n",
    "* Exponential (**)\n",
    "* Floor Division (//)\n",
    "* Modulus (%)"
   ]
  },
  {
   "cell_type": "code",
   "execution_count": null,
   "id": "fd4bf203",
   "metadata": {},
   "outputs": [],
   "source": [
    "# this is python comment\n",
    "# Comment is not executed by interperter"
   ]
  },
  {
   "cell_type": "code",
   "execution_count": null,
   "id": "901fd444",
   "metadata": {},
   "outputs": [],
   "source": [
    "2 + 2"
   ]
  },
  {
   "cell_type": "code",
   "execution_count": null,
   "id": "b4bd682b",
   "metadata": {},
   "outputs": [],
   "source": [
    "a = 8\n",
    "b = 99\n",
    "total = a + b\n",
    "Print(total)"
   ]
  },
  {
   "cell_type": "markdown",
   "id": "b2b5cbf0",
   "metadata": {},
   "source": [
    "Exponentiation\n",
    "to the power"
   ]
  },
  {
   "cell_type": "code",
   "execution_count": null,
   "id": "bbbe1afa",
   "metadata": {},
   "outputs": [],
   "source": [
    "2 ** 3 # 2 to the power 3"
   ]
  },
  {
   "cell_type": "code",
   "execution_count": null,
   "id": "ff0350fb",
   "metadata": {},
   "outputs": [],
   "source": [
    "5 ** 5 # 5 to the power 5"
   ]
  },
  {
   "cell_type": "markdown",
   "id": "0008d4ae",
   "metadata": {},
   "source": [
    "Floor Division"
   ]
  },
  {
   "cell_type": "code",
   "execution_count": null,
   "id": "fe272f86",
   "metadata": {},
   "outputs": [],
   "source": [
    "15/2\n"
   ]
  },
  {
   "cell_type": "code",
   "execution_count": null,
   "id": "2c2353f0",
   "metadata": {},
   "outputs": [],
   "source": [
    "15//2 # 7.5 ko floor value 7 ho output = 7"
   ]
  },
  {
   "cell_type": "code",
   "execution_count": null,
   "id": "4418ccce",
   "metadata": {},
   "outputs": [],
   "source": [
    "19//4 # floor value 4 because 19/4 = 4.75"
   ]
  },
  {
   "cell_type": "code",
   "execution_count": null,
   "id": "b520dcbb",
   "metadata": {},
   "outputs": [],
   "source": [
    "19/4"
   ]
  },
  {
   "cell_type": "markdown",
   "id": "77aaed01",
   "metadata": {},
   "source": [
    "# Modulus"
   ]
  },
  {
   "cell_type": "code",
   "execution_count": null,
   "id": "ea0529be",
   "metadata": {},
   "outputs": [],
   "source": [
    "5 % 2 # remainder din6 "
   ]
  },
  {
   "cell_type": "code",
   "execution_count": null,
   "id": "3b5196ae",
   "metadata": {},
   "outputs": [],
   "source": [
    "19 % 4 # remainder"
   ]
  },
  {
   "cell_type": "markdown",
   "id": "45fe77e9",
   "metadata": {},
   "source": [
    "# User input in python"
   ]
  },
  {
   "cell_type": "markdown",
   "id": "2b1aecf3",
   "metadata": {},
   "source": [
    "s = input(\"Enter a number\")\n",
    "print(tupe(s))"
   ]
  },
  {
   "cell_type": "markdown",
   "id": "014f7e4a",
   "metadata": {},
   "source": [
    "# type casting in python\n"
   ]
  },
  {
   "cell_type": "code",
   "execution_count": null,
   "id": "4a810d62",
   "metadata": {},
   "outputs": [],
   "source": [
    "num1 = int(input(\"Enter first number:\"))\n",
    "num2 = int(input(\"Enter second number: \"))\n",
    "total = num1 + num2\n",
    "print (total)"
   ]
  },
  {
   "cell_type": "markdown",
   "id": "3203c99b",
   "metadata": {},
   "source": [
    "# conditional in python"
   ]
  },
  {
   "cell_type": "code",
   "execution_count": null,
   "id": "ab1e3afe",
   "metadata": {},
   "outputs": [],
   "source": [
    "(9 % 2)"
   ]
  },
  {
   "cell_type": "code",
   "execution_count": null,
   "id": "765919c3",
   "metadata": {},
   "outputs": [],
   "source": [
    "(4 % 2)\n"
   ]
  },
  {
   "cell_type": "code",
   "execution_count": null,
   "id": "4bc30e01",
   "metadata": {},
   "outputs": [],
   "source": [
    "number = int(input(\"Enter a number: \"))\n",
    "rem = number % 2\n",
    "if rem == 0:\n",
    "    print(\"The number is even\")\n",
    "else:\n",
    "    print(\"The Number is odd\")"
   ]
  },
  {
   "cell_type": "code",
   "execution_count": null,
   "id": "fbc5315d",
   "metadata": {},
   "outputs": [],
   "source": [
    "10 == 10"
   ]
  },
  {
   "cell_type": "code",
   "execution_count": null,
   "id": "0020c5d2",
   "metadata": {},
   "outputs": [],
   "source": [
    "if 10 == 10:\n",
    "print(\"equal\")\n",
    "    "
   ]
  },
  {
   "cell_type": "code",
   "execution_count": null,
   "id": "b138109d",
   "metadata": {},
   "outputs": [],
   "source": [
    "number = int(input(\"Enter a number: \"))\n",
    "rem = number % 2\n",
    "if number % 2 == 0:\n",
    "    print(\"The number is even\")\n",
    "else:\n",
    "    print(\"The Number is odd\")"
   ]
  },
  {
   "cell_type": "code",
   "execution_count": null,
   "id": "c82bd472",
   "metadata": {},
   "outputs": [],
   "source": [
    "judge_input = int(input(\"How much out of 10?\"))\n",
    "if judge_input == 10:\n",
    "    print(f\"Superb . you received {judge_input}\")\n",
    "else:\n",
    "    Print (f\"La torai Number aayo\")"
   ]
  },
  {
   "cell_type": "markdown",
   "id": "4aa13ac0",
   "metadata": {},
   "source": [
    "# Comparison operator 'Booleans'"
   ]
  },
  {
   "cell_type": "code",
   "execution_count": null,
   "id": "287d1e33",
   "metadata": {},
   "outputs": [],
   "source": [
    " 10 == 10 "
   ]
  },
  {
   "cell_type": "code",
   "execution_count": null,
   "id": "c5e1a156",
   "metadata": {},
   "outputs": [],
   "source": [
    "5 > 55"
   ]
  },
  {
   "cell_type": "code",
   "execution_count": null,
   "id": "de67cfaf",
   "metadata": {},
   "outputs": [],
   "source": [
    "2 >= 2 "
   ]
  },
  {
   "cell_type": "code",
   "execution_count": null,
   "id": "0a7b7cb0",
   "metadata": {},
   "outputs": [],
   "source": [
    "5 <= 6"
   ]
  },
  {
   "cell_type": "markdown",
   "id": "24d7b603",
   "metadata": {},
   "source": [
    "# day-4"
   ]
  },
  {
   "cell_type": "code",
   "execution_count": null,
   "id": "091a30f4",
   "metadata": {},
   "outputs": [],
   "source": [
    "num = int (input(\"Enter a number\"))"
   ]
  },
  {
   "cell_type": "code",
   "execution_count": null,
   "id": "ac15032c",
   "metadata": {},
   "outputs": [],
   "source": [
    "num = int(input (\"Enter a Number\")\n",
    "     if num%2 == 0:\n",
    "         print(\"even\")\n",
    "     else\n",
    "         print(\"odd\")"
   ]
  },
  {
   "cell_type": "markdown",
   "id": "ced5db5f",
   "metadata": {},
   "source": []
  },
  {
   "cell_type": "markdown",
   "id": "aabb96a8",
   "metadata": {},
   "source": [
    "# Assignment"
   ]
  },
  {
   "cell_type": "code",
   "execution_count": null,
   "id": "ff0ca3ce",
   "metadata": {},
   "outputs": [],
   "source": [
    "time_in_sec = 42 * 60 + 42\n",
    "print(time_in_sec)"
   ]
  },
  {
   "cell_type": "markdown",
   "id": "890ac50f",
   "metadata": {},
   "source": [
    "# Q-2"
   ]
  },
  {
   "cell_type": "code",
   "execution_count": null,
   "id": "243fc911",
   "metadata": {},
   "outputs": [],
   "source": [
    "distance_in_miles = 10/1.609"
   ]
  },
  {
   "cell_type": "code",
   "execution_count": null,
   "id": "3909f981",
   "metadata": {},
   "outputs": [],
   "source": [
    "print(distance_in_miles)"
   ]
  },
  {
   "cell_type": "markdown",
   "id": "3c538518",
   "metadata": {},
   "source": [
    "#Q-4"
   ]
  },
  {
   "cell_type": "code",
   "execution_count": null,
   "id": "97a556c4",
   "metadata": {},
   "outputs": [],
   "source": [
    "time_in_min = 42+42/60\n"
   ]
  },
  {
   "cell_type": "code",
   "execution_count": null,
   "id": "c16cf1d4",
   "metadata": {},
   "outputs": [],
   "source": [
    "speed_miles_per_min = distance_in_miles/time_in_min"
   ]
  },
  {
   "cell_type": "code",
   "execution_count": null,
   "id": "08f45440",
   "metadata": {},
   "outputs": [],
   "source": [
    "speed_mile_per_sec = distance_in_miles/time_in_sec"
   ]
  },
  {
   "cell_type": "code",
   "execution_count": null,
   "id": "24fd4840",
   "metadata": {},
   "outputs": [],
   "source": [
    "speed_mile_per_sec"
   ]
  },
  {
   "cell_type": "markdown",
   "id": "f47bdf8a",
   "metadata": {},
   "source": [
    "# find the volume of sphere with radius = 5\n",
    "$$V = \\frac{4} {3} \\pi  \\cdot* r^3$$"
   ]
  },
  {
   "cell_type": "code",
   "execution_count": null,
   "id": "a6b4181c",
   "metadata": {},
   "outputs": [],
   "source": [
    "radius = 5\n",
    "PI = 3.14\n",
    "volume = 4/3  * PI * radius ** 3"
   ]
  },
  {
   "cell_type": "code",
   "execution_count": null,
   "id": "38f7c7e6",
   "metadata": {},
   "outputs": [],
   "source": [
    "print(volume)"
   ]
  },
  {
   "cell_type": "markdown",
   "id": "e8bf9c9a",
   "metadata": {},
   "source": [
    "# check input Positive or Negetive"
   ]
  },
  {
   "cell_type": "code",
   "execution_count": null,
   "id": "105f4e91",
   "metadata": {},
   "outputs": [],
   "source": [
    "num = float(input(\"Enter a number\"))\n",
    "if num < 0:\n",
    "    print(\"The Number {num}is Negative\")\n",
    "else: \n",
    "    print(\"The Number {num} is positive\")"
   ]
  },
  {
   "cell_type": "code",
   "execution_count": null,
   "id": "a822a960",
   "metadata": {},
   "outputs": [],
   "source": [
    "a = 40\n",
    "print(\"The input number is 5\")"
   ]
  },
  {
   "cell_type": "markdown",
   "id": "fe933337",
   "metadata": {},
   "source": [
    "# Check given number multiple of 5 or not"
   ]
  },
  {
   "cell_type": "code",
   "execution_count": null,
   "id": "6b75b9c5",
   "metadata": {},
   "outputs": [],
   "source": [
    "num = int(input(\"Enter a Number:\"))\n",
    "if num % 5 == 0:\n",
    "    print(f\"The number {num} is multiple of 5\")\n",
    "else:\n",
    "    print(f\"The number {num} is not the multiple of 5\")"
   ]
  },
  {
   "cell_type": "markdown",
   "id": "d58dc965",
   "metadata": {},
   "source": [
    "# check if someone is voting eligible or not"
   ]
  },
  {
   "cell_type": "code",
   "execution_count": null,
   "id": "306975a9",
   "metadata": {},
   "outputs": [],
   "source": [
    "age = int(input(\"Enter your age ..\"))\n",
    "if age >= 18:\n",
    "    print(\"You are eligible to vote\")\n",
    "else:\n",
    "    print(\"You are underaged to vote.\")"
   ]
  },
  {
   "cell_type": "markdown",
   "id": "33c641da",
   "metadata": {},
   "source": [
    "# check if last digit of number is divisible by 3 or not"
   ]
  },
  {
   "cell_type": "code",
   "execution_count": null,
   "id": "84fb04e5",
   "metadata": {},
   "outputs": [],
   "source": [
    "num = int(input(\"Enter a number: \"))\n",
    "last_digit = num % 10\n",
    "\n",
    "if last_digit % 3 == 0:\n",
    "    print(f\"The number's {num} lst digit {last_digit} is divisible by 3\")\n",
    "else: \n",
    "    print(f\"The number {num} last digit {last_digit} is not divisible by 3\")"
   ]
  },
  {
   "cell_type": "markdown",
   "id": "3cbfe911",
   "metadata": {},
   "source": [
    "# feb-23 Wap to check if the user input is zero, positive and negative, and print respective message."
   ]
  },
  {
   "cell_type": "code",
   "execution_count": null,
   "id": "4b2775c6",
   "metadata": {},
   "outputs": [],
   "source": [
    "num = int(input(\"Enter a Number: \"))\n",
    "if num == 0:\n",
    "    print(\"The Number is zero or Neutral\")\n",
    "if num < 0:\n",
    "    print(\"The Number is Negative\")\n",
    "if num > 0:\n",
    "    print(\"The Number is Positive\")"
   ]
  },
  {
   "cell_type": "markdown",
   "id": "771feaba",
   "metadata": {},
   "source": [
    "# Day-5, write a two number given by user"
   ]
  },
  {
   "cell_type": "code",
   "execution_count": null,
   "id": "45f9a066",
   "metadata": {},
   "outputs": [],
   "source": [
    "num1 = int(input(\"Enter first number: \"))\n",
    "num2 = int(input(\"Enter second number: \"))\n",
    "total = num1 + num2\n",
    "print(total)"
   ]
  },
  {
   "cell_type": "code",
   "execution_count": null,
   "id": "adef2860",
   "metadata": {},
   "outputs": [],
   "source": [
    " 8 % 2"
   ]
  },
  {
   "cell_type": "code",
   "execution_count": null,
   "id": "8652a903",
   "metadata": {},
   "outputs": [],
   "source": [
    "num = int(input(\"Enter a number: \"))\n",
    "if num % 2 == 0:\n",
    "    print(\"The number is even\")\n",
    "    \n",
    "else:\n",
    "    print(\"The number is odd\")"
   ]
  },
  {
   "cell_type": "code",
   "execution_count": null,
   "id": "d2f3d77d",
   "metadata": {},
   "outputs": [],
   "source": [
    "num = in(input(\"Enter a number: \"))\n",
    "if num % 2 == 0:\n",
    "    print(\"The number is even\")\n",
    "    \n",
    "else:\n",
    "    print(\"The number is odd\")"
   ]
  },
  {
   "cell_type": "code",
   "execution_count": null,
   "id": "ab378d48",
   "metadata": {},
   "outputs": [],
   "source": [
    "num = int(input(\"Enter a number: \"))\n",
    "if num < 0:\n",
    "    print(\"The number is negative\")\n",
    "    \n",
    "else:\n",
    "    print(\"The number is positive\")"
   ]
  },
  {
   "cell_type": "code",
   "execution_count": null,
   "id": "7c1efe37",
   "metadata": {},
   "outputs": [],
   "source": [
    "num = int(input(\"Enter a number: \"))\n",
    "if num < 0:\n",
    "    print(\"The number is negative\")\n",
    "elif num == 0:\n",
    "    print(\"The number is neutral\")\n",
    "    \n",
    "else:\n",
    "    print(\"The number is positive\")"
   ]
  },
  {
   "cell_type": "markdown",
   "id": "66e31c46",
   "metadata": {},
   "source": [
    "# Logical operator\n",
    "* and : all expression must be true to get True\n",
    "* or : one must be True to get True\n",
    "* not : negation, not True means false or net false means True\n",
    "*2x2 Table\n",
    "| A |not A|\n",
    "|----: |-----: |\n",
    "| True  |False   |\n",
    "| False  |True   |\n",
    "<table>\n",
    "    <th>Test</th>\n",
    "    </table>"
   ]
  },
  {
   "cell_type": "code",
   "execution_count": 2,
   "id": "91f7721d",
   "metadata": {},
   "outputs": [
    {
     "name": "stdout",
     "output_type": "stream",
     "text": [
      "Both are not true\n"
     ]
    }
   ],
   "source": [
    "num = 5\n",
    "if num > 0 and num < 5:\n",
    "    print(\"Both condition true\")\n",
    "\n",
    "else:\n",
    "    print(\"Both are not true\")"
   ]
  },
  {
   "cell_type": "markdown",
   "id": "cbae396b",
   "metadata": {},
   "source": [
    "# String"
   ]
  },
  {
   "cell_type": "code",
   "execution_count": 3,
   "id": "9053235b",
   "metadata": {},
   "outputs": [],
   "source": [
    "s = 'hello world'"
   ]
  },
  {
   "cell_type": "code",
   "execution_count": 4,
   "id": "24ac766c",
   "metadata": {},
   "outputs": [
    {
     "data": {
      "text/plain": [
       "str"
      ]
     },
     "execution_count": 4,
     "metadata": {},
     "output_type": "execute_result"
    }
   ],
   "source": [
    "type(s)\n"
   ]
  },
  {
   "cell_type": "code",
   "execution_count": 6,
   "id": "9fd0cafc",
   "metadata": {},
   "outputs": [
    {
     "data": {
      "text/plain": [
       "11"
      ]
     },
     "execution_count": 6,
     "metadata": {},
     "output_type": "execute_result"
    }
   ],
   "source": [
    "len(s)"
   ]
  },
  {
   "cell_type": "code",
   "execution_count": 7,
   "id": "d66be831",
   "metadata": {},
   "outputs": [
    {
     "data": {
      "text/plain": [
       "'e'"
      ]
     },
     "execution_count": 7,
     "metadata": {},
     "output_type": "execute_result"
    }
   ],
   "source": [
    "s[1] # indexing"
   ]
  },
  {
   "cell_type": "code",
   "execution_count": 8,
   "id": "4b7f8db2",
   "metadata": {},
   "outputs": [
    {
     "data": {
      "text/plain": [
       "'h'"
      ]
     },
     "execution_count": 8,
     "metadata": {},
     "output_type": "execute_result"
    }
   ],
   "source": [
    "s[0] # indexing"
   ]
  },
  {
   "cell_type": "code",
   "execution_count": 9,
   "id": "ed628eec",
   "metadata": {},
   "outputs": [
    {
     "data": {
      "text/plain": [
       "'w'"
      ]
     },
     "execution_count": 9,
     "metadata": {},
     "output_type": "execute_result"
    }
   ],
   "source": [
    "s[6]"
   ]
  },
  {
   "cell_type": "code",
   "execution_count": 10,
   "id": "de3e9512",
   "metadata": {},
   "outputs": [
    {
     "data": {
      "text/plain": [
       "'hello'"
      ]
     },
     "execution_count": 10,
     "metadata": {},
     "output_type": "execute_result"
    }
   ],
   "source": [
    "s[0:5] # takes index value 0, 1, 2,3, 4"
   ]
  },
  {
   "cell_type": "code",
   "execution_count": 11,
   "id": "481953d6",
   "metadata": {},
   "outputs": [
    {
     "data": {
      "text/plain": [
       "'world'"
      ]
     },
     "execution_count": 11,
     "metadata": {},
     "output_type": "execute_result"
    }
   ],
   "source": [
    "s[6:11] # takes index value 6, 7, 8, 9, 10"
   ]
  },
  {
   "cell_type": "code",
   "execution_count": 12,
   "id": "ffec563b",
   "metadata": {},
   "outputs": [
    {
     "data": {
      "text/plain": [
       "'hello world'"
      ]
     },
     "execution_count": 12,
     "metadata": {},
     "output_type": "execute_result"
    }
   ],
   "source": [
    "s[:11] # takes by default 0"
   ]
  },
  {
   "cell_type": "code",
   "execution_count": 13,
   "id": "a59fff78",
   "metadata": {},
   "outputs": [
    {
     "data": {
      "text/plain": [
       "'world'"
      ]
     },
     "execution_count": 13,
     "metadata": {},
     "output_type": "execute_result"
    }
   ],
   "source": [
    "s[6:] # takes index value 6, 7, 8, 9,10"
   ]
  },
  {
   "cell_type": "code",
   "execution_count": 15,
   "id": "4c992dea",
   "metadata": {},
   "outputs": [
    {
     "data": {
      "text/plain": [
       "'hello world'"
      ]
     },
     "execution_count": 15,
     "metadata": {},
     "output_type": "execute_result"
    }
   ],
   "source": [
    "s[0:]"
   ]
  },
  {
   "cell_type": "code",
   "execution_count": 16,
   "id": "adef250d",
   "metadata": {},
   "outputs": [
    {
     "data": {
      "text/plain": [
       "'siyaram'"
      ]
     },
     "execution_count": 16,
     "metadata": {},
     "output_type": "execute_result"
    }
   ],
   "source": [
    "\"siya\" + \"ram\""
   ]
  },
  {
   "cell_type": "code",
   "execution_count": 17,
   "id": "6cc93896",
   "metadata": {},
   "outputs": [
    {
     "data": {
      "text/plain": [
       "'hihihi'"
      ]
     },
     "execution_count": 17,
     "metadata": {},
     "output_type": "execute_result"
    }
   ],
   "source": [
    "\"hi\" * 3\n"
   ]
  },
  {
   "cell_type": "code",
   "execution_count": null,
   "id": "3cdf688c",
   "metadata": {},
   "outputs": [],
   "source": []
  }
 ],
 "metadata": {
  "kernelspec": {
   "display_name": "Python 3 (ipykernel)",
   "language": "python",
   "name": "python3"
  },
  "language_info": {
   "codemirror_mode": {
    "name": "ipython",
    "version": 3
   },
   "file_extension": ".py",
   "mimetype": "text/x-python",
   "name": "python",
   "nbconvert_exporter": "python",
   "pygments_lexer": "ipython3",
   "version": "3.9.13"
  }
 },
 "nbformat": 4,
 "nbformat_minor": 5
}
