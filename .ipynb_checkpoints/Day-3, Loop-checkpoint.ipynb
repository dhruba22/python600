{
 "cells": [
  {
   "cell_type": "markdown",
   "id": "c09f1033",
   "metadata": {},
   "source": [
    "# Range(start, end, step) * for loop"
   ]
  },
  {
   "cell_type": "code",
   "execution_count": null,
   "id": "b9e8976c",
   "metadata": {},
   "outputs": [],
   "source": [
    "end = 100\n",
    "start = 50\n",
    "step = 10"
   ]
  },
  {
   "cell_type": "code",
   "execution_count": null,
   "id": "5fa5d160",
   "metadata": {},
   "outputs": [],
   "source": [
    "range(start, end, step)"
   ]
  },
  {
   "cell_type": "code",
   "execution_count": null,
   "id": "be3ada96",
   "metadata": {},
   "outputs": [],
   "source": [
    "for price in range(start, end, step):\n",
    "    print(price)"
   ]
  },
  {
   "cell_type": "markdown",
   "id": "eb68ca53",
   "metadata": {},
   "source": [
    "# Print string on reverse order using loops and range() function"
   ]
  },
  {
   "cell_type": "code",
   "execution_count": 1,
   "id": "3210153e",
   "metadata": {},
   "outputs": [],
   "source": [
    "s = \"HELLO WORLD\""
   ]
  },
  {
   "cell_type": "code",
   "execution_count": 11,
   "id": "d5a0ae00",
   "metadata": {},
   "outputs": [],
   "source": [
    "start = len(s) - 1\n",
    "end = -1\n",
    "step = -1"
   ]
  },
  {
   "cell_type": "code",
   "execution_count": 12,
   "id": "ebfe586b",
   "metadata": {},
   "outputs": [
    {
     "name": "stdout",
     "output_type": "stream",
     "text": [
      "index = 10, letter = D\n",
      "index = 9, letter = L\n",
      "index = 8, letter = R\n",
      "index = 7, letter = O\n",
      "index = 6, letter = W\n",
      "index = 5, letter =  \n",
      "index = 4, letter = O\n",
      "index = 3, letter = L\n",
      "index = 2, letter = L\n",
      "index = 1, letter = E\n",
      "index = 0, letter = H\n"
     ]
    }
   ],
   "source": [
    "for index in range(start, end, step):\n",
    "    letter = s[index]\n",
    "    print(f\"index = {index}, letter = {letter}\")"
   ]
  },
  {
   "cell_type": "code",
   "execution_count": 15,
   "id": "eed4497b",
   "metadata": {},
   "outputs": [
    {
     "name": "stdout",
     "output_type": "stream",
     "text": [
      "the letter a is Vowel\n",
      "the letter e is Vowel\n",
      "The letter y is Consonant\n",
      "the letter i is Vowel\n"
     ]
    }
   ],
   "source": [
    "response = 'aeyi'\n",
    "for index in range(len(response)):\n",
    "    letter = response[index]\n",
    "    if letter == 'a' or letter == 'e' or letter == 'i' or letter == 'o' or letter == 'u':\n",
    "        print(f\"the letter {letter} is Vowel\")\n",
    "        \n",
    "    else:\n",
    "        print(f\"The letter {letter} is Consonant\")"
   ]
  },
  {
   "cell_type": "markdown",
   "id": "71091ec7",
   "metadata": {},
   "source": [
    "# break vs continue statements"
   ]
  },
  {
   "cell_type": "code",
   "execution_count": 28,
   "id": "5d7e80c8",
   "metadata": {},
   "outputs": [
    {
     "name": "stdout",
     "output_type": "stream",
     "text": [
      "the letter a is Vowel\n",
      "The letter b is Consonant\n",
      "The letter c is Consonant\n",
      "The letter d is Consonant\n",
      "the letter e is Vowel\n",
      "The letter f is Consonant\n",
      "The letter g is Consonant\n",
      "The letter h is Consonant\n",
      "the letter i is Vowel\n"
     ]
    }
   ],
   "source": [
    "text = 'abc def ghi'\n",
    "for index in range(len(text)):\n",
    "    letter = text[index]\n",
    "    if letter == 'a' or letter == 'e' or letter == 'i' or letter == 'o' or letter == 'u':\n",
    "     print(f\"the letter {letter} is Vowel\")\n",
    "        \n",
    "    elif letter == \" \":\n",
    "        continue\n",
    "        print(\"This is after continue\")\n",
    "    \n",
    "    else:\n",
    "        print(f\"The letter {letter} is Consonant\")"
   ]
  },
  {
   "cell_type": "code",
   "execution_count": 29,
   "id": "2e91d392",
   "metadata": {},
   "outputs": [
    {
     "name": "stdout",
     "output_type": "stream",
     "text": [
      "the letter a is Vowel\n",
      "The letter b is Consonant\n",
      "The letter c is Consonant\n"
     ]
    }
   ],
   "source": [
    "xt = 'abc def ghi'\n",
    "for index in range(len(text)):\n",
    "    letter = text[index]\n",
    "    if letter == 'a' or letter == 'e' or letter == 'i' or letter == 'o' or letter == 'u':\n",
    "     print(f\"the letter {letter} is Vowel\")\n",
    "        \n",
    "    elif letter == \" \":\n",
    "        break\n",
    "        print(\"This is after continue\")\n",
    "    \n",
    "    else:\n",
    "        print(f\"The letter {letter} is Consonant\")"
   ]
  },
  {
   "cell_type": "code",
   "execution_count": 31,
   "id": "f5420012",
   "metadata": {},
   "outputs": [
    {
     "name": "stdout",
     "output_type": "stream",
     "text": [
      "1\n",
      "2\n",
      "4\n"
     ]
    }
   ],
   "source": [
    "for num in range(1,5):\n",
    "    if num == 3:\n",
    "        continue # continue skips the loop if the condition is true\n",
    "    print(num)"
   ]
  },
  {
   "cell_type": "code",
   "execution_count": 32,
   "id": "6bd75752",
   "metadata": {},
   "outputs": [
    {
     "name": "stdout",
     "output_type": "stream",
     "text": [
      "1\n",
      "2\n"
     ]
    }
   ],
   "source": [
    "for num in range(1,5):\n",
    "    if num == 3:\n",
    "        break # terminates the loop if condition is True\n",
    "    print(num)"
   ]
  },
  {
   "cell_type": "code",
   "execution_count": null,
   "id": "ae756c9d",
   "metadata": {},
   "outputs": [],
   "source": []
  }
 ],
 "metadata": {
  "kernelspec": {
   "display_name": "Python 3 (ipykernel)",
   "language": "python",
   "name": "python3"
  },
  "language_info": {
   "codemirror_mode": {
    "name": "ipython",
    "version": 3
   },
   "file_extension": ".py",
   "mimetype": "text/x-python",
   "name": "python",
   "nbconvert_exporter": "python",
   "pygments_lexer": "ipython3",
   "version": "3.9.13"
  }
 },
 "nbformat": 4,
 "nbformat_minor": 5
}
