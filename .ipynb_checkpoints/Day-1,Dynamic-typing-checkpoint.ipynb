{
 "cells": [
  {
   "cell_type": "markdown",
   "id": "7f89faff",
   "metadata": {},
   "source": [
    "# Dynamic Typing"
   ]
  },
  {
   "cell_type": "code",
   "execution_count": 1,
   "id": "5aec105a",
   "metadata": {},
   "outputs": [
    {
     "data": {
      "text/plain": [
       "3"
      ]
     },
     "execution_count": 1,
     "metadata": {},
     "output_type": "execute_result"
    }
   ],
   "source": [
    "1 + 2"
   ]
  },
  {
   "cell_type": "code",
   "execution_count": 2,
   "id": "2bede913",
   "metadata": {},
   "outputs": [],
   "source": [
    "a = 20"
   ]
  },
  {
   "cell_type": "code",
   "execution_count": 3,
   "id": "b9e8976c",
   "metadata": {},
   "outputs": [
    {
     "ename": "SyntaxError",
     "evalue": "cannot assign to literal (3955223923.py, line 1)",
     "output_type": "error",
     "traceback": [
      "\u001b[1;36m  File \u001b[1;32m\"C:\\Users\\it.dhruba\\AppData\\Local\\Temp\\ipykernel_9824\\3955223923.py\"\u001b[1;36m, line \u001b[1;32m1\u001b[0m\n\u001b[1;33m    20 = a\u001b[0m\n\u001b[1;37m    ^\u001b[0m\n\u001b[1;31mSyntaxError\u001b[0m\u001b[1;31m:\u001b[0m cannot assign to literal\n"
     ]
    }
   ],
   "source": [
    "20 = a"
   ]
  },
  {
   "cell_type": "markdown",
   "id": "f9a1805a",
   "metadata": {},
   "source": [
    "# can i provide any names to object to store the value - no"
   ]
  },
  {
   "cell_type": "markdown",
   "id": "b0916206",
   "metadata": {},
   "source": [
    "## Python Keywords cannot be variable names\n",
    "keywords are reserved words in python that helps us to sytax code. therefore they cannot be variable name. Python keyworks are case sensative"
   ]
  },
  {
   "cell_type": "code",
   "execution_count": 5,
   "id": "70cd7194",
   "metadata": {},
   "outputs": [
    {
     "ename": "SyntaxError",
     "evalue": "cannot assign to False (1160946929.py, line 1)",
     "output_type": "error",
     "traceback": [
      "\u001b[1;36m  File \u001b[1;32m\"C:\\Users\\it.dhruba\\AppData\\Local\\Temp\\ipykernel_9824\\1160946929.py\"\u001b[1;36m, line \u001b[1;32m1\u001b[0m\n\u001b[1;33m    False = 0\u001b[0m\n\u001b[1;37m    ^\u001b[0m\n\u001b[1;31mSyntaxError\u001b[0m\u001b[1;31m:\u001b[0m cannot assign to False\n"
     ]
    }
   ],
   "source": [
    "False = 0"
   ]
  },
  {
   "cell_type": "code",
   "execution_count": 6,
   "id": "3210153e",
   "metadata": {},
   "outputs": [],
   "source": [
    "Gloabal = 88"
   ]
  },
  {
   "cell_type": "markdown",
   "id": "ab856883",
   "metadata": {},
   "source": [
    "# python keywords are case sensative"
   ]
  },
  {
   "cell_type": "code",
   "execution_count": 7,
   "id": "ebfe586b",
   "metadata": {},
   "outputs": [
    {
     "ename": "SyntaxError",
     "evalue": "cannot assign to False (477564788.py, line 1)",
     "output_type": "error",
     "traceback": [
      "\u001b[1;36m  File \u001b[1;32m\"C:\\Users\\it.dhruba\\AppData\\Local\\Temp\\ipykernel_9824\\477564788.py\"\u001b[1;36m, line \u001b[1;32m1\u001b[0m\n\u001b[1;33m    False = 0\u001b[0m\n\u001b[1;37m    ^\u001b[0m\n\u001b[1;31mSyntaxError\u001b[0m\u001b[1;31m:\u001b[0m cannot assign to False\n"
     ]
    }
   ],
   "source": [
    "False = 0\n"
   ]
  },
  {
   "cell_type": "markdown",
   "id": "11eceda0",
   "metadata": {},
   "source": [
    "Case sensative: Upper case and lowercase are different eg. Python case insensative: Upper case and lowercase"
   ]
  },
  {
   "cell_type": "code",
   "execution_count": null,
   "id": "2bed4329",
   "metadata": {},
   "outputs": [],
   "source": []
  }
 ],
 "metadata": {
  "kernelspec": {
   "display_name": "Python 3 (ipykernel)",
   "language": "python",
   "name": "python3"
  },
  "language_info": {
   "codemirror_mode": {
    "name": "ipython",
    "version": 3
   },
   "file_extension": ".py",
   "mimetype": "text/x-python",
   "name": "python",
   "nbconvert_exporter": "python",
   "pygments_lexer": "ipython3",
   "version": "3.9.13"
  }
 },
 "nbformat": 4,
 "nbformat_minor": 5
}
