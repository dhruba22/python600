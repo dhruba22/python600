{
 "cells": [
  {
   "cell_type": "markdown",
   "id": "edc717d2",
   "metadata": {},
   "source": [
    "## Creating empty class in python"
   ]
  },
  {
   "cell_type": "code",
   "execution_count": null,
   "id": "69bf0e88",
   "metadata": {},
   "outputs": [],
   "source": [
    "class Person: # class\n",
    "    pass"
   ]
  },
  {
   "cell_type": "code",
   "execution_count": null,
   "id": "c58d4296",
   "metadata": {},
   "outputs": [],
   "source": [
    "p1 = Person() # p1 object of class Person"
   ]
  },
  {
   "cell_type": "code",
   "execution_count": null,
   "id": "1a5a6fad",
   "metadata": {},
   "outputs": [],
   "source": [
    "print(type(p1))"
   ]
  },
  {
   "cell_type": "code",
   "execution_count": null,
   "id": "6490c788",
   "metadata": {},
   "outputs": [],
   "source": [
    "a = 5\n",
    "print(type(a))"
   ]
  },
  {
   "cell_type": "code",
   "execution_count": null,
   "id": "a70e7bc6",
   "metadata": {},
   "outputs": [],
   "source": [
    "class Person: # class\n",
    "    pass\n",
    "if__name__=='__main__':\n",
    "    p1 = Person()\n",
    "    print(type(p1))"
   ]
  },
  {
   "cell_type": "markdown",
   "id": "4f317355",
   "metadata": {},
   "source": [
    "# Class attribute and object attribute"
   ]
  },
  {
   "cell_type": "code",
   "execution_count": null,
   "id": "4128fef8",
   "metadata": {},
   "outputs": [],
   "source": [
    "class Mammal:\n",
    "    has_hair = True # class attribute"
   ]
  },
  {
   "cell_type": "code",
   "execution_count": null,
   "id": "f75c321b",
   "metadata": {},
   "outputs": [],
   "source": [
    "human = Mammal()\n",
    "human.has_hair # attribute ma . hune"
   ]
  },
  {
   "cell_type": "code",
   "execution_count": null,
   "id": "eddc6981",
   "metadata": {},
   "outputs": [],
   "source": [
    "cow = Mammal()\n",
    "cow.has_hair # class attribute is same for all objects"
   ]
  },
  {
   "cell_type": "markdown",
   "id": "b33df0b1",
   "metadata": {},
   "source": [
    "## Object attribute"
   ]
  },
  {
   "cell_type": "code",
   "execution_count": null,
   "id": "48d47a1d",
   "metadata": {},
   "outputs": [],
   "source": [
    "class Mammal:\n",
    "    def __init__(self,no_of_legs):\n",
    "          self.no_of_legs = no_of_legs"
   ]
  },
  {
   "cell_type": "code",
   "execution_count": null,
   "id": "4ddb189e",
   "metadata": {},
   "outputs": [],
   "source": [
    "human = Mammal(4)\n",
    "  print(human.has_hair)\n",
    "print(cow.no_of_legs)"
   ]
  },
  {
   "cell_type": "markdown",
   "id": "23f937a0",
   "metadata": {},
   "source": [
    "## What is self?"
   ]
  },
  {
   "cell_type": "code",
   "execution_count": null,
   "id": "b436d86f",
   "metadata": {},
   "outputs": [],
   "source": [
    "class Mammal:\n",
    "    def __init__(self, leg):\n",
    "        print(type(self))\n",
    "        self.leg = leg"
   ]
  },
  {
   "cell_type": "code",
   "execution_count": null,
   "id": "c7ea84d2",
   "metadata": {},
   "outputs": [],
   "source": [
    "human = Mammal(2)"
   ]
  },
  {
   "cell_type": "markdown",
   "id": "3040ef71",
   "metadata": {},
   "source": [
    "# User defined method in class"
   ]
  },
  {
   "cell_type": "code",
   "execution_count": null,
   "id": "d69bfa8f",
   "metadata": {},
   "outputs": [],
   "source": [
    "class Mammal:\n",
    "    def __init__(self, leg):\n",
    "        self.leg = leg\n",
    "        \n",
    "    def display_leg(self): # user defined method\n",
    "        print(f\"You have {self.leg} legs\")"
   ]
  },
  {
   "cell_type": "code",
   "execution_count": null,
   "id": "d59be969",
   "metadata": {},
   "outputs": [],
   "source": [
    "cow = Mammal(4)"
   ]
  },
  {
   "cell_type": "code",
   "execution_count": null,
   "id": "a7ecdde3",
   "metadata": {},
   "outputs": [],
   "source": [
    "cow.display_leg()"
   ]
  },
  {
   "cell_type": "code",
   "execution_count": null,
   "id": "ed6f6812",
   "metadata": {},
   "outputs": [],
   "source": [
    "human = Mammal(2)\n",
    "human.display_leg()"
   ]
  },
  {
   "cell_type": "markdown",
   "id": "30079b2c",
   "metadata": {},
   "source": [
    "## Inheritance\n",
    "* Base Class, Parent class and Super class are same\n",
    "* Derrived class, child class and sub-class are same"
   ]
  },
  {
   "cell_type": "code",
   "execution_count": null,
   "id": "23f5a486",
   "metadata": {},
   "outputs": [],
   "source": [
    "class Computer:\n",
    "    def __init__(self, model_name):\n",
    "        self.model_name = model_name\n",
    "        \n",
    "class Mobile:\n",
    "    def __init__(self, has_flash):\n",
    "        self.has_flash = has_flash"
   ]
  },
  {
   "cell_type": "code",
   "execution_count": 4,
   "id": "bc631b16",
   "metadata": {},
   "outputs": [
    {
     "ename": "TypeError",
     "evalue": "__init__() missing 1 required positional argument: 'model_name'",
     "output_type": "error",
     "traceback": [
      "\u001b[1;31m---------------------------------------------------------------------------\u001b[0m",
      "\u001b[1;31mTypeError\u001b[0m                                 Traceback (most recent call last)",
      "\u001b[1;32m~\\AppData\\Local\\Temp\\ipykernel_9324\\3561527371.py\u001b[0m in \u001b[0;36m<module>\u001b[1;34m\u001b[0m\n\u001b[1;32m----> 1\u001b[1;33m \u001b[0mmo\u001b[0m \u001b[1;33m=\u001b[0m \u001b[0mMobile\u001b[0m\u001b[1;33m(\u001b[0m\u001b[0mhas_flash\u001b[0m \u001b[1;33m=\u001b[0m \u001b[1;32mTrue\u001b[0m\u001b[1;33m)\u001b[0m \u001b[1;31m# it is not allowed\u001b[0m\u001b[1;33m\u001b[0m\u001b[1;33m\u001b[0m\u001b[0m\n\u001b[0m",
      "\u001b[1;31mTypeError\u001b[0m: __init__() missing 1 required positional argument: 'model_name'"
     ]
    }
   ],
   "source": [
    "mo = Mobile(has_flash = True) # it is not allowed"
   ]
  },
  {
   "cell_type": "code",
   "execution_count": 8,
   "id": "b15b1dec",
   "metadata": {},
   "outputs": [],
   "source": [
    "class Computer:\n",
    "    def __init__(self, model_name):\n",
    "        self.model_name = model_name\n",
    "        \n",
    "class Mobile(Computer): # pass the argument of computer\n",
    "    def __init__(self, has_flash, model_name):\n",
    "        super().__init__(model_name) # super call the computer\n",
    "        self.has_flash = has_flash # manage line correctly"
   ]
  },
  {
   "cell_type": "code",
   "execution_count": 9,
   "id": "c9f811ce",
   "metadata": {},
   "outputs": [],
   "source": [
    "mo = Mobile(True, \"iphone\")"
   ]
  },
  {
   "cell_type": "code",
   "execution_count": 10,
   "id": "2e45f13c",
   "metadata": {},
   "outputs": [
    {
     "data": {
      "text/plain": [
       "'iphone'"
      ]
     },
     "execution_count": 10,
     "metadata": {},
     "output_type": "execute_result"
    }
   ],
   "source": [
    "mo.model_name"
   ]
  },
  {
   "cell_type": "code",
   "execution_count": 11,
   "id": "8bd336a6",
   "metadata": {},
   "outputs": [],
   "source": [
    "class Computer:\n",
    "    def __init__(self, medel):\n",
    "        self.model_name = model_name\n",
    "        self.screen = 'LED'\n",
    "        \n",
    "class Mobile(Computer): # pass the argument of computer\n",
    "    def __init__(self, has_flash, model_name):\n",
    "        super().__init__(model_name) # super call the computer\n",
    "        self.has_flash = has_flash # manage line correctly"
   ]
  },
  {
   "cell_type": "code",
   "execution_count": 12,
   "id": "0efce612",
   "metadata": {},
   "outputs": [],
   "source": [
    "mo = Mobile(True, \"LED\")"
   ]
  },
  {
   "cell_type": "code",
   "execution_count": 14,
   "id": "dd50eafd",
   "metadata": {},
   "outputs": [
    {
     "data": {
      "text/plain": [
       "'LED'"
      ]
     },
     "execution_count": 14,
     "metadata": {},
     "output_type": "execute_result"
    }
   ],
   "source": [
    "mo.screen"
   ]
  }
 ],
 "metadata": {
  "kernelspec": {
   "display_name": "Python 3 (ipykernel)",
   "language": "python",
   "name": "python3"
  },
  "language_info": {
   "codemirror_mode": {
    "name": "ipython",
    "version": 3
   },
   "file_extension": ".py",
   "mimetype": "text/x-python",
   "name": "python",
   "nbconvert_exporter": "python",
   "pygments_lexer": "ipython3",
   "version": "3.9.13"
  }
 },
 "nbformat": 4,
 "nbformat_minor": 5
}
