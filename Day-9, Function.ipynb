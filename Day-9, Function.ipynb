{
 "cells": [
  {
   "cell_type": "code",
   "execution_count": null,
   "id": "a3b292db",
   "metadata": {},
   "outputs": [],
   "source": [
    "a =5 \n",
    "b = 2\n",
    "c=a+b\n",
    "print(c)"
   ]
  },
  {
   "cell_type": "code",
   "execution_count": null,
   "id": "40ef0072",
   "metadata": {},
   "outputs": [],
   "source": [
    "def add_two_numbers():\n",
    "    a =5 \n",
    "    b = 2\n",
    "    c=a+b\n",
    "print(c)"
   ]
  },
  {
   "cell_type": "code",
   "execution_count": null,
   "id": "9e5be7fe",
   "metadata": {},
   "outputs": [],
   "source": []
  },
  {
   "cell_type": "markdown",
   "id": "f8a4f2d7",
   "metadata": {},
   "source": [
    "# return statement"
   ]
  },
  {
   "cell_type": "code",
   "execution_count": null,
   "id": "8ab3b5e8",
   "metadata": {},
   "outputs": [],
   "source": [
    "def add_two_numbers(a, b):\n",
    "    c = a+b\n",
    "    return c"
   ]
  },
  {
   "cell_type": "code",
   "execution_count": null,
   "id": "fe938259",
   "metadata": {},
   "outputs": [],
   "source": [
    "total = add_two_numbers(a=5, b = -55)"
   ]
  },
  {
   "cell_type": "code",
   "execution_count": null,
   "id": "962eb133",
   "metadata": {},
   "outputs": [],
   "source": [
    "total"
   ]
  },
  {
   "cell_type": "code",
   "execution_count": 33,
   "id": "51410ad1",
   "metadata": {},
   "outputs": [
    {
     "data": {
      "text/plain": [
       "25"
      ]
     },
     "execution_count": 33,
     "metadata": {},
     "output_type": "execute_result"
    }
   ],
   "source": [
    "total ** 2"
   ]
  },
  {
   "cell_type": "markdown",
   "id": "e276f90e",
   "metadata": {},
   "source": [
    "# Write a program to calculate volume of a sphere\n",
    "$$v = \\frac{4}{3} \\pi r^3$$"
   ]
  },
  {
   "cell_type": "code",
   "execution_count": 35,
   "id": "1fb7ea84",
   "metadata": {},
   "outputs": [
    {
     "ename": "SyntaxError",
     "evalue": "invalid syntax (1493432099.py, line 1)",
     "output_type": "error",
     "traceback": [
      "\u001b[1;36m  File \u001b[1;32m\"C:\\Users\\it.dhruba\\AppData\\Local\\Temp\\ipykernel_436\\1493432099.py\"\u001b[1;36m, line \u001b[1;32m1\u001b[0m\n\u001b[1;33m    type(return)\u001b[0m\n\u001b[1;37m         ^\u001b[0m\n\u001b[1;31mSyntaxError\u001b[0m\u001b[1;31m:\u001b[0m invalid syntax\n"
     ]
    }
   ],
   "source": [
    "type(return)"
   ]
  },
  {
   "cell_type": "code",
   "execution_count": 1,
   "id": "db8d5b4a",
   "metadata": {},
   "outputs": [],
   "source": [
    "def cal_volume(radius): # radius is argument or parameter\n",
    "    PI = 3.14\n",
    "    return 4/3 * PI * radius**3"
   ]
  },
  {
   "cell_type": "code",
   "execution_count": 2,
   "id": "b89f0cd6",
   "metadata": {},
   "outputs": [
    {
     "name": "stdout",
     "output_type": "stream",
     "text": [
      "Enter radius of a sphere: 5\n",
      "Volume of a sphere is 523.33\n"
     ]
    }
   ],
   "source": [
    "radius = int(input(\"Enter radius of a sphere: \"))\n",
    "volume = cal_volume(radius)\n",
    "print(f\"Volume of a sphere is {round(volume, 2)}\")"
   ]
  },
  {
   "cell_type": "markdown",
   "id": "c5576ea6",
   "metadata": {},
   "source": [
    "# Default vs non-default argument in python"
   ]
  },
  {
   "cell_type": "code",
   "execution_count": 3,
   "id": "b1fed93b",
   "metadata": {},
   "outputs": [],
   "source": [
    "def greet(name, msg):\n",
    "    print(f\"Hi, {name} {msg}\")"
   ]
  },
  {
   "cell_type": "code",
   "execution_count": 5,
   "id": "3d513fc5",
   "metadata": {},
   "outputs": [
    {
     "name": "stdout",
     "output_type": "stream",
     "text": [
      "Hi, shraddha_bastola Good Morning\n"
     ]
    }
   ],
   "source": [
    "greet(name=\"shraddha_bastola\", msg='Good Morning')"
   ]
  },
  {
   "cell_type": "code",
   "execution_count": 6,
   "id": "58d6c109",
   "metadata": {},
   "outputs": [],
   "source": [
    "def greet(name, msg=\"Good Morning\"): # msg is a default argument\n",
    "    print(f\"Hi, {name} {msg}\")"
   ]
  },
  {
   "cell_type": "code",
   "execution_count": 7,
   "id": "c46012fb",
   "metadata": {},
   "outputs": [
    {
     "name": "stdout",
     "output_type": "stream",
     "text": [
      "Hi, Dhruba Good Morning\n"
     ]
    }
   ],
   "source": [
    "greet(name=\"Dhruba\") # greet is user define function"
   ]
  },
  {
   "cell_type": "code",
   "execution_count": 8,
   "id": "e6ce249b",
   "metadata": {},
   "outputs": [
    {
     "name": "stdout",
     "output_type": "stream",
     "text": [
      "Hi, Sharaddha Good Morning\n"
     ]
    }
   ],
   "source": [
    "greet(name='Sharaddha')"
   ]
  },
  {
   "cell_type": "code",
   "execution_count": 9,
   "id": "9f8d5e9b",
   "metadata": {},
   "outputs": [
    {
     "name": "stdout",
     "output_type": "stream",
     "text": [
      "Hi, shraddha Good Afternoon\n"
     ]
    }
   ],
   "source": [
    "greet(name='shraddha', msg=\"Good Afternoon\") # default argument gets overwritten"
   ]
  },
  {
   "cell_type": "markdown",
   "id": "3b2d26b0",
   "metadata": {},
   "source": [
    "# non default argument"
   ]
  },
  {
   "cell_type": "code",
   "execution_count": 10,
   "id": "6e70abf0",
   "metadata": {},
   "outputs": [
    {
     "ename": "SyntaxError",
     "evalue": "non-default argument follows default argument (2831036846.py, line 1)",
     "output_type": "error",
     "traceback": [
      "\u001b[1;36m  File \u001b[1;32m\"C:\\Users\\it.dhruba\\AppData\\Local\\Temp\\ipykernel_436\\2831036846.py\"\u001b[1;36m, line \u001b[1;32m1\u001b[0m\n\u001b[1;33m    def greet(msg=\"Good Morning\", name): msg is a default argument and name is non-default argument (defualt argument backma rakne)\u001b[0m\n\u001b[1;37m                                      ^\u001b[0m\n\u001b[1;31mSyntaxError\u001b[0m\u001b[1;31m:\u001b[0m non-default argument follows default argument\n"
     ]
    }
   ],
   "source": [
    "def greet(msg=\"Good Morning\", name): msg is a default argument and name is non-default argument (defualt argument backma rakne)\n",
    "    print(f\"Hi, {name} {msg}\")"
   ]
  },
  {
   "cell_type": "markdown",
   "id": "fdfeafd0",
   "metadata": {},
   "source": [
    "# Local and Gloval scope of variable"
   ]
  },
  {
   "cell_type": "code",
   "execution_count": 13,
   "id": "c9553bb2",
   "metadata": {},
   "outputs": [],
   "source": [
    "x = 'awesome'\n",
    "def my_function():\n",
    "    x = 'Fantastic'\n",
    "    lang = 'Python'\n",
    "    print(f\"{x} {lang}\")"
   ]
  },
  {
   "cell_type": "code",
   "execution_count": 14,
   "id": "8bff082c",
   "metadata": {},
   "outputs": [
    {
     "data": {
      "text/plain": [
       "'awesome'"
      ]
     },
     "execution_count": 14,
     "metadata": {},
     "output_type": "execute_result"
    }
   ],
   "source": [
    "x"
   ]
  },
  {
   "cell_type": "code",
   "execution_count": 15,
   "id": "938a9035",
   "metadata": {},
   "outputs": [
    {
     "ename": "NameError",
     "evalue": "name 'lang' is not defined",
     "output_type": "error",
     "traceback": [
      "\u001b[1;31m---------------------------------------------------------------------------\u001b[0m",
      "\u001b[1;31mNameError\u001b[0m                                 Traceback (most recent call last)",
      "\u001b[1;32m~\\AppData\\Local\\Temp\\ipykernel_436\\3189412743.py\u001b[0m in \u001b[0;36m<module>\u001b[1;34m\u001b[0m\n\u001b[1;32m----> 1\u001b[1;33m \u001b[0mlang\u001b[0m\u001b[1;33m\u001b[0m\u001b[1;33m\u001b[0m\u001b[0m\n\u001b[0m",
      "\u001b[1;31mNameError\u001b[0m: name 'lang' is not defined"
     ]
    }
   ],
   "source": [
    "lang"
   ]
  },
  {
   "cell_type": "code",
   "execution_count": 16,
   "id": "33919e4b",
   "metadata": {},
   "outputs": [
    {
     "name": "stdout",
     "output_type": "stream",
     "text": [
      "Fantastic Python\n"
     ]
    }
   ],
   "source": [
    "my_function()"
   ]
  },
  {
   "cell_type": "code",
   "execution_count": 17,
   "id": "e5b8aa1b",
   "metadata": {},
   "outputs": [
    {
     "data": {
      "text/plain": [
       "'awesome'"
      ]
     },
     "execution_count": 17,
     "metadata": {},
     "output_type": "execute_result"
    }
   ],
   "source": [
    "x"
   ]
  },
  {
   "cell_type": "code",
   "execution_count": 18,
   "id": "f36fa377",
   "metadata": {},
   "outputs": [
    {
     "ename": "NameError",
     "evalue": "name 'lang' is not defined",
     "output_type": "error",
     "traceback": [
      "\u001b[1;31m---------------------------------------------------------------------------\u001b[0m",
      "\u001b[1;31mNameError\u001b[0m                                 Traceback (most recent call last)",
      "\u001b[1;32m~\\AppData\\Local\\Temp\\ipykernel_436\\2661871979.py\u001b[0m in \u001b[0;36m<module>\u001b[1;34m\u001b[0m\n\u001b[1;32m----> 1\u001b[1;33m \u001b[0mlang\u001b[0m \u001b[1;31m# lang is local variable of function it is unknown outside of area\u001b[0m\u001b[1;33m\u001b[0m\u001b[1;33m\u001b[0m\u001b[0m\n\u001b[0m",
      "\u001b[1;31mNameError\u001b[0m: name 'lang' is not defined"
     ]
    }
   ],
   "source": [
    "lang # lang is local variable of function it is unknown outside of area"
   ]
  },
  {
   "cell_type": "code",
   "execution_count": 19,
   "id": "bb405be2",
   "metadata": {},
   "outputs": [],
   "source": [
    "x = 'awesome'\n",
    "def my_function():\n",
    "    global x\n",
    "    global lang\n",
    "    x = 'Fantastic'\n",
    "    lang = 'Python'\n",
    "    print(f\"{x} {lang}\")"
   ]
  },
  {
   "cell_type": "code",
   "execution_count": 20,
   "id": "6d3ca6d5",
   "metadata": {},
   "outputs": [
    {
     "name": "stdout",
     "output_type": "stream",
     "text": [
      "Fantastic Python\n"
     ]
    }
   ],
   "source": [
    "my_function()"
   ]
  },
  {
   "cell_type": "code",
   "execution_count": null,
   "id": "126171f1",
   "metadata": {},
   "outputs": [],
   "source": [
    "lang # global garepasi lang lai chinyo"
   ]
  },
  {
   "cell_type": "markdown",
   "id": "0cda2dac",
   "metadata": {},
   "source": [
    "# Assignment for function"
   ]
  },
  {
   "cell_type": "markdown",
   "id": "1bd8b56d",
   "metadata": {},
   "source": [
    "classwork: write a python function to calculate the factorial\n",
    "* 0! = 1\n",
    "* 1! = 1\n",
    "* 2! = 2 * 1! = 2\n",
    "* 3! = 3 * 2! = 6\n",
    "* 4! = 4 * 3! = 24\n",
    "* 5! = 5 * 4! = 120"
   ]
  },
  {
   "cell_type": "markdown",
   "id": "b53e35b0",
   "metadata": {},
   "source": [
    "# Multiple return values in function"
   ]
  },
  {
   "cell_type": "code",
   "execution_count": 23,
   "id": "02911a0c",
   "metadata": {},
   "outputs": [],
   "source": [
    "def arithmatic_op(x, y):\n",
    "    total = x + y\n",
    "    diff = x - y\n",
    "    mul = x * y\n",
    "    return total, diff, mul"
   ]
  },
  {
   "cell_type": "code",
   "execution_count": 24,
   "id": "ad468e7f",
   "metadata": {},
   "outputs": [
    {
     "data": {
      "text/plain": [
       "(5, -1, 6)"
      ]
     },
     "execution_count": 24,
     "metadata": {},
     "output_type": "execute_result"
    }
   ],
   "source": [
    "arithmatic_op(2, 3)"
   ]
  },
  {
   "cell_type": "code",
   "execution_count": 28,
   "id": "2f67de6a",
   "metadata": {},
   "outputs": [],
   "source": [
    "total, difference, multiplication = arithmatic_op(2, 3)"
   ]
  },
  {
   "cell_type": "code",
   "execution_count": 29,
   "id": "d233ce94",
   "metadata": {},
   "outputs": [
    {
     "data": {
      "text/plain": [
       "5"
      ]
     },
     "execution_count": 29,
     "metadata": {},
     "output_type": "execute_result"
    }
   ],
   "source": [
    "total"
   ]
  },
  {
   "cell_type": "code",
   "execution_count": 31,
   "id": "28be4edb",
   "metadata": {},
   "outputs": [
    {
     "data": {
      "text/plain": [
       "-1"
      ]
     },
     "execution_count": 31,
     "metadata": {},
     "output_type": "execute_result"
    }
   ],
   "source": [
    "difference"
   ]
  },
  {
   "cell_type": "code",
   "execution_count": 32,
   "id": "7665fc37",
   "metadata": {},
   "outputs": [
    {
     "data": {
      "text/plain": [
       "6"
      ]
     },
     "execution_count": 32,
     "metadata": {},
     "output_type": "execute_result"
    }
   ],
   "source": [
    "multiplication"
   ]
  },
  {
   "cell_type": "markdown",
   "id": "bd532352",
   "metadata": {},
   "source": [
    "## Assignment"
   ]
  },
  {
   "cell_type": "markdown",
   "id": "6b7313cb",
   "metadata": {},
   "source": [
    "* Write a Python program that accepts a hyphen-separated sequence of words as input and prints the words in a hyphen-separated sequence after sorting them alphabetically.\n",
    "* Sample items: green-red-yellow-black-white\n",
    "* Expected Result: black-green-red-white-yellow\n"
   ]
  },
  {
   "cell_type": "code",
   "execution_count": 2,
   "id": "6a89fe06",
   "metadata": {},
   "outputs": [
    {
     "name": "stdout",
     "output_type": "stream",
     "text": [
      "Enter hyphen-separated sequence of words: green-red-yellow-black-white\n",
      "black-green-red-white-yellow\n"
     ]
    }
   ],
   "source": [
    "words = input(\"Enter hyphen-separated sequence of words: \")\n",
    "word_list = words.split(\"-\") # Split input into list of words\n",
    "word_list.sort() # sort the list alphbetically\n",
    "sorted_words = \"-\".join(word_list) # Join the sorted words with hyphens\n",
    "print(sorted_words)"
   ]
  },
  {
   "cell_type": "code",
   "execution_count": 16,
   "id": "39bd38f1",
   "metadata": {},
   "outputs": [],
   "source": [
    "text = 'green-red-yellow-black-white' # 2nd method"
   ]
  },
  {
   "cell_type": "code",
   "execution_count": 17,
   "id": "9b412c28",
   "metadata": {},
   "outputs": [],
   "source": [
    "words = text.split(\"-\")"
   ]
  },
  {
   "cell_type": "code",
   "execution_count": 18,
   "id": "352e5001",
   "metadata": {},
   "outputs": [
    {
     "data": {
      "text/plain": [
       "['green', 'red', 'yellow', 'black', 'white']"
      ]
     },
     "execution_count": 18,
     "metadata": {},
     "output_type": "execute_result"
    }
   ],
   "source": [
    "words"
   ]
  },
  {
   "cell_type": "code",
   "execution_count": 19,
   "id": "d39aba08",
   "metadata": {},
   "outputs": [],
   "source": [
    "words.sort()"
   ]
  },
  {
   "cell_type": "code",
   "execution_count": 20,
   "id": "d15f8b30",
   "metadata": {},
   "outputs": [
    {
     "data": {
      "text/plain": [
       "['black', 'green', 'red', 'white', 'yellow']"
      ]
     },
     "execution_count": 20,
     "metadata": {},
     "output_type": "execute_result"
    }
   ],
   "source": [
    "words"
   ]
  },
  {
   "cell_type": "code",
   "execution_count": 21,
   "id": "b4c0cc84",
   "metadata": {},
   "outputs": [
    {
     "data": {
      "text/plain": [
       "'black-green-red-white-yellow'"
      ]
     },
     "execution_count": 21,
     "metadata": {},
     "output_type": "execute_result"
    }
   ],
   "source": [
    "\"-\".join(words)"
   ]
  },
  {
   "cell_type": "code",
   "execution_count": 23,
   "id": "51739961",
   "metadata": {},
   "outputs": [],
   "source": [
    "def sort_input(text):\n",
    "    words = text.split(\"-\")\n",
    "    words.sort()\n",
    "    return \"-\".join(words)"
   ]
  },
  {
   "cell_type": "code",
   "execution_count": 24,
   "id": "8397779f",
   "metadata": {},
   "outputs": [
    {
     "data": {
      "text/plain": [
       "'black-green-red-white-yellow'"
      ]
     },
     "execution_count": 24,
     "metadata": {},
     "output_type": "execute_result"
    }
   ],
   "source": [
    "sort_input(text=text)"
   ]
  },
  {
   "cell_type": "markdown",
   "id": "2578eb1f",
   "metadata": {},
   "source": [
    "# input number is prime or not if prime return true else return false"
   ]
  },
  {
   "cell_type": "code",
   "execution_count": 7,
   "id": "e5aff403",
   "metadata": {},
   "outputs": [],
   "source": [
    "def is_prime(num):\n",
    "    for i in range(2, num//2 + 1, 1): # this process can be check higher number\n",
    "        if num % i == 0:\n",
    "            return False\n",
    "        return True"
   ]
  },
  {
   "cell_type": "code",
   "execution_count": 8,
   "id": "084aa99e",
   "metadata": {},
   "outputs": [
    {
     "data": {
      "text/plain": [
       "False"
      ]
     },
     "execution_count": 8,
     "metadata": {},
     "output_type": "execute_result"
    }
   ],
   "source": [
    "is_prime(4)"
   ]
  },
  {
   "cell_type": "code",
   "execution_count": 9,
   "id": "0822fcf9",
   "metadata": {},
   "outputs": [
    {
     "data": {
      "text/plain": [
       "True"
      ]
     },
     "execution_count": 9,
     "metadata": {},
     "output_type": "execute_result"
    }
   ],
   "source": [
    "is_prime(5)"
   ]
  },
  {
   "cell_type": "markdown",
   "id": "9993fa7f",
   "metadata": {},
   "source": [
    "## Classwork: Write a Python function to calculate the factorial of the factorial of a no-negative integer"
   ]
  },
  {
   "cell_type": "code",
   "execution_count": 10,
   "id": "903cf8cf",
   "metadata": {},
   "outputs": [],
   "source": [
    "def factorial (num):\n",
    "    fact = 1\n",
    "    if num == 0 or num == 1:\n",
    "        return fact\n",
    "    else:\n",
    "        for number in range(2, num + 1):\n",
    "            fact = fact * number\n",
    "        return fact"
   ]
  },
  {
   "cell_type": "code",
   "execution_count": 13,
   "id": "b0e27086",
   "metadata": {},
   "outputs": [
    {
     "data": {
      "text/plain": [
       "(1, 1, 2, 6, 24, 120)"
      ]
     },
     "execution_count": 13,
     "metadata": {},
     "output_type": "execute_result"
    }
   ],
   "source": [
    "factorial(0), factorial(1), factorial(2), factorial(3), factorial(4), factorial(5)"
   ]
  },
  {
   "cell_type": "code",
   "execution_count": 12,
   "id": "5aef48b2",
   "metadata": {},
   "outputs": [
    {
     "data": {
      "text/plain": [
       "1"
      ]
     },
     "execution_count": 12,
     "metadata": {},
     "output_type": "execute_result"
    }
   ],
   "source": [
    "factorial(0)"
   ]
  },
  {
   "cell_type": "markdown",
   "id": "0bb94aaf",
   "metadata": {},
   "source": [
    "# Write a python function that accepts a string and calculate the number of upper-case letters and lower-case letters"
   ]
  },
  {
   "cell_type": "code",
   "execution_count": 14,
   "id": "0d70553f",
   "metadata": {},
   "outputs": [],
   "source": [
    "def count_upper_lower(string):\n",
    "    upper = 0\n",
    "    lower = 0\n",
    "    for letter in string:\n",
    "        if letter.isupper():\n",
    "            upper = upper + 1\n",
    "        elif letter == \" \":\n",
    "            continue\n",
    "        elif letter.islower():\n",
    "            lower = lower + 1\n",
    "        return upper, lower"
   ]
  },
  {
   "cell_type": "code",
   "execution_count": 15,
   "id": "734be220",
   "metadata": {},
   "outputs": [
    {
     "data": {
      "text/plain": [
       "(1, 0)"
      ]
     },
     "execution_count": 15,
     "metadata": {},
     "output_type": "execute_result"
    }
   ],
   "source": [
    "count_upper_lower(\"Hello world\")"
   ]
  },
  {
   "cell_type": "code",
   "execution_count": null,
   "id": "1afd3877",
   "metadata": {},
   "outputs": [],
   "source": []
  }
 ],
 "metadata": {
  "kernelspec": {
   "display_name": "Python 3 (ipykernel)",
   "language": "python",
   "name": "python3"
  },
  "language_info": {
   "codemirror_mode": {
    "name": "ipython",
    "version": 3
   },
   "file_extension": ".py",
   "mimetype": "text/x-python",
   "name": "python",
   "nbconvert_exporter": "python",
   "pygments_lexer": "ipython3",
   "version": "3.9.13"
  }
 },
 "nbformat": 4,
 "nbformat_minor": 5
}
