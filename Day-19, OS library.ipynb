{
 "cells": [
  {
   "cell_type": "code",
   "execution_count": 1,
   "id": "25d7906c",
   "metadata": {},
   "outputs": [],
   "source": [
    "import os"
   ]
  },
  {
   "cell_type": "code",
   "execution_count": 2,
   "id": "56027477",
   "metadata": {},
   "outputs": [
    {
     "data": {
      "text/plain": [
       "['.ipynb_checkpoints',\n",
       " 'Access specifier and operator over loading-14.ipynb',\n",
       " 'append.txt',\n",
       " 'args vs kwargs-10.ipynb',\n",
       " 'Basic-concept-2.ipynb',\n",
       " 'brandnew.txt',\n",
       " 'Dictionary-8.ipynb',\n",
       " 'Dynamic-typing-1.ipynb',\n",
       " 'Function-9.ipynb',\n",
       " 'Lamda function annynomous function-15.ipynb',\n",
       " 'List comprehension Part-7.ipynb',\n",
       " 'Loop-3.ipynb',\n",
       " 'Nested for loop and while loop-16.ipynb',\n",
       " 'None-Types-5.ipynb',\n",
       " 'OOP class and Objects-13.ipynb',\n",
       " 'OS library.ipynb',\n",
       " 'pass in python-12.ipynb',\n",
       " 'read.txt',\n",
       " 'Recursion-11.ipynb',\n",
       " 'SQL in python-17.ipynb',\n",
       " 'String Method-4.ipynb',\n",
       " 'student.db',\n",
       " 'student.db-journal',\n",
       " 'Tuples-6.ipynb',\n",
       " 'Untitled.ipynb']"
      ]
     },
     "execution_count": 2,
     "metadata": {},
     "output_type": "execute_result"
    }
   ],
   "source": [
    "os.listdir()  # list all files and folders show from library"
   ]
  },
  {
   "cell_type": "markdown",
   "id": "561a91bc",
   "metadata": {},
   "source": [
    "# Absolute path of current directory"
   ]
  },
  {
   "cell_type": "code",
   "execution_count": 3,
   "id": "5b392c20",
   "metadata": {},
   "outputs": [
    {
     "data": {
      "text/plain": [
       "'C:\\\\Users\\\\it.dhruba\\\\Untitled Folder'"
      ]
     },
     "execution_count": 3,
     "metadata": {},
     "output_type": "execute_result"
    }
   ],
   "source": [
    "os.getcwd()"
   ]
  },
  {
   "cell_type": "markdown",
   "id": "97e1fa12",
   "metadata": {},
   "source": [
    "# file path are relative or absolute"
   ]
  },
  {
   "cell_type": "code",
   "execution_count": 5,
   "id": "ae8401ee",
   "metadata": {},
   "outputs": [
    {
     "data": {
      "text/plain": [
       "'student.db'"
      ]
     },
     "execution_count": 5,
     "metadata": {},
     "output_type": "execute_result"
    }
   ],
   "source": [
    "os.path.relpath('student.db')"
   ]
  },
  {
   "cell_type": "code",
   "execution_count": 6,
   "id": "ba97bfd2",
   "metadata": {},
   "outputs": [
    {
     "data": {
      "text/plain": [
       "'C:\\\\Users\\\\it.dhruba\\\\Untitled Folder\\\\student.db'"
      ]
     },
     "execution_count": 6,
     "metadata": {},
     "output_type": "execute_result"
    }
   ],
   "source": [
    "os.path.abspath('student.db')"
   ]
  },
  {
   "cell_type": "code",
   "execution_count": null,
   "id": "ba8db382",
   "metadata": {},
   "outputs": [],
   "source": []
  }
 ],
 "metadata": {
  "kernelspec": {
   "display_name": "Python 3 (ipykernel)",
   "language": "python",
   "name": "python3"
  },
  "language_info": {
   "codemirror_mode": {
    "name": "ipython",
    "version": 3
   },
   "file_extension": ".py",
   "mimetype": "text/x-python",
   "name": "python",
   "nbconvert_exporter": "python",
   "pygments_lexer": "ipython3",
   "version": "3.9.13"
  }
 },
 "nbformat": 4,
 "nbformat_minor": 5
}
