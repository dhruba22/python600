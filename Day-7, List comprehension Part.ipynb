{
 "cells": [
  {
   "cell_type": "markdown",
   "id": "9cb23f56",
   "metadata": {},
   "source": [
    "# Syntax ```python\n",
    "* [Expression for item in iterable][\n",
    "* Expression for item in iterables if true]\n",
    "* [expression if True else expression for item in iterables]```"
   ]
  },
  {
   "cell_type": "code",
   "execution_count": 7,
   "id": "20a12508",
   "metadata": {},
   "outputs": [],
   "source": [
    "iterables = [2,3,4,5]"
   ]
  },
  {
   "cell_type": "code",
   "execution_count": 8,
   "id": "8afb7674",
   "metadata": {},
   "outputs": [
    {
     "data": {
      "text/plain": [
       "[4, 9, 16, 25]"
      ]
     },
     "execution_count": 8,
     "metadata": {},
     "output_type": "execute_result"
    }
   ],
   "source": [
    "[item ** 2 for item in iterables]"
   ]
  },
  {
   "cell_type": "code",
   "execution_count": 9,
   "id": "f30b4b6d",
   "metadata": {},
   "outputs": [
    {
     "data": {
      "text/plain": [
       "[4, 16]"
      ]
     },
     "execution_count": 9,
     "metadata": {},
     "output_type": "execute_result"
    }
   ],
   "source": [
    "[item ** 2 for item in iterables if item % 2 == 0] # square of even number only"
   ]
  },
  {
   "cell_type": "code",
   "execution_count": 10,
   "id": "6cf376ce",
   "metadata": {},
   "outputs": [
    {
     "data": {
      "text/plain": [
       "[4, 27, 16, 125]"
      ]
     },
     "execution_count": 10,
     "metadata": {},
     "output_type": "execute_result"
    }
   ],
   "source": [
    "[item ** 2 if item % 2 == 0 else item ** 3 for item in iterables]"
   ]
  },
  {
   "cell_type": "code",
   "execution_count": null,
   "id": "51e02a7f",
   "metadata": {},
   "outputs": [],
   "source": []
  }
 ],
 "metadata": {
  "kernelspec": {
   "display_name": "Python 3 (ipykernel)",
   "language": "python",
   "name": "python3"
  },
  "language_info": {
   "codemirror_mode": {
    "name": "ipython",
    "version": 3
   },
   "file_extension": ".py",
   "mimetype": "text/x-python",
   "name": "python",
   "nbconvert_exporter": "python",
   "pygments_lexer": "ipython3",
   "version": "3.9.13"
  }
 },
 "nbformat": 4,
 "nbformat_minor": 5
}
