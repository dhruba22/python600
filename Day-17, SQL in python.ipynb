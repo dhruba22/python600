{
 "cells": [
  {
   "cell_type": "markdown",
   "id": "3dab0cbd",
   "metadata": {},
   "source": [
    "# SQL-Structured Query Language\n",
    "* Structured Query language (SQL) is a standardized programming language that is used to manage relational databases and perform various operations on the data in them."
   ]
  },
  {
   "cell_type": "code",
   "execution_count": 1,
   "id": "f3a91f2f",
   "metadata": {},
   "outputs": [],
   "source": [
    "import sqlite3"
   ]
  },
  {
   "cell_type": "markdown",
   "id": "ce07fd84",
   "metadata": {},
   "source": [
    "## Creating and connecting to database\n",
    "* Database: student"
   ]
  },
  {
   "cell_type": "code",
   "execution_count": 2,
   "id": "990bd799",
   "metadata": {},
   "outputs": [],
   "source": [
    "con = sqlite3.connect('student.db')"
   ]
  },
  {
   "cell_type": "code",
   "execution_count": 3,
   "id": "80645b4c",
   "metadata": {},
   "outputs": [
    {
     "data": {
      "text/plain": [
       "<sqlite3.Connection at 0x268b4a355d0>"
      ]
     },
     "execution_count": 3,
     "metadata": {},
     "output_type": "execute_result"
    }
   ],
   "source": [
    "con"
   ]
  },
  {
   "cell_type": "markdown",
   "id": "c8aab8ba",
   "metadata": {},
   "source": [
    "## Create a cursor to execute sql query"
   ]
  },
  {
   "cell_type": "code",
   "execution_count": 4,
   "id": "64045892",
   "metadata": {},
   "outputs": [],
   "source": [
    "cur = con.cursor() # data table connection ko lagi"
   ]
  },
  {
   "cell_type": "markdown",
   "id": "e68792f0",
   "metadata": {},
   "source": [
    "# Creating table in database CREATE statement\n",
    "```sql\n",
    "CREATE TABLE table_naem(column_name1 datatype, column_2 datatype, ...column_name_n datatype)\n",
    "```"
   ]
  },
  {
   "cell_type": "code",
   "execution_count": null,
   "id": "c9856323",
   "metadata": {},
   "outputs": [],
   "source": [
    "query = \"\"\" \n",
    "create table student_details \n",
    "(roll_no int, name varchar(50), gender varchar(5))\n",
    "\"\"\""
   ]
  },
  {
   "cell_type": "code",
   "execution_count": null,
   "id": "ad3a2079",
   "metadata": {},
   "outputs": [],
   "source": [
    "# create table command repeat garer run garn nuhune"
   ]
  },
  {
   "cell_type": "markdown",
   "id": "5936f054",
   "metadata": {},
   "source": [
    "# Insert statement in SQL\n",
    "```INSERT into table_name (column_name_1 , colum_name_2 ... , column_name_n) \n",
    "values\n",
    "    (value1, value2, .... , valuen)\n",
    "    ```"
   ]
  },
  {
   "cell_type": "code",
   "execution_count": 10,
   "id": "7ef3c07d",
   "metadata": {},
   "outputs": [],
   "source": [
    "insert_query = \"\"\"\n",
    "INSERT into student_details (roll_no, name, gender)\n",
    "values\n",
    "(1, 'dhruba', 'm'),\n",
    "(2, 'Sharaddha', 'F'),\n",
    "(3, 'Manzil', 'M'),\n",
    "(4, 'Jyoti', 'F'),\n",
    "(5, 'Darshan', 'M')\n",
    "\"\"\""
   ]
  },
  {
   "cell_type": "code",
   "execution_count": 11,
   "id": "27ac3654",
   "metadata": {},
   "outputs": [
    {
     "data": {
      "text/plain": [
       "<sqlite3.Cursor at 0x268b49efd50>"
      ]
     },
     "execution_count": 11,
     "metadata": {},
     "output_type": "execute_result"
    }
   ],
   "source": [
    "cur.execute(insert_query)"
   ]
  },
  {
   "cell_type": "markdown",
   "id": "75708479",
   "metadata": {},
   "source": [
    "# Select statement in SQL\n",
    "```Select * from table_name```"
   ]
  },
  {
   "cell_type": "code",
   "execution_count": 13,
   "id": "e84aaad3",
   "metadata": {},
   "outputs": [
    {
     "data": {
      "text/plain": [
       "<sqlite3.Cursor at 0x268b49efd50>"
      ]
     },
     "execution_count": 13,
     "metadata": {},
     "output_type": "execute_result"
    }
   ],
   "source": [
    "cur.execute(\"select * from student_details\")"
   ]
  },
  {
   "cell_type": "code",
   "execution_count": 16,
   "id": "e470317a",
   "metadata": {},
   "outputs": [
    {
     "data": {
      "text/plain": [
       "[(1, 'dhruba', 'm'),\n",
       " (2, 'Sharaddha', 'F'),\n",
       " (3, 'Manzil', 'M'),\n",
       " (4, 'Jyoti', 'F'),\n",
       " (5, 'Darshan', 'M')]"
      ]
     },
     "execution_count": 16,
     "metadata": {},
     "output_type": "execute_result"
    }
   ],
   "source": [
    "cur.execute(\"select * from student_details\").fetchall()"
   ]
  },
  {
   "cell_type": "markdown",
   "id": "10324d93",
   "metadata": {},
   "source": [
    "# where clause: Find all data with gender F"
   ]
  },
  {
   "cell_type": "code",
   "execution_count": 19,
   "id": "5f8ada5a",
   "metadata": {},
   "outputs": [],
   "source": [
    "query = \"\"\"\n",
    "select name from student_details\n",
    "where gender = 'F'\n",
    "\"\"\""
   ]
  },
  {
   "cell_type": "code",
   "execution_count": 20,
   "id": "cb01806e",
   "metadata": {},
   "outputs": [
    {
     "data": {
      "text/plain": [
       "[('Sharaddha',), ('Jyoti',)]"
      ]
     },
     "execution_count": 20,
     "metadata": {},
     "output_type": "execute_result"
    }
   ],
   "source": [
    "cur.execute(query).fetchall()"
   ]
  },
  {
   "cell_type": "code",
   "execution_count": 22,
   "id": "3f1f700c",
   "metadata": {},
   "outputs": [
    {
     "data": {
      "text/plain": [
       "[('Manzil',), ('Darshan',)]"
      ]
     },
     "execution_count": 22,
     "metadata": {},
     "output_type": "execute_result"
    }
   ],
   "source": [
    "cur.execute(\"SELECT NAME FROM STUDENT_DETAILS WHERE GENDER = 'M'\").fetchall()"
   ]
  },
  {
   "cell_type": "markdown",
   "id": "4bcd0510",
   "metadata": {},
   "source": [
    "# Upade statement\n",
    "```sql\n",
    "update table_name\n",
    "set col_name = value\n",
    "where colunm_name = <id value>\n",
    "```"
   ]
  },
  {
   "cell_type": "code",
   "execution_count": 24,
   "id": "00637879",
   "metadata": {},
   "outputs": [],
   "source": [
    "update_query = \"\"\"\n",
    "update student_details\n",
    "set name = 'Dhruba karki'\n",
    "where roll_no =1\n",
    "\"\"\""
   ]
  },
  {
   "cell_type": "code",
   "execution_count": 25,
   "id": "921b2fa5",
   "metadata": {},
   "outputs": [
    {
     "data": {
      "text/plain": [
       "<sqlite3.Cursor at 0x268b49efd50>"
      ]
     },
     "execution_count": 25,
     "metadata": {},
     "output_type": "execute_result"
    }
   ],
   "source": [
    "cur.execute(update_query)"
   ]
  },
  {
   "cell_type": "code",
   "execution_count": 26,
   "id": "70f4a6fa",
   "metadata": {},
   "outputs": [
    {
     "data": {
      "text/plain": [
       "[(1, 'Dhruba karki', 'm'),\n",
       " (2, 'Sharaddha', 'F'),\n",
       " (3, 'Manzil', 'M'),\n",
       " (4, 'Jyoti', 'F'),\n",
       " (5, 'Darshan', 'M')]"
      ]
     },
     "execution_count": 26,
     "metadata": {},
     "output_type": "execute_result"
    }
   ],
   "source": [
    "cur.execute(\"select * from student_details\").fetchall()"
   ]
  },
  {
   "cell_type": "markdown",
   "id": "88c595be",
   "metadata": {},
   "source": [
    "# Delete statement"
   ]
  },
  {
   "cell_type": "code",
   "execution_count": 27,
   "id": "5eb270c2",
   "metadata": {},
   "outputs": [
    {
     "data": {
      "text/plain": [
       "<sqlite3.Cursor at 0x268b49efd50>"
      ]
     },
     "execution_count": 27,
     "metadata": {},
     "output_type": "execute_result"
    }
   ],
   "source": [
    "cur.execute(\"delete from student_details where roll_no = 1\")"
   ]
  },
  {
   "cell_type": "code",
   "execution_count": 28,
   "id": "46907398",
   "metadata": {},
   "outputs": [
    {
     "data": {
      "text/plain": [
       "[(2, 'Sharaddha', 'F'),\n",
       " (3, 'Manzil', 'M'),\n",
       " (4, 'Jyoti', 'F'),\n",
       " (5, 'Darshan', 'M')]"
      ]
     },
     "execution_count": 28,
     "metadata": {},
     "output_type": "execute_result"
    }
   ],
   "source": [
    "cur.execute(\"select * from student_details\").fetchall()"
   ]
  },
  {
   "cell_type": "markdown",
   "id": "0dc56719",
   "metadata": {},
   "source": [
    "### check multiple condition using where clause\n",
    "```the LIKE command is used in a WHERE clause to search for a specified pattern in a column.\n",
    "you can use tow wildcards with LIKE:\n",
    "% - Represents zero, one, or multiple characters\n",
    "```"
   ]
  },
  {
   "cell_type": "code",
   "execution_count": 33,
   "id": "b366cc66",
   "metadata": {},
   "outputs": [],
   "source": [
    "query = \"\"\"\n",
    "select * from student_details\n",
    "where\n",
    "gender = 'M' and name like 'D%'\n",
    "\"\"\""
   ]
  },
  {
   "cell_type": "code",
   "execution_count": 34,
   "id": "8448804b",
   "metadata": {},
   "outputs": [
    {
     "data": {
      "text/plain": [
       "[(5, 'Darshan', 'M')]"
      ]
     },
     "execution_count": 34,
     "metadata": {},
     "output_type": "execute_result"
    }
   ],
   "source": [
    "cur.execute(query).fetchall()"
   ]
  },
  {
   "cell_type": "code",
   "execution_count": null,
   "id": "c27ec00d",
   "metadata": {},
   "outputs": [],
   "source": []
  }
 ],
 "metadata": {
  "kernelspec": {
   "display_name": "Python 3 (ipykernel)",
   "language": "python",
   "name": "python3"
  },
  "language_info": {
   "codemirror_mode": {
    "name": "ipython",
    "version": 3
   },
   "file_extension": ".py",
   "mimetype": "text/x-python",
   "name": "python",
   "nbconvert_exporter": "python",
   "pygments_lexer": "ipython3",
   "version": "3.9.13"
  }
 },
 "nbformat": 4,
 "nbformat_minor": 5
}
