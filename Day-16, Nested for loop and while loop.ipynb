{
 "cells": [
  {
   "cell_type": "markdown",
   "id": "43e7b762",
   "metadata": {},
   "source": [
    "## Nested for loop"
   ]
  },
  {
   "cell_type": "code",
   "execution_count": null,
   "id": "2e47deb2",
   "metadata": {},
   "outputs": [],
   "source": [
    "for i in range(3):\n",
    "    print(\"--------\")\n",
    "    print(f\"i = {i}\")\n",
    "    print(\"-------\")\n"
   ]
  },
  {
   "cell_type": "code",
   "execution_count": null,
   "id": "895908bb",
   "metadata": {},
   "outputs": [],
   "source": [
    "data = [[4,5,6], [11, 44, 22, 9], [2,4], [8]]"
   ]
  },
  {
   "cell_type": "code",
   "execution_count": null,
   "id": "a3c59a8b",
   "metadata": {},
   "outputs": [],
   "source": [
    "means = []\n",
    "\n",
    "for item in data:\n",
    "    total = 0\n",
    "    for i in item:\n",
    "        total = total + i\n",
    "    means.append(total/len(item))"
   ]
  },
  {
   "cell_type": "code",
   "execution_count": null,
   "id": "a8ef8ef5",
   "metadata": {},
   "outputs": [],
   "source": [
    "means"
   ]
  },
  {
   "cell_type": "code",
   "execution_count": null,
   "id": "e739bba0",
   "metadata": {},
   "outputs": [],
   "source": [
    "data = [[4,5,6], [5, 8,9,7], [0, 3,0,1]]\n",
    "output = []\n",
    "for item in data:\n",
    "    output.append(item[::2])"
   ]
  },
  {
   "cell_type": "code",
   "execution_count": null,
   "id": "1b6b907f",
   "metadata": {},
   "outputs": [],
   "source": [
    "list"
   ]
  },
  {
   "cell_type": "code",
   "execution_count": null,
   "id": "7708e85a",
   "metadata": {},
   "outputs": [],
   "source": [
    "output"
   ]
  },
  {
   "cell_type": "code",
   "execution_count": null,
   "id": "dd0ffa24",
   "metadata": {},
   "outputs": [],
   "source": [
    "for i in range(1, 11):\n",
    "    for j in range(1, 11):\n",
    "        print(f\"{i} * {j} = {i*j}\")\n",
    "    print(\"\\n\")"
   ]
  },
  {
   "cell_type": "markdown",
   "id": "d7951f12",
   "metadata": {},
   "source": [
    "## while loop\n",
    "```python\n",
    "while True:\n",
    "    # body of while\n",
    "```\n",
    "```while Expression:\n",
    "# body of while\n",
    "```\n"
   ]
  },
  {
   "cell_type": "code",
   "execution_count": null,
   "id": "f718ffef",
   "metadata": {},
   "outputs": [],
   "source": [
    "data = [1,2,4,7,8,4,6,9]"
   ]
  },
  {
   "cell_type": "code",
   "execution_count": null,
   "id": "fb759bf9",
   "metadata": {},
   "outputs": [],
   "source": [
    "i = 0\n",
    "total =0\n",
    "while i < len(data):\n",
    "    total = total + data[1]\n",
    "    i = i +1\n",
    "    \n",
    "mean = total/len(data)\n",
    "print(round(mean, 3))"
   ]
  },
  {
   "cell_type": "markdown",
   "id": "a04f6880",
   "metadata": {},
   "source": [
    "# Exception handling"
   ]
  },
  {
   "cell_type": "code",
   "execution_count": null,
   "id": "e2674848",
   "metadata": {},
   "outputs": [],
   "source": [
    "a = 5\n",
    "b = 0\n",
    "c = a/b\n",
    "print(c)\n",
    "print(\"success\")"
   ]
  },
  {
   "cell_type": "code",
   "execution_count": null,
   "id": "5febfef4",
   "metadata": {},
   "outputs": [],
   "source": [
    "# zeroDivisionError is exception"
   ]
  },
  {
   "cell_type": "markdown",
   "id": "60935954",
   "metadata": {},
   "source": [
    "Try.. Except...block"
   ]
  },
  {
   "cell_type": "code",
   "execution_count": null,
   "id": "d30e96e9",
   "metadata": {},
   "outputs": [],
   "source": [
    "a = 5\n",
    "b = 0\n",
    "\n",
    "try:\n",
    "    c = a/b\n",
    "    print(c)\n",
    "except Exception as e:\n",
    "    print(str(e))\n",
    "print(\"Success\")"
   ]
  },
  {
   "cell_type": "code",
   "execution_count": null,
   "id": "eda19a31",
   "metadata": {},
   "outputs": [
    {
     "name": "stdout",
     "output_type": "stream",
     "text": [
      "Enter a number: \n",
      "Please enter integer number\n",
      "Enter a number: 5\n",
      "Enter a number: tt\n",
      "Please enter integer number\n"
     ]
    }
   ],
   "source": [
    "condition = True\n",
    "while condition:\n",
    "    try:\n",
    "        user_input = int(input(\"Enter a number: \"))\n",
    "    except Exception as e:\n",
    "        print(\"Please enter integer number\")"
   ]
  },
  {
   "cell_type": "code",
   "execution_count": null,
   "id": "1b9b2ac1",
   "metadata": {},
   "outputs": [],
   "source": []
  }
 ],
 "metadata": {
  "kernelspec": {
   "display_name": "Python 3 (ipykernel)",
   "language": "python",
   "name": "python3"
  },
  "language_info": {
   "codemirror_mode": {
    "name": "ipython",
    "version": 3
   },
   "file_extension": ".py",
   "mimetype": "text/x-python",
   "name": "python",
   "nbconvert_exporter": "python",
   "pygments_lexer": "ipython3",
   "version": "3.9.13"
  }
 },
 "nbformat": 4,
 "nbformat_minor": 5
}
