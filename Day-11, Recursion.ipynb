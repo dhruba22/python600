{
 "cells": [
  {
   "cell_type": "code",
   "execution_count": 1,
   "id": "d37fe69a",
   "metadata": {},
   "outputs": [],
   "source": [
    "def test():\n",
    "    test() # yo garn nuhune looping infinite ka reason system crash hune chance"
   ]
  },
  {
   "cell_type": "code",
   "execution_count": 2,
   "id": "2fd0ec53",
   "metadata": {},
   "outputs": [],
   "source": [
    "def factorial (x):\n",
    "    if x == 0 or x == 1:\n",
    "        return 1\n",
    "    else:\n",
    "        return x * factorial(x-1)\n"
   ]
  },
  {
   "cell_type": "code",
   "execution_count": 3,
   "id": "05d856e4",
   "metadata": {},
   "outputs": [
    {
     "data": {
      "text/plain": [
       "120"
      ]
     },
     "execution_count": 3,
     "metadata": {},
     "output_type": "execute_result"
    }
   ],
   "source": [
    "factorial(5)"
   ]
  }
 ],
 "metadata": {
  "kernelspec": {
   "display_name": "Python 3 (ipykernel)",
   "language": "python",
   "name": "python3"
  },
  "language_info": {
   "codemirror_mode": {
    "name": "ipython",
    "version": 3
   },
   "file_extension": ".py",
   "mimetype": "text/x-python",
   "name": "python",
   "nbconvert_exporter": "python",
   "pygments_lexer": "ipython3",
   "version": "3.9.13"
  }
 },
 "nbformat": 4,
 "nbformat_minor": 5
}
