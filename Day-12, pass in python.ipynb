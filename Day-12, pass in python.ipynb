{
 "cells": [
  {
   "cell_type": "markdown",
   "id": "0b5bc4a8",
   "metadata": {},
   "source": [
    "## pass is a placeholder to write future code"
   ]
  },
  {
   "cell_type": "code",
   "execution_count": 1,
   "id": "ba821160",
   "metadata": {},
   "outputs": [],
   "source": [
    "if 10 == 10:\n",
    "    pass # it is the place to write a future code"
   ]
  },
  {
   "cell_type": "code",
   "execution_count": 2,
   "id": "07f9fd9e",
   "metadata": {},
   "outputs": [],
   "source": [
    "for i in range(5):\n",
    "    pass"
   ]
  },
  {
   "cell_type": "code",
   "execution_count": 3,
   "id": "63156090",
   "metadata": {},
   "outputs": [],
   "source": [
    "def add(x, y):\n",
    "    pass"
   ]
  },
  {
   "cell_type": "code",
   "execution_count": 4,
   "id": "dc6b800c",
   "metadata": {},
   "outputs": [],
   "source": [
    "class person:\n",
    "    pass"
   ]
  },
  {
   "cell_type": "code",
   "execution_count": null,
   "id": "508e5ddd",
   "metadata": {},
   "outputs": [],
   "source": []
  }
 ],
 "metadata": {
  "kernelspec": {
   "display_name": "Python 3 (ipykernel)",
   "language": "python",
   "name": "python3"
  },
  "language_info": {
   "codemirror_mode": {
    "name": "ipython",
    "version": 3
   },
   "file_extension": ".py",
   "mimetype": "text/x-python",
   "name": "python",
   "nbconvert_exporter": "python",
   "pygments_lexer": "ipython3",
   "version": "3.9.13"
  }
 },
 "nbformat": 4,
 "nbformat_minor": 5
}
