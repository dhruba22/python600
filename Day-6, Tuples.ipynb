{
 "cells": [
  {
   "cell_type": "markdown",
   "id": "573e428c",
   "metadata": {},
   "source": [
    "# you cannot use list method in Tuples"
   ]
  },
  {
   "cell_type": "code",
   "execution_count": null,
   "id": "6844b10b",
   "metadata": {},
   "outputs": [],
   "source": [
    "cars = (\"audi\", \"Mercedes\", \"BMW\")"
   ]
  },
  {
   "cell_type": "code",
   "execution_count": null,
   "id": "c942c733",
   "metadata": {},
   "outputs": [],
   "source": [
    "cars.append(\"Tesla\") # tuple object are immutable no method"
   ]
  },
  {
   "cell_type": "markdown",
   "id": "e22fc94d",
   "metadata": {},
   "source": [
    "# type casting in tuples"
   ]
  },
  {
   "cell_type": "code",
   "execution_count": null,
   "id": "da7386fd",
   "metadata": {},
   "outputs": [],
   "source": [
    "cars = (\"audi\", \"Mercedes\", \"BMW\")"
   ]
  },
  {
   "cell_type": "code",
   "execution_count": null,
   "id": "cbbdd726",
   "metadata": {},
   "outputs": [],
   "source": [
    "id(cars)"
   ]
  },
  {
   "cell_type": "code",
   "execution_count": null,
   "id": "c2acffb4",
   "metadata": {},
   "outputs": [],
   "source": [
    "cars = list(cars) # typecast tuple to list"
   ]
  },
  {
   "cell_type": "code",
   "execution_count": null,
   "id": "ed916b76",
   "metadata": {},
   "outputs": [],
   "source": [
    "cars"
   ]
  },
  {
   "cell_type": "code",
   "execution_count": null,
   "id": "4220edee",
   "metadata": {},
   "outputs": [],
   "source": [
    "cars = tuple(cars)"
   ]
  },
  {
   "cell_type": "code",
   "execution_count": null,
   "id": "7c61f949",
   "metadata": {},
   "outputs": [],
   "source": [
    "cars"
   ]
  },
  {
   "cell_type": "code",
   "execution_count": null,
   "id": "a8897a28",
   "metadata": {},
   "outputs": [],
   "source": [
    "type(cars)"
   ]
  },
  {
   "cell_type": "code",
   "execution_count": null,
   "id": "569b635f",
   "metadata": {},
   "outputs": [],
   "source": [
    "id(cars)"
   ]
  },
  {
   "cell_type": "markdown",
   "id": "8c4f084f",
   "metadata": {},
   "source": [
    "# Loops in tuple"
   ]
  },
  {
   "cell_type": "code",
   "execution_count": 2,
   "id": "20d4d4bb",
   "metadata": {},
   "outputs": [],
   "source": [
    "data = (22,33,1,4,77,50,10)"
   ]
  },
  {
   "cell_type": "code",
   "execution_count": 7,
   "id": "24567602",
   "metadata": {},
   "outputs": [
    {
     "name": "stdout",
     "output_type": "stream",
     "text": [
      "28.142857142857142\n"
     ]
    }
   ],
   "source": [
    "total = 0\n",
    "for index in range(len(data)):\n",
    "    total = total + data[index]\n",
    "mean = total/len(data)\n",
    "print(mean)"
   ]
  },
  {
   "cell_type": "markdown",
   "id": "afa60ac3",
   "metadata": {},
   "source": [
    "# set\n",
    "* a set is a collection of items under one variable name which is unordered, unchangeable and unidexed\n"
   ]
  },
  {
   "cell_type": "code",
   "execution_count": 8,
   "id": "86fa7b85",
   "metadata": {},
   "outputs": [],
   "source": [
    "cities = {'Kathmandu', 'Lalitpur', 'Bhaktapur', 'Pokhara', 'Dharan'}"
   ]
  },
  {
   "cell_type": "code",
   "execution_count": 9,
   "id": "9072dc5e",
   "metadata": {},
   "outputs": [
    {
     "data": {
      "text/plain": [
       "{'Bhaktapur', 'Dharan', 'Kathmandu', 'Lalitpur', 'Pokhara'}"
      ]
     },
     "execution_count": 9,
     "metadata": {},
     "output_type": "execute_result"
    }
   ],
   "source": [
    "cities"
   ]
  },
  {
   "cell_type": "code",
   "execution_count": 10,
   "id": "9c929f13",
   "metadata": {},
   "outputs": [
    {
     "name": "stdout",
     "output_type": "stream",
     "text": [
      "{'Dharan', 'Pokhara', 'Lalitpur', 'Bhaktapur', 'Kathmandu'}\n"
     ]
    }
   ],
   "source": [
    "print(cities)"
   ]
  },
  {
   "cell_type": "code",
   "execution_count": 11,
   "id": "4520f01f",
   "metadata": {},
   "outputs": [
    {
     "ename": "TypeError",
     "evalue": "'set' object is not subscriptable",
     "output_type": "error",
     "traceback": [
      "\u001b[1;31m---------------------------------------------------------------------------\u001b[0m",
      "\u001b[1;31mTypeError\u001b[0m                                 Traceback (most recent call last)",
      "\u001b[1;32m~\\AppData\\Local\\Temp\\ipykernel_10376\\1799457205.py\u001b[0m in \u001b[0;36m<module>\u001b[1;34m\u001b[0m\n\u001b[1;32m----> 1\u001b[1;33m \u001b[0mcities\u001b[0m\u001b[1;33m[\u001b[0m\u001b[1;36m0\u001b[0m\u001b[1;33m]\u001b[0m \u001b[1;31m# unidexed and unchagable\u001b[0m\u001b[1;33m\u001b[0m\u001b[1;33m\u001b[0m\u001b[0m\n\u001b[0m",
      "\u001b[1;31mTypeError\u001b[0m: 'set' object is not subscriptable"
     ]
    }
   ],
   "source": [
    "cities[0] # unidexed and unchagable"
   ]
  },
  {
   "cell_type": "markdown",
   "id": "7acc3471",
   "metadata": {},
   "source": [
    "# set are mutable -- allows to add or remove items"
   ]
  },
  {
   "cell_type": "code",
   "execution_count": 12,
   "id": "28bc2cd9",
   "metadata": {},
   "outputs": [],
   "source": [
    "cities = {'Kathmandu', 'Lalitpur', 'Bhaktapur', 'Pokhara', 'Dharan'}\n",
    "cities.add(\"Dhangadi\")"
   ]
  },
  {
   "cell_type": "code",
   "execution_count": 13,
   "id": "d55cc787",
   "metadata": {},
   "outputs": [
    {
     "data": {
      "text/plain": [
       "{'Bhaktapur', 'Dhangadi', 'Dharan', 'Kathmandu', 'Lalitpur', 'Pokhara'}"
      ]
     },
     "execution_count": 13,
     "metadata": {},
     "output_type": "execute_result"
    }
   ],
   "source": [
    "cities"
   ]
  },
  {
   "cell_type": "code",
   "execution_count": 15,
   "id": "7de81e65",
   "metadata": {},
   "outputs": [],
   "source": [
    "cities.remove(\"Dharan\")"
   ]
  },
  {
   "cell_type": "code",
   "execution_count": 16,
   "id": "cc53c8e6",
   "metadata": {},
   "outputs": [
    {
     "data": {
      "text/plain": [
       "{'Bhaktapur', 'Dhangadi', 'Kathmandu', 'Lalitpur', 'Pokhara'}"
      ]
     },
     "execution_count": 16,
     "metadata": {},
     "output_type": "execute_result"
    }
   ],
   "source": [
    "cities"
   ]
  },
  {
   "cell_type": "code",
   "execution_count": 17,
   "id": "f485c2d5",
   "metadata": {},
   "outputs": [
    {
     "ename": "NameError",
     "evalue": "name 'citis' is not defined",
     "output_type": "error",
     "traceback": [
      "\u001b[1;31m---------------------------------------------------------------------------\u001b[0m",
      "\u001b[1;31mNameError\u001b[0m                                 Traceback (most recent call last)",
      "\u001b[1;32m~\\AppData\\Local\\Temp\\ipykernel_10376\\287527114.py\u001b[0m in \u001b[0;36m<module>\u001b[1;34m\u001b[0m\n\u001b[1;32m----> 1\u001b[1;33m \u001b[0mcitis\u001b[0m\u001b[1;33m.\u001b[0m\u001b[0mdiscard\u001b[0m\u001b[1;33m(\u001b[0m\u001b[1;34m\"Biratnagar\"\u001b[0m\u001b[1;33m)\u001b[0m \u001b[1;31m# if you don't want error use discard\u001b[0m\u001b[1;33m\u001b[0m\u001b[1;33m\u001b[0m\u001b[0m\n\u001b[0m",
      "\u001b[1;31mNameError\u001b[0m: name 'citis' is not defined"
     ]
    }
   ],
   "source": [
    "citis.discard(\"Biratnagar\") # if you don't want error use discard"
   ]
  },
  {
   "cell_type": "markdown",
   "id": "b2669819",
   "metadata": {},
   "source": [
    "# Type casting"
   ]
  },
  {
   "cell_type": "code",
   "execution_count": 18,
   "id": "9a20859b",
   "metadata": {},
   "outputs": [],
   "source": [
    "cities = {'Kathmandu', 'Lalitpur', 'Bhaktapur', 'Pokhara', 'Dharan'}"
   ]
  },
  {
   "cell_type": "code",
   "execution_count": 19,
   "id": "fe320af0",
   "metadata": {},
   "outputs": [
    {
     "data": {
      "text/plain": [
       "set"
      ]
     },
     "execution_count": 19,
     "metadata": {},
     "output_type": "execute_result"
    }
   ],
   "source": [
    "type(cities)"
   ]
  },
  {
   "cell_type": "code",
   "execution_count": 20,
   "id": "7aeffd4a",
   "metadata": {},
   "outputs": [],
   "source": [
    "cities = list(cities)"
   ]
  },
  {
   "cell_type": "code",
   "execution_count": 21,
   "id": "c6cc04d8",
   "metadata": {},
   "outputs": [
    {
     "data": {
      "text/plain": [
       "['Dharan', 'Pokhara', 'Lalitpur', 'Bhaktapur', 'Kathmandu']"
      ]
     },
     "execution_count": 21,
     "metadata": {},
     "output_type": "execute_result"
    }
   ],
   "source": [
    "cities"
   ]
  },
  {
   "cell_type": "code",
   "execution_count": 22,
   "id": "1af96f2f",
   "metadata": {},
   "outputs": [
    {
     "data": {
      "text/plain": [
       "list"
      ]
     },
     "execution_count": 22,
     "metadata": {},
     "output_type": "execute_result"
    }
   ],
   "source": [
    "type(cities)"
   ]
  },
  {
   "cell_type": "code",
   "execution_count": 23,
   "id": "bc5f1955",
   "metadata": {},
   "outputs": [],
   "source": [
    "list1 = [3,44,3,4,1,44]"
   ]
  },
  {
   "cell_type": "code",
   "execution_count": 24,
   "id": "65b431fa",
   "metadata": {},
   "outputs": [
    {
     "data": {
      "text/plain": [
       "{1, 3, 4, 44}"
      ]
     },
     "execution_count": 24,
     "metadata": {},
     "output_type": "execute_result"
    }
   ],
   "source": [
    "set(list1) # set do not allow duplicate values"
   ]
  },
  {
   "cell_type": "markdown",
   "id": "cc221f86",
   "metadata": {},
   "source": [
    "# Set operation in Python: union,intersection,difference"
   ]
  },
  {
   "cell_type": "code",
   "execution_count": 26,
   "id": "64b7759e",
   "metadata": {},
   "outputs": [],
   "source": [
    "A = {\"apple\", \"Banana\", \"cherry\"}\n",
    "B = {\"google\", \"microsoft\", \"apple\"}"
   ]
  },
  {
   "cell_type": "code",
   "execution_count": 27,
   "id": "05d3536b",
   "metadata": {},
   "outputs": [
    {
     "data": {
      "text/plain": [
       "{'apple'}"
      ]
     },
     "execution_count": 27,
     "metadata": {},
     "output_type": "execute_result"
    }
   ],
   "source": [
    "A.intersection(B)"
   ]
  },
  {
   "cell_type": "code",
   "execution_count": 28,
   "id": "c33f68ce",
   "metadata": {},
   "outputs": [
    {
     "data": {
      "text/plain": [
       "{'apple'}"
      ]
     },
     "execution_count": 28,
     "metadata": {},
     "output_type": "execute_result"
    }
   ],
   "source": [
    "B.intersection(A)"
   ]
  },
  {
   "cell_type": "code",
   "execution_count": 29,
   "id": "d7f986a7",
   "metadata": {},
   "outputs": [
    {
     "data": {
      "text/plain": [
       "{'Banana', 'apple', 'cherry', 'google', 'microsoft'}"
      ]
     },
     "execution_count": 29,
     "metadata": {},
     "output_type": "execute_result"
    }
   ],
   "source": [
    "A.union(B)"
   ]
  },
  {
   "cell_type": "code",
   "execution_count": 30,
   "id": "eac0018e",
   "metadata": {},
   "outputs": [
    {
     "data": {
      "text/plain": [
       "{'Banana', 'apple', 'cherry', 'google', 'microsoft'}"
      ]
     },
     "execution_count": 30,
     "metadata": {},
     "output_type": "execute_result"
    }
   ],
   "source": [
    "B.union(A)"
   ]
  },
  {
   "cell_type": "code",
   "execution_count": 31,
   "id": "0c9f4a13",
   "metadata": {},
   "outputs": [
    {
     "data": {
      "text/plain": [
       "{'Banana', 'cherry'}"
      ]
     },
     "execution_count": 31,
     "metadata": {},
     "output_type": "execute_result"
    }
   ],
   "source": [
    "A.difference(B)"
   ]
  },
  {
   "cell_type": "code",
   "execution_count": 32,
   "id": "97a3c8c3",
   "metadata": {},
   "outputs": [
    {
     "data": {
      "text/plain": [
       "{'google', 'microsoft'}"
      ]
     },
     "execution_count": 32,
     "metadata": {},
     "output_type": "execute_result"
    }
   ],
   "source": [
    "B.difference(A)"
   ]
  },
  {
   "cell_type": "code",
   "execution_count": 33,
   "id": "59ae7c41",
   "metadata": {},
   "outputs": [
    {
     "data": {
      "text/plain": [
       "{'Banana', 'cherry'}"
      ]
     },
     "execution_count": 33,
     "metadata": {},
     "output_type": "execute_result"
    }
   ],
   "source": [
    "A - B"
   ]
  },
  {
   "cell_type": "code",
   "execution_count": 34,
   "id": "109fd2e7",
   "metadata": {},
   "outputs": [
    {
     "data": {
      "text/plain": [
       "{'google', 'microsoft'}"
      ]
     },
     "execution_count": 34,
     "metadata": {},
     "output_type": "execute_result"
    }
   ],
   "source": [
    "B-A"
   ]
  },
  {
   "cell_type": "markdown",
   "id": "70a3d524",
   "metadata": {},
   "source": [
    "# Loops in set"
   ]
  },
  {
   "cell_type": "code",
   "execution_count": 35,
   "id": "1113d5c8",
   "metadata": {},
   "outputs": [],
   "source": [
    "cities = {'Kathmandu', 'Lalitpur', 'Bhaktapur', 'Pokhara', 'Dharan'}"
   ]
  },
  {
   "cell_type": "code",
   "execution_count": 37,
   "id": "f0d85a28",
   "metadata": {},
   "outputs": [
    {
     "name": "stdout",
     "output_type": "stream",
     "text": [
      "{'Dharan', 'Pokhara', 'Lalitpur', 'Bhaktapur', 'Kathmandu'}\n"
     ]
    }
   ],
   "source": [
    "print(cities)"
   ]
  },
  {
   "cell_type": "code",
   "execution_count": 43,
   "id": "01301225",
   "metadata": {},
   "outputs": [
    {
     "name": "stdout",
     "output_type": "stream",
     "text": [
      "city: Dharan\n",
      "city: Pokhara\n",
      "city: Lalitpur\n",
      "city: Bhaktapur\n",
      "city: Kathmandu\n"
     ]
    }
   ],
   "source": [
    "for city in cities:\n",
    "    print(\"city:\", city)"
   ]
  },
  {
   "cell_type": "markdown",
   "id": "7ae32761",
   "metadata": {},
   "source": [
    "# Membership Operator\n",
    "* in\n",
    "* not in"
   ]
  },
  {
   "cell_type": "code",
   "execution_count": 44,
   "id": "6b56300e",
   "metadata": {},
   "outputs": [],
   "source": [
    "cities = {'Kathmandu', 'Lalitpur', 'Bhaktapur', 'Pokhara', 'Dharan'}"
   ]
  },
  {
   "cell_type": "code",
   "execution_count": 45,
   "id": "a2b28af8",
   "metadata": {},
   "outputs": [
    {
     "data": {
      "text/plain": [
       "True"
      ]
     },
     "execution_count": 45,
     "metadata": {},
     "output_type": "execute_result"
    }
   ],
   "source": [
    "\"Dharan\" in cities"
   ]
  },
  {
   "cell_type": "code",
   "execution_count": 46,
   "id": "b99778c9",
   "metadata": {},
   "outputs": [
    {
     "data": {
      "text/plain": [
       "True"
      ]
     },
     "execution_count": 46,
     "metadata": {},
     "output_type": "execute_result"
    }
   ],
   "source": [
    "\"Biratnagar\" not in cities"
   ]
  },
  {
   "cell_type": "code",
   "execution_count": 47,
   "id": "0165b360",
   "metadata": {},
   "outputs": [
    {
     "data": {
      "text/plain": [
       "False"
      ]
     },
     "execution_count": 47,
     "metadata": {},
     "output_type": "execute_result"
    }
   ],
   "source": [
    "\"Biratnagar\" in cities"
   ]
  },
  {
   "cell_type": "markdown",
   "id": "a64f776e",
   "metadata": {},
   "source": [
    "# frozenset\n",
    "* immutable version of python set"
   ]
  },
  {
   "cell_type": "code",
   "execution_count": 48,
   "id": "8d3069de",
   "metadata": {},
   "outputs": [],
   "source": [
    "cities = {'Kathmandu', 'Lalitpur', 'Bhaktapur', 'Pokhara', 'Dharan'}"
   ]
  },
  {
   "cell_type": "code",
   "execution_count": 49,
   "id": "a402294f",
   "metadata": {},
   "outputs": [],
   "source": [
    "frozen_cities = frozenset(cities)"
   ]
  },
  {
   "cell_type": "code",
   "execution_count": 50,
   "id": "bd722b0a",
   "metadata": {},
   "outputs": [
    {
     "data": {
      "text/plain": [
       "frozenset({'Bhaktapur', 'Dharan', 'Kathmandu', 'Lalitpur', 'Pokhara'})"
      ]
     },
     "execution_count": 50,
     "metadata": {},
     "output_type": "execute_result"
    }
   ],
   "source": [
    "frozen_cities"
   ]
  },
  {
   "cell_type": "code",
   "execution_count": 51,
   "id": "a6329ac4",
   "metadata": {},
   "outputs": [
    {
     "data": {
      "text/plain": [
       "frozenset"
      ]
     },
     "execution_count": 51,
     "metadata": {},
     "output_type": "execute_result"
    }
   ],
   "source": [
    "type(frozen_cities)"
   ]
  },
  {
   "cell_type": "code",
   "execution_count": 52,
   "id": "e50a0d7b",
   "metadata": {},
   "outputs": [
    {
     "ename": "AttributeError",
     "evalue": "'frozenset' object has no attribute 'add'",
     "output_type": "error",
     "traceback": [
      "\u001b[1;31m---------------------------------------------------------------------------\u001b[0m",
      "\u001b[1;31mAttributeError\u001b[0m                            Traceback (most recent call last)",
      "\u001b[1;32m~\\AppData\\Local\\Temp\\ipykernel_10376\\671545945.py\u001b[0m in \u001b[0;36m<module>\u001b[1;34m\u001b[0m\n\u001b[1;32m----> 1\u001b[1;33m \u001b[0mfrozen_cities\u001b[0m\u001b[1;33m.\u001b[0m\u001b[0madd\u001b[0m\u001b[1;33m(\u001b[0m\u001b[1;34m\"Biratnagar\"\u001b[0m\u001b[1;33m)\u001b[0m\u001b[1;33m\u001b[0m\u001b[1;33m\u001b[0m\u001b[0m\n\u001b[0m",
      "\u001b[1;31mAttributeError\u001b[0m: 'frozenset' object has no attribute 'add'"
     ]
    }
   ],
   "source": [
    "frozen_cities.add(\"Biratnagar\")"
   ]
  },
  {
   "cell_type": "code",
   "execution_count": null,
   "id": "65865582",
   "metadata": {},
   "outputs": [],
   "source": []
  }
 ],
 "metadata": {
  "kernelspec": {
   "display_name": "Python 3 (ipykernel)",
   "language": "python",
   "name": "python3"
  },
  "language_info": {
   "codemirror_mode": {
    "name": "ipython",
    "version": 3
   },
   "file_extension": ".py",
   "mimetype": "text/x-python",
   "name": "python",
   "nbconvert_exporter": "python",
   "pygments_lexer": "ipython3",
   "version": "3.9.13"
  }
 },
 "nbformat": 4,
 "nbformat_minor": 5
}
