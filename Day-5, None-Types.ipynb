{
 "cells": [
  {
   "cell_type": "code",
   "execution_count": 2,
   "id": "a44c751b",
   "metadata": {},
   "outputs": [],
   "source": [
    "x = None"
   ]
  },
  {
   "cell_type": "code",
   "execution_count": 4,
   "id": "5ef1c6e1",
   "metadata": {},
   "outputs": [
    {
     "data": {
      "text/plain": [
       "False"
      ]
     },
     "execution_count": 4,
     "metadata": {},
     "output_type": "execute_result"
    }
   ],
   "source": [
    "x == 0"
   ]
  },
  {
   "cell_type": "code",
   "execution_count": 5,
   "id": "88e4eee3",
   "metadata": {},
   "outputs": [
    {
     "data": {
      "text/plain": [
       "False"
      ]
     },
     "execution_count": 5,
     "metadata": {},
     "output_type": "execute_result"
    }
   ],
   "source": [
    "x == False"
   ]
  },
  {
   "cell_type": "code",
   "execution_count": 6,
   "id": "ca1ce029",
   "metadata": {},
   "outputs": [
    {
     "data": {
      "text/plain": [
       "NoneType"
      ]
     },
     "execution_count": 6,
     "metadata": {},
     "output_type": "execute_result"
    }
   ],
   "source": [
    "type(x)"
   ]
  },
  {
   "cell_type": "markdown",
   "id": "c37e20f5",
   "metadata": {},
   "source": [
    "# Only None can be None"
   ]
  },
  {
   "cell_type": "code",
   "execution_count": 7,
   "id": "248f69fc",
   "metadata": {},
   "outputs": [],
   "source": [
    "x = None"
   ]
  },
  {
   "cell_type": "code",
   "execution_count": 8,
   "id": "fd0a3b42",
   "metadata": {},
   "outputs": [
    {
     "data": {
      "text/plain": [
       "True"
      ]
     },
     "execution_count": 8,
     "metadata": {},
     "output_type": "execute_result"
    }
   ],
   "source": [
    "x == None # it is not to do"
   ]
  },
  {
   "cell_type": "markdown",
   "id": "d0f807a9",
   "metadata": {},
   "source": [
    "# identiry operator in python"
   ]
  },
  {
   "cell_type": "code",
   "execution_count": 9,
   "id": "b4ed059c",
   "metadata": {},
   "outputs": [],
   "source": [
    "x = None"
   ]
  },
  {
   "cell_type": "code",
   "execution_count": 10,
   "id": "569c5b68",
   "metadata": {},
   "outputs": [
    {
     "data": {
      "text/plain": [
       "True"
      ]
     },
     "execution_count": 10,
     "metadata": {},
     "output_type": "execute_result"
    }
   ],
   "source": [
    "x is None # preferred way use this syntax to compare none"
   ]
  },
  {
   "cell_type": "code",
   "execution_count": 11,
   "id": "bab35e43",
   "metadata": {},
   "outputs": [
    {
     "data": {
      "text/plain": [
       "140725593357528"
      ]
     },
     "execution_count": 11,
     "metadata": {},
     "output_type": "execute_result"
    }
   ],
   "source": [
    "id(x)"
   ]
  },
  {
   "cell_type": "code",
   "execution_count": 12,
   "id": "99059de5",
   "metadata": {},
   "outputs": [
    {
     "data": {
      "text/plain": [
       "140725593357528"
      ]
     },
     "execution_count": 12,
     "metadata": {},
     "output_type": "execute_result"
    }
   ],
   "source": [
    "id(None)"
   ]
  },
  {
   "cell_type": "code",
   "execution_count": 14,
   "id": "aa2b1b07",
   "metadata": {},
   "outputs": [],
   "source": [
    "x = None"
   ]
  },
  {
   "cell_type": "code",
   "execution_count": 15,
   "id": "15b42037",
   "metadata": {},
   "outputs": [
    {
     "name": "stdout",
     "output_type": "stream",
     "text": [
      "True\n"
     ]
    }
   ],
   "source": [
    "print(x is None)"
   ]
  },
  {
   "cell_type": "code",
   "execution_count": 16,
   "id": "d68dd4a8",
   "metadata": {},
   "outputs": [
    {
     "name": "stdout",
     "output_type": "stream",
     "text": [
      "False\n"
     ]
    }
   ],
   "source": [
    "print(x is not None)"
   ]
  },
  {
   "cell_type": "code",
   "execution_count": 17,
   "id": "b13db905",
   "metadata": {},
   "outputs": [
    {
     "name": "stdout",
     "output_type": "stream",
     "text": [
      "False\n"
     ]
    }
   ],
   "source": [
    "print(x is float)"
   ]
  },
  {
   "cell_type": "markdown",
   "id": "b14862ec",
   "metadata": {},
   "source": [
    "# tuple \n",
    "* collection of item under one variable name \n",
    "* Immutable\n",
    "* allows duplicate\n",
    "* indexed"
   ]
  },
  {
   "cell_type": "code",
   "execution_count": 19,
   "id": "cc3d4937",
   "metadata": {},
   "outputs": [],
   "source": [
    "cars = ('Audi', 'BMW', 'Mercedes')"
   ]
  },
  {
   "cell_type": "code",
   "execution_count": 20,
   "id": "4a8cafa7",
   "metadata": {},
   "outputs": [
    {
     "data": {
      "text/plain": [
       "('Audi', 'BMW', 'Mercedes')"
      ]
     },
     "execution_count": 20,
     "metadata": {},
     "output_type": "execute_result"
    }
   ],
   "source": [
    "cars"
   ]
  },
  {
   "cell_type": "code",
   "execution_count": 21,
   "id": "2f158a32",
   "metadata": {},
   "outputs": [
    {
     "data": {
      "text/plain": [
       "tuple"
      ]
     },
     "execution_count": 21,
     "metadata": {},
     "output_type": "execute_result"
    }
   ],
   "source": [
    "type(cars)"
   ]
  },
  {
   "cell_type": "markdown",
   "id": "ae8d5e64",
   "metadata": {},
   "source": [
    "# Indexing and slicing in tuple"
   ]
  },
  {
   "cell_type": "code",
   "execution_count": 22,
   "id": "710a5ddb",
   "metadata": {},
   "outputs": [
    {
     "data": {
      "text/plain": [
       "'Audi'"
      ]
     },
     "execution_count": 22,
     "metadata": {},
     "output_type": "execute_result"
    }
   ],
   "source": [
    "cars[0]"
   ]
  },
  {
   "cell_type": "code",
   "execution_count": 23,
   "id": "39723f83",
   "metadata": {},
   "outputs": [
    {
     "data": {
      "text/plain": [
       "'Mercedes'"
      ]
     },
     "execution_count": 23,
     "metadata": {},
     "output_type": "execute_result"
    }
   ],
   "source": [
    "cars[2]"
   ]
  },
  {
   "cell_type": "code",
   "execution_count": 24,
   "id": "5eddb36a",
   "metadata": {},
   "outputs": [
    {
     "data": {
      "text/plain": [
       "('Audi', 'BMW')"
      ]
     },
     "execution_count": 24,
     "metadata": {},
     "output_type": "execute_result"
    }
   ],
   "source": [
    "cars[:2]"
   ]
  },
  {
   "cell_type": "code",
   "execution_count": 25,
   "id": "2b695d6b",
   "metadata": {},
   "outputs": [
    {
     "data": {
      "text/plain": [
       "('BMW', 'Mercedes')"
      ]
     },
     "execution_count": 25,
     "metadata": {},
     "output_type": "execute_result"
    }
   ],
   "source": [
    "cars[1:]"
   ]
  },
  {
   "cell_type": "markdown",
   "id": "42f09b32",
   "metadata": {},
   "source": [
    "# loops in tuple"
   ]
  },
  {
   "cell_type": "code",
   "execution_count": 26,
   "id": "3c996fb5",
   "metadata": {},
   "outputs": [],
   "source": [
    "cars = ('Tesla','Audi','BMW','Mercedes')"
   ]
  },
  {
   "cell_type": "code",
   "execution_count": 27,
   "id": "97b9acb3",
   "metadata": {},
   "outputs": [
    {
     "name": "stdout",
     "output_type": "stream",
     "text": [
      "Tesla\n",
      "Audi\n",
      "BMW\n",
      "Mercedes\n"
     ]
    }
   ],
   "source": [
    "for index in range(len(cars)):\n",
    "    car = cars[index]\n",
    "    print(car)"
   ]
  },
  {
   "cell_type": "code",
   "execution_count": 28,
   "id": "e1ddc545",
   "metadata": {},
   "outputs": [
    {
     "name": "stdout",
     "output_type": "stream",
     "text": [
      "Tesla\n",
      "Audi\n",
      "BMW\n",
      "Mercedes\n"
     ]
    }
   ],
   "source": [
    "for item in cars:\n",
    "    print(item)"
   ]
  },
  {
   "cell_type": "markdown",
   "id": "286a7dfe",
   "metadata": {},
   "source": [
    "# Tupes are immutable"
   ]
  },
  {
   "cell_type": "code",
   "execution_count": 29,
   "id": "acdbc740",
   "metadata": {},
   "outputs": [],
   "source": [
    "cars = ('Tesla','Audi','BMW','Mercedes')"
   ]
  },
  {
   "cell_type": "code",
   "execution_count": 30,
   "id": "8e068fcf",
   "metadata": {},
   "outputs": [
    {
     "data": {
      "text/plain": [
       "'Tesla'"
      ]
     },
     "execution_count": 30,
     "metadata": {},
     "output_type": "execute_result"
    }
   ],
   "source": [
    "cars[0]"
   ]
  },
  {
   "cell_type": "code",
   "execution_count": 31,
   "id": "61799674",
   "metadata": {},
   "outputs": [
    {
     "ename": "TypeError",
     "evalue": "'tuple' object does not support item assignment",
     "output_type": "error",
     "traceback": [
      "\u001b[1;31m---------------------------------------------------------------------------\u001b[0m",
      "\u001b[1;31mTypeError\u001b[0m                                 Traceback (most recent call last)",
      "\u001b[1;32m~\\AppData\\Local\\Temp\\ipykernel_14352\\1771892930.py\u001b[0m in \u001b[0;36m<module>\u001b[1;34m\u001b[0m\n\u001b[1;32m----> 1\u001b[1;33m \u001b[0mcars\u001b[0m\u001b[1;33m[\u001b[0m\u001b[1;36m0\u001b[0m\u001b[1;33m]\u001b[0m \u001b[1;33m=\u001b[0m \u001b[1;34m'Ferrai'\u001b[0m\u001b[1;33m\u001b[0m\u001b[1;33m\u001b[0m\u001b[0m\n\u001b[0m",
      "\u001b[1;31mTypeError\u001b[0m: 'tuple' object does not support item assignment"
     ]
    }
   ],
   "source": [
    "cars[0] = 'Ferrai'"
   ]
  },
  {
   "cell_type": "code",
   "execution_count": null,
   "id": "2cb36533",
   "metadata": {},
   "outputs": [],
   "source": []
  }
 ],
 "metadata": {
  "kernelspec": {
   "display_name": "Python 3 (ipykernel)",
   "language": "python",
   "name": "python3"
  },
  "language_info": {
   "codemirror_mode": {
    "name": "ipython",
    "version": 3
   },
   "file_extension": ".py",
   "mimetype": "text/x-python",
   "name": "python",
   "nbconvert_exporter": "python",
   "pygments_lexer": "ipython3",
   "version": "3.9.13"
  }
 },
 "nbformat": 4,
 "nbformat_minor": 5
}
