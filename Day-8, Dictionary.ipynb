{
 "cells": [
  {
   "cell_type": "markdown",
   "id": "3355baa3",
   "metadata": {},
   "source": [
    "# Dictionary\n",
    "* mapping data Type\n",
    "* syntax:\n",
    "```python {\n",
    "key: value\n",
    "    }```\n",
    "    *no duplicate key"
   ]
  },
  {
   "cell_type": "markdown",
   "id": "6085d342",
   "metadata": {},
   "source": [
    "# Creating empty dictionary"
   ]
  },
  {
   "cell_type": "code",
   "execution_count": 1,
   "id": "7d7cf4ea",
   "metadata": {},
   "outputs": [],
   "source": [
    "about ={}"
   ]
  },
  {
   "cell_type": "code",
   "execution_count": 2,
   "id": "64dd3a19",
   "metadata": {},
   "outputs": [
    {
     "data": {
      "text/plain": [
       "dict"
      ]
     },
     "execution_count": 2,
     "metadata": {},
     "output_type": "execute_result"
    }
   ],
   "source": [
    "type(about)"
   ]
  },
  {
   "cell_type": "code",
   "execution_count": 3,
   "id": "b9d7ff48",
   "metadata": {},
   "outputs": [],
   "source": [
    "about = dict() # alternative way"
   ]
  },
  {
   "cell_type": "code",
   "execution_count": 4,
   "id": "538273d6",
   "metadata": {},
   "outputs": [
    {
     "data": {
      "text/plain": [
       "dict"
      ]
     },
     "execution_count": 4,
     "metadata": {},
     "output_type": "execute_result"
    }
   ],
   "source": [
    "type(about)"
   ]
  },
  {
   "cell_type": "markdown",
   "id": "5dc7dc67",
   "metadata": {},
   "source": [
    "# Adding key value pairs in dictionary"
   ]
  },
  {
   "cell_type": "code",
   "execution_count": 5,
   "id": "164fb365",
   "metadata": {},
   "outputs": [],
   "source": [
    "about = {}"
   ]
  },
  {
   "cell_type": "code",
   "execution_count": 6,
   "id": "b8559ce7",
   "metadata": {},
   "outputs": [],
   "source": [
    "about['name'] = 'Dhruba' # add key value pair"
   ]
  },
  {
   "cell_type": "code",
   "execution_count": 7,
   "id": "2051f618",
   "metadata": {},
   "outputs": [
    {
     "data": {
      "text/plain": [
       "{'name': 'Dhruba'}"
      ]
     },
     "execution_count": 7,
     "metadata": {},
     "output_type": "execute_result"
    }
   ],
   "source": [
    "about"
   ]
  },
  {
   "cell_type": "code",
   "execution_count": 8,
   "id": "f0ecbab8",
   "metadata": {},
   "outputs": [],
   "source": [
    "about.update({'works_at':\"Broadway infosys\"}) # other way to ad key value pair"
   ]
  },
  {
   "cell_type": "code",
   "execution_count": 9,
   "id": "76162df4",
   "metadata": {},
   "outputs": [
    {
     "data": {
      "text/plain": [
       "{'name': 'Dhruba', 'works_at': 'Broadway infosys'}"
      ]
     },
     "execution_count": 9,
     "metadata": {},
     "output_type": "execute_result"
    }
   ],
   "source": [
    "about"
   ]
  },
  {
   "cell_type": "code",
   "execution_count": 10,
   "id": "ff895a1d",
   "metadata": {},
   "outputs": [],
   "source": [
    "about['teaches'] = ['Python', 'Data Science', 'Mechine Learning', 'AI', 'Deep learning']"
   ]
  },
  {
   "cell_type": "code",
   "execution_count": 11,
   "id": "927d4a84",
   "metadata": {},
   "outputs": [
    {
     "data": {
      "text/plain": [
       "{'name': 'Dhruba',\n",
       " 'works_at': 'Broadway infosys',\n",
       " 'teaches': ['Python',\n",
       "  'Data Science',\n",
       "  'Mechine Learning',\n",
       "  'AI',\n",
       "  'Deep learning']}"
      ]
     },
     "execution_count": 11,
     "metadata": {},
     "output_type": "execute_result"
    }
   ],
   "source": [
    "about"
   ]
  },
  {
   "cell_type": "code",
   "execution_count": 12,
   "id": "93655591",
   "metadata": {},
   "outputs": [],
   "source": [
    "about['age'] = 50"
   ]
  },
  {
   "cell_type": "code",
   "execution_count": 13,
   "id": "76802221",
   "metadata": {},
   "outputs": [
    {
     "data": {
      "text/plain": [
       "{'name': 'Dhruba',\n",
       " 'works_at': 'Broadway infosys',\n",
       " 'teaches': ['Python',\n",
       "  'Data Science',\n",
       "  'Mechine Learning',\n",
       "  'AI',\n",
       "  'Deep learning'],\n",
       " 'age': 50}"
      ]
     },
     "execution_count": 13,
     "metadata": {},
     "output_type": "execute_result"
    }
   ],
   "source": [
    "about"
   ]
  },
  {
   "cell_type": "markdown",
   "id": "51337d45",
   "metadata": {},
   "source": [
    "# .update() method adds key value pair if key does not exist if the key exists it updates the value"
   ]
  },
  {
   "cell_type": "code",
   "execution_count": 14,
   "id": "8726911e",
   "metadata": {},
   "outputs": [],
   "source": [
    "about.update({'name': 'Dhruba Karki'})"
   ]
  },
  {
   "cell_type": "code",
   "execution_count": 15,
   "id": "c0c3e107",
   "metadata": {},
   "outputs": [
    {
     "data": {
      "text/plain": [
       "{'name': 'Dhruba Karki',\n",
       " 'works_at': 'Broadway infosys',\n",
       " 'teaches': ['Python',\n",
       "  'Data Science',\n",
       "  'Mechine Learning',\n",
       "  'AI',\n",
       "  'Deep learning'],\n",
       " 'age': 50}"
      ]
     },
     "execution_count": 15,
     "metadata": {},
     "output_type": "execute_result"
    }
   ],
   "source": [
    "about"
   ]
  },
  {
   "cell_type": "markdown",
   "id": "660a2d17",
   "metadata": {},
   "source": [
    "# Create a dictionary with key as country name and value as its capital"
   ]
  },
  {
   "cell_type": "code",
   "execution_count": 16,
   "id": "518d8a3a",
   "metadata": {},
   "outputs": [],
   "source": [
    "country = {\n",
    "    'Nepal': 'Kathmandu', \n",
    "    'India': 'New Delhi', \n",
    "    'Bangladesh': 'Dhaka', \n",
    "    'china': 'Bejing'\n",
    "}"
   ]
  },
  {
   "cell_type": "code",
   "execution_count": 17,
   "id": "b8d1c794",
   "metadata": {},
   "outputs": [
    {
     "data": {
      "text/plain": [
       "{'Nepal': 'Kathmandu',\n",
       " 'India': 'New Delhi',\n",
       " 'Bangladesh': 'Dhaka',\n",
       " 'china': 'Bejing'}"
      ]
     },
     "execution_count": 17,
     "metadata": {},
     "output_type": "execute_result"
    }
   ],
   "source": [
    "country"
   ]
  },
  {
   "cell_type": "code",
   "execution_count": 18,
   "id": "81c9a21c",
   "metadata": {},
   "outputs": [],
   "source": [
    "country.update({'Bhutan': 'Thimpu'})"
   ]
  },
  {
   "cell_type": "code",
   "execution_count": 19,
   "id": "b54142a9",
   "metadata": {},
   "outputs": [
    {
     "data": {
      "text/plain": [
       "{'Nepal': 'Kathmandu',\n",
       " 'India': 'New Delhi',\n",
       " 'Bangladesh': 'Dhaka',\n",
       " 'china': 'Bejing',\n",
       " 'Bhutan': 'Thimpu'}"
      ]
     },
     "execution_count": 19,
     "metadata": {},
     "output_type": "execute_result"
    }
   ],
   "source": [
    "country"
   ]
  },
  {
   "cell_type": "code",
   "execution_count": 20,
   "id": "43dbb50d",
   "metadata": {},
   "outputs": [
    {
     "data": {
      "text/plain": [
       "{'Nepal': 'Kathmandu',\n",
       " 'India': 'New Delhi',\n",
       " 'Bangladesh': 'Dhaka',\n",
       " 'china': 'Bejing',\n",
       " 'Bhutan': 'Thimpu'}"
      ]
     },
     "execution_count": 20,
     "metadata": {},
     "output_type": "execute_result"
    }
   ],
   "source": [
    "country"
   ]
  },
  {
   "cell_type": "code",
   "execution_count": 21,
   "id": "d7a2c2ed",
   "metadata": {},
   "outputs": [],
   "source": [
    "num = {\n",
    "    1: \"one\",\n",
    "    2: \"Two\",\n",
    "    3: \"Three\"\n",
    "}"
   ]
  },
  {
   "cell_type": "code",
   "execution_count": 22,
   "id": "023c2f68",
   "metadata": {},
   "outputs": [
    {
     "data": {
      "text/plain": [
       "{1: 'one', 2: 'Two', 3: 'Three'}"
      ]
     },
     "execution_count": 22,
     "metadata": {},
     "output_type": "execute_result"
    }
   ],
   "source": [
    "num"
   ]
  },
  {
   "cell_type": "code",
   "execution_count": 23,
   "id": "9dd81e08",
   "metadata": {},
   "outputs": [
    {
     "ename": "TypeError",
     "evalue": "unhashable type: 'list'",
     "output_type": "error",
     "traceback": [
      "\u001b[1;31m---------------------------------------------------------------------------\u001b[0m",
      "\u001b[1;31mTypeError\u001b[0m                                 Traceback (most recent call last)",
      "\u001b[1;32m~\\AppData\\Local\\Temp\\ipykernel_1052\\3464607296.py\u001b[0m in \u001b[0;36m<module>\u001b[1;34m\u001b[0m\n\u001b[1;32m----> 1\u001b[1;33m {\n\u001b[0m\u001b[0;32m      2\u001b[0m     \u001b[1;33m[\u001b[0m\u001b[1;34m'one'\u001b[0m\u001b[1;33m,\u001b[0m \u001b[1;34m'two'\u001b[0m\u001b[1;33m]\u001b[0m\u001b[1;33m\u001b[0m\u001b[1;33m\u001b[0m\u001b[0m\n\u001b[0;32m      3\u001b[0m }\n",
      "\u001b[1;31mTypeError\u001b[0m: unhashable type: 'list'"
     ]
    }
   ],
   "source": [
    "{\n",
    "    ['one', 'two']\n",
    "}"
   ]
  },
  {
   "cell_type": "markdown",
   "id": "a98a75f0",
   "metadata": {},
   "source": [
    "# Accessing vales of a key"
   ]
  },
  {
   "cell_type": "code",
   "execution_count": 24,
   "id": "4d6a1d94",
   "metadata": {},
   "outputs": [],
   "source": [
    "Country = {'Nepal': 'Kathmandu',\n",
    " 'India': 'New Delhi',\n",
    " 'Bangladesh': 'Dhaka',\n",
    " 'china': 'Bejing',\n",
    " 'Bhutan': 'Thimpu'}"
   ]
  },
  {
   "cell_type": "code",
   "execution_count": 25,
   "id": "0c772708",
   "metadata": {},
   "outputs": [
    {
     "data": {
      "text/plain": [
       "'Kathmandu'"
      ]
     },
     "execution_count": 25,
     "metadata": {},
     "output_type": "execute_result"
    }
   ],
   "source": [
    "country['Nepal']"
   ]
  },
  {
   "cell_type": "code",
   "execution_count": 26,
   "id": "dd188cfc",
   "metadata": {},
   "outputs": [
    {
     "data": {
      "text/plain": [
       "'New Delhi'"
      ]
     },
     "execution_count": 26,
     "metadata": {},
     "output_type": "execute_result"
    }
   ],
   "source": [
    "country.get('India')"
   ]
  },
  {
   "cell_type": "code",
   "execution_count": 27,
   "id": "bacbbd5b",
   "metadata": {},
   "outputs": [
    {
     "data": {
      "text/plain": [
       "['Nepal', 'India', 'Bangladesh', 'china', 'Bhutan']"
      ]
     },
     "execution_count": 27,
     "metadata": {},
     "output_type": "execute_result"
    }
   ],
   "source": [
    "list(country)"
   ]
  },
  {
   "cell_type": "markdown",
   "id": "0ed2ae49",
   "metadata": {},
   "source": [
    "# what are my keys and values"
   ]
  },
  {
   "cell_type": "code",
   "execution_count": 28,
   "id": "fa178e9b",
   "metadata": {},
   "outputs": [
    {
     "data": {
      "text/plain": [
       "{'Nepal': 'Kathmandu',\n",
       " 'India': 'New Delhi',\n",
       " 'Bangladesh': 'Dhaka',\n",
       " 'china': 'Bejing',\n",
       " 'Bhutan': 'Thimpu'}"
      ]
     },
     "execution_count": 28,
     "metadata": {},
     "output_type": "execute_result"
    }
   ],
   "source": [
    "country"
   ]
  },
  {
   "cell_type": "code",
   "execution_count": 29,
   "id": "6f85f586",
   "metadata": {},
   "outputs": [
    {
     "data": {
      "text/plain": [
       "dict_keys(['Nepal', 'India', 'Bangladesh', 'china', 'Bhutan'])"
      ]
     },
     "execution_count": 29,
     "metadata": {},
     "output_type": "execute_result"
    }
   ],
   "source": [
    "country.keys()"
   ]
  },
  {
   "cell_type": "code",
   "execution_count": 30,
   "id": "83e089a7",
   "metadata": {},
   "outputs": [
    {
     "data": {
      "text/plain": [
       "['Nepal', 'India', 'Bangladesh', 'china', 'Bhutan']"
      ]
     },
     "execution_count": 30,
     "metadata": {},
     "output_type": "execute_result"
    }
   ],
   "source": [
    "list(country.keys())"
   ]
  },
  {
   "cell_type": "code",
   "execution_count": 31,
   "id": "5a58c428",
   "metadata": {},
   "outputs": [
    {
     "data": {
      "text/plain": [
       "dict_values(['Kathmandu', 'New Delhi', 'Dhaka', 'Bejing', 'Thimpu'])"
      ]
     },
     "execution_count": 31,
     "metadata": {},
     "output_type": "execute_result"
    }
   ],
   "source": [
    "country.values()"
   ]
  },
  {
   "cell_type": "code",
   "execution_count": 32,
   "id": "595b7a2d",
   "metadata": {},
   "outputs": [
    {
     "data": {
      "text/plain": [
       "['Kathmandu', 'New Delhi', 'Dhaka', 'Bejing', 'Thimpu']"
      ]
     },
     "execution_count": 32,
     "metadata": {},
     "output_type": "execute_result"
    }
   ],
   "source": [
    "list(country.values())"
   ]
  },
  {
   "cell_type": "code",
   "execution_count": 33,
   "id": "fe3d501b",
   "metadata": {},
   "outputs": [
    {
     "data": {
      "text/plain": [
       "dict_items([('Nepal', 'Kathmandu'), ('India', 'New Delhi'), ('Bangladesh', 'Dhaka'), ('china', 'Bejing'), ('Bhutan', 'Thimpu')])"
      ]
     },
     "execution_count": 33,
     "metadata": {},
     "output_type": "execute_result"
    }
   ],
   "source": [
    "country.items()"
   ]
  },
  {
   "cell_type": "markdown",
   "id": "f06c2914",
   "metadata": {},
   "source": [
    "# tuple unpacking"
   ]
  },
  {
   "cell_type": "code",
   "execution_count": 34,
   "id": "8918ac8d",
   "metadata": {},
   "outputs": [],
   "source": [
    "a, b = (3,4)"
   ]
  },
  {
   "cell_type": "code",
   "execution_count": 35,
   "id": "15c23a2b",
   "metadata": {},
   "outputs": [
    {
     "data": {
      "text/plain": [
       "3"
      ]
     },
     "execution_count": 35,
     "metadata": {},
     "output_type": "execute_result"
    }
   ],
   "source": [
    "a"
   ]
  },
  {
   "cell_type": "code",
   "execution_count": 36,
   "id": "78e444b6",
   "metadata": {},
   "outputs": [
    {
     "data": {
      "text/plain": [
       "4"
      ]
     },
     "execution_count": 36,
     "metadata": {},
     "output_type": "execute_result"
    }
   ],
   "source": [
    "b"
   ]
  },
  {
   "cell_type": "markdown",
   "id": "d6248825",
   "metadata": {},
   "source": [
    "# looping in dictionary"
   ]
  },
  {
   "cell_type": "code",
   "execution_count": 37,
   "id": "cee69702",
   "metadata": {},
   "outputs": [],
   "source": [
    "country = {'Nepal': 'Kathmandu',\n",
    " 'India': 'New Delhi',\n",
    " 'Bangladesh': 'Dhaka',\n",
    " 'china': 'Bejing',\n",
    " 'Bhutan': 'Thimpu'}"
   ]
  },
  {
   "cell_type": "code",
   "execution_count": 38,
   "id": "030dc427",
   "metadata": {},
   "outputs": [
    {
     "data": {
      "text/plain": [
       "dict_items([('Nepal', 'Kathmandu'), ('India', 'New Delhi'), ('Bangladesh', 'Dhaka'), ('china', 'Bejing'), ('Bhutan', 'Thimpu')])"
      ]
     },
     "execution_count": 38,
     "metadata": {},
     "output_type": "execute_result"
    }
   ],
   "source": [
    "country.items()"
   ]
  },
  {
   "cell_type": "code",
   "execution_count": 39,
   "id": "0f47dcd8",
   "metadata": {},
   "outputs": [
    {
     "name": "stdout",
     "output_type": "stream",
     "text": [
      "Nepal\n",
      "India\n",
      "Bangladesh\n",
      "china\n",
      "Bhutan\n"
     ]
    }
   ],
   "source": [
    "for key, value in country.items():\n",
    "    print(key)\n"
   ]
  },
  {
   "cell_type": "code",
   "execution_count": 40,
   "id": "97f8c009",
   "metadata": {},
   "outputs": [
    {
     "name": "stdout",
     "output_type": "stream",
     "text": [
      "Kathmandu\n",
      "New Delhi\n",
      "Dhaka\n",
      "Bejing\n",
      "Thimpu\n"
     ]
    }
   ],
   "source": [
    "for key, value in country.items():\n",
    "    print(value)"
   ]
  },
  {
   "cell_type": "code",
   "execution_count": 41,
   "id": "d2f8b36c",
   "metadata": {},
   "outputs": [
    {
     "name": "stdout",
     "output_type": "stream",
     "text": [
      "Your country is Nepal and your capital city is Kathmandu\n",
      "Your country is India and your capital city is New Delhi\n",
      "Your country is Bangladesh and your capital city is Dhaka\n",
      "Your country is china and your capital city is Bejing\n",
      "Your country is Bhutan and your capital city is Thimpu\n"
     ]
    }
   ],
   "source": [
    "for key, value in country.items():\n",
    "    print(f'Your country is {key} and your capital city is {value}')"
   ]
  },
  {
   "cell_type": "markdown",
   "id": "44480917",
   "metadata": {},
   "source": [
    "# pop(key)"
   ]
  },
  {
   "cell_type": "code",
   "execution_count": 43,
   "id": "a63ca3c1",
   "metadata": {},
   "outputs": [
    {
     "data": {
      "text/plain": [
       "{'Nepal': 'Kathmandu',\n",
       " 'India': 'New Delhi',\n",
       " 'Bangladesh': 'Dhaka',\n",
       " 'china': 'Bejing',\n",
       " 'Bhutan': 'Thimpu'}"
      ]
     },
     "execution_count": 43,
     "metadata": {},
     "output_type": "execute_result"
    }
   ],
   "source": [
    "country"
   ]
  },
  {
   "cell_type": "code",
   "execution_count": 44,
   "id": "a2d9c18c",
   "metadata": {},
   "outputs": [
    {
     "ename": "KeyError",
     "evalue": "'China'",
     "output_type": "error",
     "traceback": [
      "\u001b[1;31m---------------------------------------------------------------------------\u001b[0m",
      "\u001b[1;31mKeyError\u001b[0m                                  Traceback (most recent call last)",
      "\u001b[1;32m~\\AppData\\Local\\Temp\\ipykernel_1052\\3454284299.py\u001b[0m in \u001b[0;36m<module>\u001b[1;34m\u001b[0m\n\u001b[1;32m----> 1\u001b[1;33m \u001b[0mcountry\u001b[0m\u001b[1;33m.\u001b[0m\u001b[0mpop\u001b[0m\u001b[1;33m(\u001b[0m\u001b[1;34m'China'\u001b[0m\u001b[1;33m)\u001b[0m\u001b[1;33m\u001b[0m\u001b[1;33m\u001b[0m\u001b[0m\n\u001b[0m",
      "\u001b[1;31mKeyError\u001b[0m: 'China'"
     ]
    }
   ],
   "source": [
    "country.pop('China')"
   ]
  },
  {
   "cell_type": "code",
   "execution_count": 45,
   "id": "7162f2ed",
   "metadata": {},
   "outputs": [
    {
     "data": {
      "text/plain": [
       "'Bejing'"
      ]
     },
     "execution_count": 45,
     "metadata": {},
     "output_type": "execute_result"
    }
   ],
   "source": [
    "country.pop('china')"
   ]
  },
  {
   "cell_type": "markdown",
   "id": "9700ddd1",
   "metadata": {},
   "source": [
    "# Dictionary comprehension\n",
    "* write a program to swap key value pair from given dictionary"
   ]
  },
  {
   "cell_type": "code",
   "execution_count": 46,
   "id": "6dd5498a",
   "metadata": {},
   "outputs": [],
   "source": [
    "country = {'Nepal': 'Kathmandu',\n",
    " 'India': 'New Delhi',\n",
    " 'Bangladesh': 'Dhaka',\n",
    " 'china': 'Bejing',\n",
    " 'Bhutan': 'Thimpu'}"
   ]
  },
  {
   "cell_type": "code",
   "execution_count": 47,
   "id": "f82390c3",
   "metadata": {},
   "outputs": [
    {
     "data": {
      "text/plain": [
       "{'Kathmandu': 'Nepal',\n",
       " 'New Delhi': 'India',\n",
       " 'Dhaka': 'Bangladesh',\n",
       " 'Bejing': 'china',\n",
       " 'Thimpu': 'Bhutan'}"
      ]
     },
     "execution_count": 47,
     "metadata": {},
     "output_type": "execute_result"
    }
   ],
   "source": [
    "{val: key for key, val in country.items()}"
   ]
  },
  {
   "cell_type": "markdown",
   "id": "26e2b752",
   "metadata": {},
   "source": [
    "# Nested Dictionary"
   ]
  },
  {
   "cell_type": "code",
   "execution_count": 49,
   "id": "03527ad4",
   "metadata": {},
   "outputs": [],
   "source": [
    "children= {\n",
    "    \"child1\": {\"name\": \"Emil\", \"year\": 2004},\n",
    "    \"child2\": {\"name\": \"Tobias\", \"year\": 2007},\n",
    "    \"child3\": {\"name\": \"Linus\", \"year\": 2011}\n",
    "}"
   ]
  },
  {
   "cell_type": "code",
   "execution_count": 50,
   "id": "97d29bc3",
   "metadata": {},
   "outputs": [
    {
     "data": {
      "text/plain": [
       "{'child1': {'name': 'Emil', 'year': 2004},\n",
       " 'child2': {'name': 'Tobias', 'year': 2007},\n",
       " 'child3': {'name': 'Linus', 'year': 2011}}"
      ]
     },
     "execution_count": 50,
     "metadata": {},
     "output_type": "execute_result"
    }
   ],
   "source": [
    "children"
   ]
  },
  {
   "cell_type": "code",
   "execution_count": 51,
   "id": "56bd2864",
   "metadata": {},
   "outputs": [
    {
     "name": "stdout",
     "output_type": "stream",
     "text": [
      "Nepal\n",
      "India\n",
      "Bangladesh\n",
      "china\n",
      "Bhutan\n"
     ]
    }
   ],
   "source": [
    "for key, value in country.items():\n",
    "    print(key)\n"
   ]
  },
  {
   "cell_type": "code",
   "execution_count": 54,
   "id": "a38b751d",
   "metadata": {},
   "outputs": [
    {
     "name": "stdout",
     "output_type": "stream",
     "text": [
      "{'name': 'Emil', 'year': 2004}\n",
      "{'name': 'Tobias', 'year': 2007}\n",
      "{'name': 'Linus', 'year': 2011}\n"
     ]
    }
   ],
   "source": [
    "for key, value in children.items():\n",
    "    print(value)\n"
   ]
  },
  {
   "cell_type": "code",
   "execution_count": 57,
   "id": "f02f4703",
   "metadata": {},
   "outputs": [
    {
     "name": "stdout",
     "output_type": "stream",
     "text": [
      "Emil\n",
      "Tobias\n",
      "Linus\n"
     ]
    }
   ],
   "source": [
    "for key, value in children.items():\n",
    "    child_name = value.get('name')\n",
    "    print(child_name)"
   ]
  },
  {
   "cell_type": "code",
   "execution_count": 59,
   "id": "da14a681",
   "metadata": {},
   "outputs": [
    {
     "name": "stdout",
     "output_type": "stream",
     "text": [
      "2004\n",
      "2007\n",
      "2011\n"
     ]
    }
   ],
   "source": [
    "for key, value in children.items():\n",
    "    child_year = value.get('year')\n",
    "    print(child_year)"
   ]
  },
  {
   "cell_type": "code",
   "execution_count": null,
   "id": "10077284",
   "metadata": {},
   "outputs": [],
   "source": []
  }
 ],
 "metadata": {
  "kernelspec": {
   "display_name": "Python 3 (ipykernel)",
   "language": "python",
   "name": "python3"
  },
  "language_info": {
   "codemirror_mode": {
    "name": "ipython",
    "version": 3
   },
   "file_extension": ".py",
   "mimetype": "text/x-python",
   "name": "python",
   "nbconvert_exporter": "python",
   "pygments_lexer": "ipython3",
   "version": "3.9.13"
  }
 },
 "nbformat": 4,
 "nbformat_minor": 5
}
