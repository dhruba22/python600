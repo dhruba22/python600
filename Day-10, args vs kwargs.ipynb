{
 "cells": [
  {
   "cell_type": "code",
   "execution_count": 1,
   "id": "ebd47e26",
   "metadata": {},
   "outputs": [],
   "source": [
    "def add(x1,x2): # sum only two numbers\n",
    "    return x1 + x2"
   ]
  },
  {
   "cell_type": "markdown",
   "id": "6552baf5",
   "metadata": {},
   "source": [
    "# What if i want to sum n numbers? just like calculator?\n",
    "* Variable length input using `*args` and `**kwargs`"
   ]
  },
  {
   "cell_type": "code",
   "execution_count": 2,
   "id": "f63094eb",
   "metadata": {},
   "outputs": [],
   "source": [
    "def add(*args):\n",
    "    print(type(args))\n",
    "    print(args)"
   ]
  },
  {
   "cell_type": "code",
   "execution_count": 3,
   "id": "092dfb66",
   "metadata": {},
   "outputs": [
    {
     "name": "stdout",
     "output_type": "stream",
     "text": [
      "<class 'tuple'>\n",
      "(1, 2, 3, 4, 5, 6, 7)\n"
     ]
    }
   ],
   "source": [
    "add(1,2,3,4,5,6,7)"
   ]
  },
  {
   "cell_type": "code",
   "execution_count": 4,
   "id": "04767def",
   "metadata": {},
   "outputs": [
    {
     "name": "stdout",
     "output_type": "stream",
     "text": [
      "<class 'tuple'>\n",
      "(3, 4, 5)\n"
     ]
    }
   ],
   "source": [
    "add(3,4,5)"
   ]
  },
  {
   "cell_type": "code",
   "execution_count": 5,
   "id": "f331a171",
   "metadata": {},
   "outputs": [],
   "source": [
    "def add(*args):\n",
    "    total = 0\n",
    "    for item in args:\n",
    "        total = total + item\n",
    "    return total"
   ]
  },
  {
   "cell_type": "code",
   "execution_count": 6,
   "id": "9382bb67",
   "metadata": {},
   "outputs": [
    {
     "data": {
      "text/plain": [
       "28"
      ]
     },
     "execution_count": 6,
     "metadata": {},
     "output_type": "execute_result"
    }
   ],
   "source": [
    "add(1,2,3,4,5,6,7)"
   ]
  },
  {
   "cell_type": "markdown",
   "id": "2f41f45f",
   "metadata": {},
   "source": [
    "# `**kwargs`"
   ]
  },
  {
   "cell_type": "code",
   "execution_count": 7,
   "id": "0e276648",
   "metadata": {},
   "outputs": [],
   "source": [
    "def about(**kwargs): # also its called special keyword\n",
    "    print(kwargs)\n",
    "    print(type(kwargs))"
   ]
  },
  {
   "cell_type": "code",
   "execution_count": 8,
   "id": "3951578c",
   "metadata": {},
   "outputs": [
    {
     "name": "stdout",
     "output_type": "stream",
     "text": [
      "{'name': 'Dhruba', 'teaches': ['Ml', 'AI']}\n",
      "<class 'dict'>\n"
     ]
    }
   ],
   "source": [
    "about(name='Dhruba', teaches = ['Ml', 'AI'])"
   ]
  },
  {
   "cell_type": "code",
   "execution_count": 9,
   "id": "d51296df",
   "metadata": {},
   "outputs": [],
   "source": [
    "def about(**kwargs): # also its called special keyword\n",
    "    print(f'Your name is {kwargs[\"name\"]} and you teach {kwargs[\"teaches\"]}')"
   ]
  },
  {
   "cell_type": "code",
   "execution_count": 10,
   "id": "82dae1ca",
   "metadata": {},
   "outputs": [
    {
     "name": "stdout",
     "output_type": "stream",
     "text": [
      "Your name is Dhruba and you teach ('ML', 'AI')\n"
     ]
    }
   ],
   "source": [
    "about(name= 'Dhruba', teaches = ('ML', 'AI'))"
   ]
  }
 ],
 "metadata": {
  "kernelspec": {
   "display_name": "Python 3 (ipykernel)",
   "language": "python",
   "name": "python3"
  },
  "language_info": {
   "codemirror_mode": {
    "name": "ipython",
    "version": 3
   },
   "file_extension": ".py",
   "mimetype": "text/x-python",
   "name": "python",
   "nbconvert_exporter": "python",
   "pygments_lexer": "ipython3",
   "version": "3.9.13"
  }
 },
 "nbformat": 4,
 "nbformat_minor": 5
}
